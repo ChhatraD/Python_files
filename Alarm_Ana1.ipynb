{
 "cells": [
  {
   "cell_type": "code",
   "execution_count": 1,
   "metadata": {},
   "outputs": [],
   "source": [
    "# import the required libraries for data set\n",
    "\n",
    "import pandas as pd\n",
    "import numpy as np\n",
    "import seaborn as sns\n",
    "import matplotlib.pyplot as plt"
   ]
  },
  {
   "cell_type": "code",
   "execution_count": 38,
   "metadata": {},
   "outputs": [],
   "source": [
    "df= pd.read_csv(\"C:/Users/chhat/Computer_Code/Dummy_Data/alarms_data.csv\")"
   ]
  },
  {
   "cell_type": "code",
   "execution_count": 33,
   "metadata": {},
   "outputs": [
    {
     "data": {
      "text/html": [
       "<div>\n",
       "<style scoped>\n",
       "    .dataframe tbody tr th:only-of-type {\n",
       "        vertical-align: middle;\n",
       "    }\n",
       "\n",
       "    .dataframe tbody tr th {\n",
       "        vertical-align: top;\n",
       "    }\n",
       "\n",
       "    .dataframe thead th {\n",
       "        text-align: right;\n",
       "    }\n",
       "</style>\n",
       "<table border=\"1\" class=\"dataframe\">\n",
       "  <thead>\n",
       "    <tr style=\"text-align: right;\">\n",
       "      <th></th>\n",
       "      <th>Date</th>\n",
       "      <th>Batch_No.</th>\n",
       "      <th>Alarm_Description</th>\n",
       "      <th>Alarm_Category</th>\n",
       "    </tr>\n",
       "  </thead>\n",
       "  <tbody>\n",
       "    <tr>\n",
       "      <th>0</th>\n",
       "      <td>2023-12-09</td>\n",
       "      <td>1236</td>\n",
       "      <td>Unit exactly plant work religious ago tree.</td>\n",
       "      <td>Product Impacting</td>\n",
       "    </tr>\n",
       "    <tr>\n",
       "      <th>1</th>\n",
       "      <td>2024-05-31</td>\n",
       "      <td>8578</td>\n",
       "      <td>Television hand by modern because second notice.</td>\n",
       "      <td>Product Impacting</td>\n",
       "    </tr>\n",
       "    <tr>\n",
       "      <th>2</th>\n",
       "      <td>2024-08-01</td>\n",
       "      <td>3956</td>\n",
       "      <td>Admit president than education away one rule p...</td>\n",
       "      <td>Low Impacting</td>\n",
       "    </tr>\n",
       "    <tr>\n",
       "      <th>3</th>\n",
       "      <td>2023-09-14</td>\n",
       "      <td>9589</td>\n",
       "      <td>Figure person pull book machine admit them.</td>\n",
       "      <td>Non-Impacting</td>\n",
       "    </tr>\n",
       "    <tr>\n",
       "      <th>4</th>\n",
       "      <td>2024-05-06</td>\n",
       "      <td>4665</td>\n",
       "      <td>Would teacher enough.</td>\n",
       "      <td>Non-Impacting</td>\n",
       "    </tr>\n",
       "    <tr>\n",
       "      <th>...</th>\n",
       "      <td>...</td>\n",
       "      <td>...</td>\n",
       "      <td>...</td>\n",
       "      <td>...</td>\n",
       "    </tr>\n",
       "    <tr>\n",
       "      <th>9995</th>\n",
       "      <td>2023-10-12</td>\n",
       "      <td>7299</td>\n",
       "      <td>Field international wear source same trade.</td>\n",
       "      <td>Low Impacting</td>\n",
       "    </tr>\n",
       "    <tr>\n",
       "      <th>9996</th>\n",
       "      <td>2023-12-01</td>\n",
       "      <td>9393</td>\n",
       "      <td>Again owner through.</td>\n",
       "      <td>Product Impacting</td>\n",
       "    </tr>\n",
       "    <tr>\n",
       "      <th>9997</th>\n",
       "      <td>2023-12-29</td>\n",
       "      <td>6170</td>\n",
       "      <td>Door evening rock sense store happen career.</td>\n",
       "      <td>Non-Impacting</td>\n",
       "    </tr>\n",
       "    <tr>\n",
       "      <th>9998</th>\n",
       "      <td>2023-12-19</td>\n",
       "      <td>4506</td>\n",
       "      <td>Kind here try usually seek memory.</td>\n",
       "      <td>Low Impacting</td>\n",
       "    </tr>\n",
       "    <tr>\n",
       "      <th>9999</th>\n",
       "      <td>2024-06-22</td>\n",
       "      <td>1016</td>\n",
       "      <td>Eye husband traditional.</td>\n",
       "      <td>Low Impacting</td>\n",
       "    </tr>\n",
       "  </tbody>\n",
       "</table>\n",
       "<p>10000 rows × 4 columns</p>\n",
       "</div>"
      ],
      "text/plain": [
       "            Date  Batch_No.  \\\n",
       "0     2023-12-09       1236   \n",
       "1     2024-05-31       8578   \n",
       "2     2024-08-01       3956   \n",
       "3     2023-09-14       9589   \n",
       "4     2024-05-06       4665   \n",
       "...          ...        ...   \n",
       "9995  2023-10-12       7299   \n",
       "9996  2023-12-01       9393   \n",
       "9997  2023-12-29       6170   \n",
       "9998  2023-12-19       4506   \n",
       "9999  2024-06-22       1016   \n",
       "\n",
       "                                      Alarm_Description     Alarm_Category  \n",
       "0           Unit exactly plant work religious ago tree.  Product Impacting  \n",
       "1      Television hand by modern because second notice.  Product Impacting  \n",
       "2     Admit president than education away one rule p...      Low Impacting  \n",
       "3           Figure person pull book machine admit them.      Non-Impacting  \n",
       "4                                 Would teacher enough.      Non-Impacting  \n",
       "...                                                 ...                ...  \n",
       "9995        Field international wear source same trade.      Low Impacting  \n",
       "9996                               Again owner through.  Product Impacting  \n",
       "9997       Door evening rock sense store happen career.      Non-Impacting  \n",
       "9998                 Kind here try usually seek memory.      Low Impacting  \n",
       "9999                           Eye husband traditional.      Low Impacting  \n",
       "\n",
       "[10000 rows x 4 columns]"
      ]
     },
     "execution_count": 33,
     "metadata": {},
     "output_type": "execute_result"
    }
   ],
   "source": [
    "df"
   ]
  },
  {
   "cell_type": "code",
   "execution_count": 34,
   "metadata": {},
   "outputs": [
    {
     "data": {
      "text/plain": [
       "731"
      ]
     },
     "execution_count": 34,
     "metadata": {},
     "output_type": "execute_result"
    }
   ],
   "source": [
    "df['Date'].nunique()"
   ]
  },
  {
   "cell_type": "code",
   "execution_count": 5,
   "metadata": {},
   "outputs": [
    {
     "data": {
      "text/plain": [
       "(10000, 4)"
      ]
     },
     "execution_count": 5,
     "metadata": {},
     "output_type": "execute_result"
    }
   ],
   "source": [
    "df.shape"
   ]
  },
  {
   "cell_type": "code",
   "execution_count": 6,
   "metadata": {},
   "outputs": [
    {
     "data": {
      "text/plain": [
       "40000"
      ]
     },
     "execution_count": 6,
     "metadata": {},
     "output_type": "execute_result"
    }
   ],
   "source": [
    "df.size"
   ]
  },
  {
   "cell_type": "code",
   "execution_count": 7,
   "metadata": {},
   "outputs": [
    {
     "name": "stdout",
     "output_type": "stream",
     "text": [
      "<class 'pandas.core.frame.DataFrame'>\n",
      "RangeIndex: 10000 entries, 0 to 9999\n",
      "Data columns (total 4 columns):\n",
      " #   Column             Non-Null Count  Dtype \n",
      "---  ------             --------------  ----- \n",
      " 0   Date               10000 non-null  object\n",
      " 1   Batch_No.          10000 non-null  int64 \n",
      " 2   Alarm_Description  10000 non-null  object\n",
      " 3   Alarm_Category     10000 non-null  object\n",
      "dtypes: int64(1), object(3)\n",
      "memory usage: 312.6+ KB\n"
     ]
    }
   ],
   "source": [
    "df.info()"
   ]
  },
  {
   "cell_type": "code",
   "execution_count": 8,
   "metadata": {},
   "outputs": [],
   "source": [
    "df['Date']=pd.to_datetime(df['Date'], errors= 'coerce')"
   ]
  },
  {
   "cell_type": "code",
   "execution_count": 9,
   "metadata": {},
   "outputs": [
    {
     "data": {
      "text/html": [
       "<div>\n",
       "<style scoped>\n",
       "    .dataframe tbody tr th:only-of-type {\n",
       "        vertical-align: middle;\n",
       "    }\n",
       "\n",
       "    .dataframe tbody tr th {\n",
       "        vertical-align: top;\n",
       "    }\n",
       "\n",
       "    .dataframe thead th {\n",
       "        text-align: right;\n",
       "    }\n",
       "</style>\n",
       "<table border=\"1\" class=\"dataframe\">\n",
       "  <thead>\n",
       "    <tr style=\"text-align: right;\">\n",
       "      <th></th>\n",
       "      <th>Date</th>\n",
       "      <th>Batch_No.</th>\n",
       "      <th>Alarm_Description</th>\n",
       "      <th>Alarm_Category</th>\n",
       "    </tr>\n",
       "  </thead>\n",
       "  <tbody>\n",
       "    <tr>\n",
       "      <th>0</th>\n",
       "      <td>2023-12-09</td>\n",
       "      <td>1236</td>\n",
       "      <td>Unit exactly plant work religious ago tree.</td>\n",
       "      <td>Product Impacting</td>\n",
       "    </tr>\n",
       "    <tr>\n",
       "      <th>1</th>\n",
       "      <td>2024-05-31</td>\n",
       "      <td>8578</td>\n",
       "      <td>Television hand by modern because second notice.</td>\n",
       "      <td>Product Impacting</td>\n",
       "    </tr>\n",
       "    <tr>\n",
       "      <th>2</th>\n",
       "      <td>2024-08-01</td>\n",
       "      <td>3956</td>\n",
       "      <td>Admit president than education away one rule p...</td>\n",
       "      <td>Low Impacting</td>\n",
       "    </tr>\n",
       "    <tr>\n",
       "      <th>3</th>\n",
       "      <td>2023-09-14</td>\n",
       "      <td>9589</td>\n",
       "      <td>Figure person pull book machine admit them.</td>\n",
       "      <td>Non-Impacting</td>\n",
       "    </tr>\n",
       "    <tr>\n",
       "      <th>4</th>\n",
       "      <td>2024-05-06</td>\n",
       "      <td>4665</td>\n",
       "      <td>Would teacher enough.</td>\n",
       "      <td>Non-Impacting</td>\n",
       "    </tr>\n",
       "    <tr>\n",
       "      <th>...</th>\n",
       "      <td>...</td>\n",
       "      <td>...</td>\n",
       "      <td>...</td>\n",
       "      <td>...</td>\n",
       "    </tr>\n",
       "    <tr>\n",
       "      <th>9995</th>\n",
       "      <td>2023-10-12</td>\n",
       "      <td>7299</td>\n",
       "      <td>Field international wear source same trade.</td>\n",
       "      <td>Low Impacting</td>\n",
       "    </tr>\n",
       "    <tr>\n",
       "      <th>9996</th>\n",
       "      <td>2023-12-01</td>\n",
       "      <td>9393</td>\n",
       "      <td>Again owner through.</td>\n",
       "      <td>Product Impacting</td>\n",
       "    </tr>\n",
       "    <tr>\n",
       "      <th>9997</th>\n",
       "      <td>2023-12-29</td>\n",
       "      <td>6170</td>\n",
       "      <td>Door evening rock sense store happen career.</td>\n",
       "      <td>Non-Impacting</td>\n",
       "    </tr>\n",
       "    <tr>\n",
       "      <th>9998</th>\n",
       "      <td>2023-12-19</td>\n",
       "      <td>4506</td>\n",
       "      <td>Kind here try usually seek memory.</td>\n",
       "      <td>Low Impacting</td>\n",
       "    </tr>\n",
       "    <tr>\n",
       "      <th>9999</th>\n",
       "      <td>2024-06-22</td>\n",
       "      <td>1016</td>\n",
       "      <td>Eye husband traditional.</td>\n",
       "      <td>Low Impacting</td>\n",
       "    </tr>\n",
       "  </tbody>\n",
       "</table>\n",
       "<p>10000 rows × 4 columns</p>\n",
       "</div>"
      ],
      "text/plain": [
       "           Date  Batch_No.                                  Alarm_Description  \\\n",
       "0    2023-12-09       1236        Unit exactly plant work religious ago tree.   \n",
       "1    2024-05-31       8578   Television hand by modern because second notice.   \n",
       "2    2024-08-01       3956  Admit president than education away one rule p...   \n",
       "3    2023-09-14       9589        Figure person pull book machine admit them.   \n",
       "4    2024-05-06       4665                              Would teacher enough.   \n",
       "...         ...        ...                                                ...   \n",
       "9995 2023-10-12       7299        Field international wear source same trade.   \n",
       "9996 2023-12-01       9393                               Again owner through.   \n",
       "9997 2023-12-29       6170       Door evening rock sense store happen career.   \n",
       "9998 2023-12-19       4506                 Kind here try usually seek memory.   \n",
       "9999 2024-06-22       1016                           Eye husband traditional.   \n",
       "\n",
       "         Alarm_Category  \n",
       "0     Product Impacting  \n",
       "1     Product Impacting  \n",
       "2         Low Impacting  \n",
       "3         Non-Impacting  \n",
       "4         Non-Impacting  \n",
       "...                 ...  \n",
       "9995      Low Impacting  \n",
       "9996  Product Impacting  \n",
       "9997      Non-Impacting  \n",
       "9998      Low Impacting  \n",
       "9999      Low Impacting  \n",
       "\n",
       "[10000 rows x 4 columns]"
      ]
     },
     "execution_count": 9,
     "metadata": {},
     "output_type": "execute_result"
    }
   ],
   "source": [
    "df"
   ]
  },
  {
   "cell_type": "code",
   "execution_count": 10,
   "metadata": {},
   "outputs": [
    {
     "data": {
      "text/plain": [
       "Date                 datetime64[ns]\n",
       "Batch_No.                     int64\n",
       "Alarm_Description            object\n",
       "Alarm_Category               object\n",
       "dtype: object"
      ]
     },
     "execution_count": 10,
     "metadata": {},
     "output_type": "execute_result"
    }
   ],
   "source": [
    "df.dtypes"
   ]
  },
  {
   "cell_type": "code",
   "execution_count": 11,
   "metadata": {},
   "outputs": [
    {
     "data": {
      "text/plain": [
       "Date                 0\n",
       "Batch_No.            0\n",
       "Alarm_Description    0\n",
       "Alarm_Category       0\n",
       "dtype: int64"
      ]
     },
     "execution_count": 11,
     "metadata": {},
     "output_type": "execute_result"
    }
   ],
   "source": [
    "df.isnull().sum()"
   ]
  },
  {
   "cell_type": "code",
   "execution_count": 12,
   "metadata": {},
   "outputs": [
    {
     "data": {
      "text/plain": [
       "0"
      ]
     },
     "execution_count": 12,
     "metadata": {},
     "output_type": "execute_result"
    }
   ],
   "source": [
    "df.duplicated().sum()"
   ]
  },
  {
   "cell_type": "code",
   "execution_count": 35,
   "metadata": {},
   "outputs": [
    {
     "data": {
      "text/plain": [
       "array(['Product Impacting', 'Low Impacting', 'Non-Impacting'],\n",
       "      dtype=object)"
      ]
     },
     "execution_count": 35,
     "metadata": {},
     "output_type": "execute_result"
    }
   ],
   "source": [
    "df['Alarm_Category'].unique()"
   ]
  },
  {
   "cell_type": "code",
   "execution_count": 36,
   "metadata": {},
   "outputs": [],
   "source": []
  },
  {
   "cell_type": "code",
   "execution_count": 37,
   "metadata": {},
   "outputs": [
    {
     "data": {
      "text/html": [
       "<div>\n",
       "<style scoped>\n",
       "    .dataframe tbody tr th:only-of-type {\n",
       "        vertical-align: middle;\n",
       "    }\n",
       "\n",
       "    .dataframe tbody tr th {\n",
       "        vertical-align: top;\n",
       "    }\n",
       "\n",
       "    .dataframe thead th {\n",
       "        text-align: right;\n",
       "    }\n",
       "</style>\n",
       "<table border=\"1\" class=\"dataframe\">\n",
       "  <thead>\n",
       "    <tr style=\"text-align: right;\">\n",
       "      <th></th>\n",
       "      <th>Date</th>\n",
       "      <th>Batch_No.</th>\n",
       "      <th>Alarm_Description</th>\n",
       "      <th>Alarm_Category</th>\n",
       "    </tr>\n",
       "  </thead>\n",
       "  <tbody>\n",
       "    <tr>\n",
       "      <th>0</th>\n",
       "      <td>2023-12-09</td>\n",
       "      <td>1236</td>\n",
       "      <td>Unit exactly plant work religious ago tree.</td>\n",
       "      <td>Product Impacting</td>\n",
       "    </tr>\n",
       "    <tr>\n",
       "      <th>1</th>\n",
       "      <td>2024-05-31</td>\n",
       "      <td>8578</td>\n",
       "      <td>Television hand by modern because second notice.</td>\n",
       "      <td>Product Impacting</td>\n",
       "    </tr>\n",
       "    <tr>\n",
       "      <th>2</th>\n",
       "      <td>2024-08-01</td>\n",
       "      <td>3956</td>\n",
       "      <td>Admit president than education away one rule p...</td>\n",
       "      <td>NaN</td>\n",
       "    </tr>\n",
       "    <tr>\n",
       "      <th>3</th>\n",
       "      <td>2023-09-14</td>\n",
       "      <td>9589</td>\n",
       "      <td>Figure person pull book machine admit them.</td>\n",
       "      <td>NaN</td>\n",
       "    </tr>\n",
       "    <tr>\n",
       "      <th>4</th>\n",
       "      <td>2024-05-06</td>\n",
       "      <td>4665</td>\n",
       "      <td>Would teacher enough.</td>\n",
       "      <td>NaN</td>\n",
       "    </tr>\n",
       "    <tr>\n",
       "      <th>...</th>\n",
       "      <td>...</td>\n",
       "      <td>...</td>\n",
       "      <td>...</td>\n",
       "      <td>...</td>\n",
       "    </tr>\n",
       "    <tr>\n",
       "      <th>9995</th>\n",
       "      <td>2023-10-12</td>\n",
       "      <td>7299</td>\n",
       "      <td>Field international wear source same trade.</td>\n",
       "      <td>NaN</td>\n",
       "    </tr>\n",
       "    <tr>\n",
       "      <th>9996</th>\n",
       "      <td>2023-12-01</td>\n",
       "      <td>9393</td>\n",
       "      <td>Again owner through.</td>\n",
       "      <td>Product Impacting</td>\n",
       "    </tr>\n",
       "    <tr>\n",
       "      <th>9997</th>\n",
       "      <td>2023-12-29</td>\n",
       "      <td>6170</td>\n",
       "      <td>Door evening rock sense store happen career.</td>\n",
       "      <td>NaN</td>\n",
       "    </tr>\n",
       "    <tr>\n",
       "      <th>9998</th>\n",
       "      <td>2023-12-19</td>\n",
       "      <td>4506</td>\n",
       "      <td>Kind here try usually seek memory.</td>\n",
       "      <td>NaN</td>\n",
       "    </tr>\n",
       "    <tr>\n",
       "      <th>9999</th>\n",
       "      <td>2024-06-22</td>\n",
       "      <td>1016</td>\n",
       "      <td>Eye husband traditional.</td>\n",
       "      <td>NaN</td>\n",
       "    </tr>\n",
       "  </tbody>\n",
       "</table>\n",
       "<p>10000 rows × 4 columns</p>\n",
       "</div>"
      ],
      "text/plain": [
       "            Date  Batch_No.  \\\n",
       "0     2023-12-09       1236   \n",
       "1     2024-05-31       8578   \n",
       "2     2024-08-01       3956   \n",
       "3     2023-09-14       9589   \n",
       "4     2024-05-06       4665   \n",
       "...          ...        ...   \n",
       "9995  2023-10-12       7299   \n",
       "9996  2023-12-01       9393   \n",
       "9997  2023-12-29       6170   \n",
       "9998  2023-12-19       4506   \n",
       "9999  2024-06-22       1016   \n",
       "\n",
       "                                      Alarm_Description     Alarm_Category  \n",
       "0           Unit exactly plant work religious ago tree.  Product Impacting  \n",
       "1      Television hand by modern because second notice.  Product Impacting  \n",
       "2     Admit president than education away one rule p...                NaN  \n",
       "3           Figure person pull book machine admit them.                NaN  \n",
       "4                                 Would teacher enough.                NaN  \n",
       "...                                                 ...                ...  \n",
       "9995        Field international wear source same trade.                NaN  \n",
       "9996                               Again owner through.  Product Impacting  \n",
       "9997       Door evening rock sense store happen career.                NaN  \n",
       "9998                 Kind here try usually seek memory.                NaN  \n",
       "9999                           Eye husband traditional.                NaN  \n",
       "\n",
       "[10000 rows x 4 columns]"
      ]
     },
     "execution_count": 37,
     "metadata": {},
     "output_type": "execute_result"
    }
   ],
   "source": [
    "df"
   ]
  },
  {
   "cell_type": "code",
   "execution_count": 50,
   "metadata": {},
   "outputs": [],
   "source": [
    "# Step 1: Filter rows where 'Alarm_Category' is 'Product Impacting'\n",
    "product_impacting_df = df[df['Alarm_Category'] == 'Product Impacting']\n",
    "\n",
    "# Step 2: Sort the filtered rows by a specific column, e.g., 'datetime'\n",
    "sorted_product_impacting_df = product_impacting_df.sort_values(by='Batch_No.')\n",
    "\n"
   ]
  },
  {
   "cell_type": "code",
   "execution_count": 51,
   "metadata": {},
   "outputs": [
    {
     "data": {
      "text/html": [
       "<div>\n",
       "<style scoped>\n",
       "    .dataframe tbody tr th:only-of-type {\n",
       "        vertical-align: middle;\n",
       "    }\n",
       "\n",
       "    .dataframe tbody tr th {\n",
       "        vertical-align: top;\n",
       "    }\n",
       "\n",
       "    .dataframe thead th {\n",
       "        text-align: right;\n",
       "    }\n",
       "</style>\n",
       "<table border=\"1\" class=\"dataframe\">\n",
       "  <thead>\n",
       "    <tr style=\"text-align: right;\">\n",
       "      <th></th>\n",
       "      <th>Date</th>\n",
       "      <th>Batch_No.</th>\n",
       "      <th>Alarm_Description</th>\n",
       "      <th>Alarm_Category</th>\n",
       "    </tr>\n",
       "  </thead>\n",
       "  <tbody>\n",
       "    <tr>\n",
       "      <th>853</th>\n",
       "      <td>2023-04-13</td>\n",
       "      <td>1000</td>\n",
       "      <td>Ball peace accept contain machine safe speech.</td>\n",
       "      <td>Product Impacting</td>\n",
       "    </tr>\n",
       "    <tr>\n",
       "      <th>3829</th>\n",
       "      <td>2023-03-19</td>\n",
       "      <td>1001</td>\n",
       "      <td>South political system drop.</td>\n",
       "      <td>Product Impacting</td>\n",
       "    </tr>\n",
       "    <tr>\n",
       "      <th>9356</th>\n",
       "      <td>2023-05-12</td>\n",
       "      <td>1001</td>\n",
       "      <td>Practice vote think however admit field rest.</td>\n",
       "      <td>Product Impacting</td>\n",
       "    </tr>\n",
       "    <tr>\n",
       "      <th>8658</th>\n",
       "      <td>2022-11-02</td>\n",
       "      <td>1008</td>\n",
       "      <td>Building single heavy remain reduce yes.</td>\n",
       "      <td>Product Impacting</td>\n",
       "    </tr>\n",
       "    <tr>\n",
       "      <th>2647</th>\n",
       "      <td>2024-02-14</td>\n",
       "      <td>1012</td>\n",
       "      <td>Stop always growth few poor increase rate.</td>\n",
       "      <td>Product Impacting</td>\n",
       "    </tr>\n",
       "    <tr>\n",
       "      <th>...</th>\n",
       "      <td>...</td>\n",
       "      <td>...</td>\n",
       "      <td>...</td>\n",
       "      <td>...</td>\n",
       "    </tr>\n",
       "    <tr>\n",
       "      <th>5858</th>\n",
       "      <td>2023-07-20</td>\n",
       "      <td>9984</td>\n",
       "      <td>Often national case true market member keep.</td>\n",
       "      <td>Product Impacting</td>\n",
       "    </tr>\n",
       "    <tr>\n",
       "      <th>1023</th>\n",
       "      <td>2023-07-24</td>\n",
       "      <td>9987</td>\n",
       "      <td>Window major story PM strong.</td>\n",
       "      <td>Product Impacting</td>\n",
       "    </tr>\n",
       "    <tr>\n",
       "      <th>987</th>\n",
       "      <td>2024-08-24</td>\n",
       "      <td>9988</td>\n",
       "      <td>On environment remember end police upon writer.</td>\n",
       "      <td>Product Impacting</td>\n",
       "    </tr>\n",
       "    <tr>\n",
       "      <th>9406</th>\n",
       "      <td>2024-01-26</td>\n",
       "      <td>9988</td>\n",
       "      <td>Air arm other real.</td>\n",
       "      <td>Product Impacting</td>\n",
       "    </tr>\n",
       "    <tr>\n",
       "      <th>3828</th>\n",
       "      <td>2024-07-31</td>\n",
       "      <td>9990</td>\n",
       "      <td>Century return political here history she nice.</td>\n",
       "      <td>Product Impacting</td>\n",
       "    </tr>\n",
       "  </tbody>\n",
       "</table>\n",
       "<p>3325 rows × 4 columns</p>\n",
       "</div>"
      ],
      "text/plain": [
       "            Date  Batch_No.                                Alarm_Description  \\\n",
       "853   2023-04-13       1000   Ball peace accept contain machine safe speech.   \n",
       "3829  2023-03-19       1001                     South political system drop.   \n",
       "9356  2023-05-12       1001    Practice vote think however admit field rest.   \n",
       "8658  2022-11-02       1008         Building single heavy remain reduce yes.   \n",
       "2647  2024-02-14       1012       Stop always growth few poor increase rate.   \n",
       "...          ...        ...                                              ...   \n",
       "5858  2023-07-20       9984     Often national case true market member keep.   \n",
       "1023  2023-07-24       9987                    Window major story PM strong.   \n",
       "987   2024-08-24       9988  On environment remember end police upon writer.   \n",
       "9406  2024-01-26       9988                              Air arm other real.   \n",
       "3828  2024-07-31       9990  Century return political here history she nice.   \n",
       "\n",
       "         Alarm_Category  \n",
       "853   Product Impacting  \n",
       "3829  Product Impacting  \n",
       "9356  Product Impacting  \n",
       "8658  Product Impacting  \n",
       "2647  Product Impacting  \n",
       "...                 ...  \n",
       "5858  Product Impacting  \n",
       "1023  Product Impacting  \n",
       "987   Product Impacting  \n",
       "9406  Product Impacting  \n",
       "3828  Product Impacting  \n",
       "\n",
       "[3325 rows x 4 columns]"
      ]
     },
     "execution_count": 51,
     "metadata": {},
     "output_type": "execute_result"
    }
   ],
   "source": [
    "sorted_product_impacting_df"
   ]
  },
  {
   "cell_type": "code",
   "execution_count": 1,
   "metadata": {},
   "outputs": [],
   "source": []
  },
  {
   "cell_type": "code",
   "execution_count": null,
   "metadata": {},
   "outputs": [],
   "source": []
  }
 ],
 "metadata": {
  "kernelspec": {
   "display_name": "Python 3",
   "language": "python",
   "name": "python3"
  },
  "language_info": {
   "codemirror_mode": {
    "name": "ipython",
    "version": 3
   },
   "file_extension": ".py",
   "mimetype": "text/x-python",
   "name": "python",
   "nbconvert_exporter": "python",
   "pygments_lexer": "ipython3",
   "version": "3.12.1"
  }
 },
 "nbformat": 4,
 "nbformat_minor": 2
}
