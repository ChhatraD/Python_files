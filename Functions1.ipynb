{
 "cells": [
  {
   "cell_type": "code",
   "execution_count": 151,
   "id": "c8cfe35b",
   "metadata": {
    "collapsed": true
   },
   "outputs": [],
   "source": [
    "def greet():\n",
    "    print(\"Hi there\")\n",
    "    print(\"Welcome aboard\")"
   ]
  },
  {
   "cell_type": "code",
   "execution_count": 152,
   "id": "5f3a50ae",
   "metadata": {},
   "outputs": [
    {
     "name": "stdout",
     "output_type": "stream",
     "text": [
      "Hi there\n",
      "Welcome aboard\n"
     ]
    }
   ],
   "source": [
    "greet()"
   ]
  },
  {
   "cell_type": "code",
   "execution_count": 153,
   "id": "562f68c7",
   "metadata": {
    "collapsed": true
   },
   "outputs": [],
   "source": [
    "def greet(first_name, last_name):\n",
    "    print(f\"Hi {first_name} {last_name}\")\n",
    "    print(\"Welcome aboard\")"
   ]
  },
  {
   "cell_type": "code",
   "execution_count": 154,
   "id": "5f186101",
   "metadata": {},
   "outputs": [
    {
     "name": "stdout",
     "output_type": "stream",
     "text": [
      "Hi ram chhatra\n",
      "Welcome aboard\n"
     ]
    }
   ],
   "source": [
    "greet(\"ram\", \"chhatra\")"
   ]
  },
  {
   "cell_type": "code",
   "execution_count": 155,
   "id": "94748a75",
   "metadata": {},
   "outputs": [
    {
     "name": "stdout",
     "output_type": "stream",
     "text": [
      "Hi John Michael\n",
      "Welcome aboard\n"
     ]
    }
   ],
   "source": [
    "greet(\"John\", \"Michael\")"
   ]
  },
  {
   "cell_type": "markdown",
   "id": "dea94f7b",
   "metadata": {},
   "source": [
    "### What is the difference between arguments and parameters\n",
    "\n",
    "Parameters is the input that you define for your function like first_name and last_name is the parameters of above function\n",
    "\n",
    "Arguments is the actual value for a given parameters like ram and chhatra is the arguments for above function"
   ]
  },
  {
   "cell_type": "code",
   "execution_count": 156,
   "id": "b828bf4f",
   "metadata": {
    "collapsed": true
   },
   "outputs": [],
   "source": [
    "# two types of functions\n",
    "\n",
    "# 1. Perform a task\n",
    "# 2. Return a value"
   ]
  },
  {
   "cell_type": "code",
   "execution_count": 157,
   "id": "b9e69426",
   "metadata": {
    "collapsed": true
   },
   "outputs": [],
   "source": [
    "def greet(name): # this is a type of perform a task function\n",
    "    print(f\"Hi {name}\")"
   ]
  },
  {
   "cell_type": "code",
   "execution_count": 158,
   "id": "6917de8f",
   "metadata": {},
   "outputs": [
    {
     "name": "stdout",
     "output_type": "stream",
     "text": [
      "Hi Chhatra\n"
     ]
    }
   ],
   "source": [
    "greet(\"Chhatra\")"
   ]
  },
  {
   "cell_type": "code",
   "execution_count": 159,
   "id": "9a030fdf",
   "metadata": {
    "collapsed": true
   },
   "outputs": [],
   "source": [
    "def get_greeting(name):\n",
    "    return f\"Hi {name}\"\n"
   ]
  },
  {
   "cell_type": "code",
   "execution_count": 160,
   "id": "64e2f6ad",
   "metadata": {},
   "outputs": [
    {
     "data": {
      "text/plain": [
       "'Hi Chhatra'"
      ]
     },
     "execution_count": 160,
     "metadata": {},
     "output_type": "execute_result"
    }
   ],
   "source": [
    "get_greeting(\"Chhatra\")"
   ]
  },
  {
   "cell_type": "code",
   "execution_count": 161,
   "id": "c9382495",
   "metadata": {},
   "outputs": [
    {
     "name": "stdout",
     "output_type": "stream",
     "text": [
      "Hi Chhatra\n"
     ]
    }
   ],
   "source": [
    "message = get_greeting(\"Chhatra\")\n",
    "print(message)"
   ]
  },
  {
   "cell_type": "markdown",
   "id": "a4a19718",
   "metadata": {},
   "source": [
    "### Keywords arguments"
   ]
  },
  {
   "cell_type": "code",
   "execution_count": 162,
   "id": "64a505a2",
   "metadata": {
    "collapsed": true
   },
   "outputs": [],
   "source": [
    "# keyword arguments\n",
    "\n",
    "def increment(number, by):\n",
    "    return number + by"
   ]
  },
  {
   "cell_type": "code",
   "execution_count": 163,
   "id": "b6d36b53",
   "metadata": {},
   "outputs": [
    {
     "data": {
      "text/plain": [
       "3"
      ]
     },
     "execution_count": 163,
     "metadata": {},
     "output_type": "execute_result"
    }
   ],
   "source": [
    "increment(2,1)"
   ]
  },
  {
   "cell_type": "code",
   "execution_count": 164,
   "id": "cfac41d3",
   "metadata": {},
   "outputs": [
    {
     "name": "stdout",
     "output_type": "stream",
     "text": [
      "3\n"
     ]
    }
   ],
   "source": [
    "print(increment(2,1))"
   ]
  },
  {
   "cell_type": "code",
   "execution_count": 165,
   "id": "7555f998",
   "metadata": {},
   "outputs": [
    {
     "name": "stdout",
     "output_type": "stream",
     "text": [
      "3\n"
     ]
    }
   ],
   "source": [
    "print(increment(2, by=1))"
   ]
  },
  {
   "cell_type": "code",
   "execution_count": 166,
   "id": "09e487d2",
   "metadata": {
    "collapsed": true
   },
   "outputs": [],
   "source": [
    "# keyword arguments\n",
    "\n",
    "def increment(a, b):\n",
    "    return a + b"
   ]
  },
  {
   "cell_type": "code",
   "execution_count": 167,
   "id": "886e27af",
   "metadata": {},
   "outputs": [
    {
     "data": {
      "text/plain": [
       "5"
      ]
     },
     "execution_count": 167,
     "metadata": {},
     "output_type": "execute_result"
    }
   ],
   "source": [
    "increment(2,3)"
   ]
  },
  {
   "cell_type": "code",
   "execution_count": 168,
   "id": "f6844a44",
   "metadata": {},
   "outputs": [
    {
     "data": {
      "text/plain": [
       "11"
      ]
     },
     "execution_count": 168,
     "metadata": {},
     "output_type": "execute_result"
    }
   ],
   "source": [
    "increment(a=5, b=6)"
   ]
  },
  {
   "cell_type": "code",
   "execution_count": 169,
   "id": "81f11df6",
   "metadata": {
    "collapsed": true
   },
   "outputs": [],
   "source": [
    "# keyword arguments\n",
    "\n",
    "def increment(a=8, b=5):\n",
    "    return a + b"
   ]
  },
  {
   "cell_type": "code",
   "execution_count": 170,
   "id": "d89e4231",
   "metadata": {},
   "outputs": [
    {
     "data": {
      "text/plain": [
       "13"
      ]
     },
     "execution_count": 170,
     "metadata": {},
     "output_type": "execute_result"
    }
   ],
   "source": [
    "increment()"
   ]
  },
  {
   "cell_type": "code",
   "execution_count": 171,
   "id": "6d8db756",
   "metadata": {},
   "outputs": [
    {
     "data": {
      "text/plain": [
       "15"
      ]
     },
     "execution_count": 171,
     "metadata": {},
     "output_type": "execute_result"
    }
   ],
   "source": [
    "increment(6, 9)"
   ]
  },
  {
   "cell_type": "code",
   "execution_count": 172,
   "id": "21dd337e",
   "metadata": {},
   "outputs": [
    {
     "name": "stdout",
     "output_type": "stream",
     "text": [
      "13\n"
     ]
    }
   ],
   "source": [
    "print(increment())"
   ]
  },
  {
   "cell_type": "code",
   "execution_count": 173,
   "id": "c74211e8",
   "metadata": {},
   "outputs": [
    {
     "name": "stdout",
     "output_type": "stream",
     "text": [
      "13\n"
     ]
    }
   ],
   "source": [
    "print(increment(8))"
   ]
  },
  {
   "cell_type": "code",
   "execution_count": 174,
   "id": "558b7dd0",
   "metadata": {},
   "outputs": [
    {
     "name": "stdout",
     "output_type": "stream",
     "text": [
      "11\n"
     ]
    }
   ],
   "source": [
    "print(increment(9, 2))"
   ]
  },
  {
   "cell_type": "code",
   "execution_count": 175,
   "id": "36d8daad",
   "metadata": {
    "collapsed": true
   },
   "outputs": [],
   "source": [
    "# use of *arg\n",
    "\n",
    "def multiply(x, y):\n",
    "    return x*y"
   ]
  },
  {
   "cell_type": "code",
   "execution_count": 176,
   "id": "906a5f42",
   "metadata": {},
   "outputs": [
    {
     "data": {
      "text/plain": [
       "6"
      ]
     },
     "execution_count": 176,
     "metadata": {},
     "output_type": "execute_result"
    }
   ],
   "source": [
    "multiply(2,3)"
   ]
  },
  {
   "cell_type": "code",
   "execution_count": 177,
   "id": "7113f3bb",
   "metadata": {
    "collapsed": true
   },
   "outputs": [],
   "source": [
    "def multiply(*numbers):\n",
    "    total = 1\n",
    "    for number in numbers:\n",
    "        total *= number\n",
    "    return total"
   ]
  },
  {
   "cell_type": "code",
   "execution_count": 178,
   "id": "1b9e6dff",
   "metadata": {},
   "outputs": [
    {
     "data": {
      "text/plain": [
       "8"
      ]
     },
     "execution_count": 178,
     "metadata": {},
     "output_type": "execute_result"
    }
   ],
   "source": [
    "multiply(2,4)"
   ]
  },
  {
   "cell_type": "code",
   "execution_count": 179,
   "id": "6f38ee2a",
   "metadata": {},
   "outputs": [
    {
     "name": "stdout",
     "output_type": "stream",
     "text": [
      "160\n"
     ]
    }
   ],
   "source": [
    "print(multiply(2,4,4,5))"
   ]
  },
  {
   "cell_type": "code",
   "execution_count": 180,
   "id": "b393e0b0",
   "metadata": {},
   "outputs": [
    {
     "name": "stdout",
     "output_type": "stream",
     "text": [
      "720\n"
     ]
    }
   ],
   "source": [
    "print(multiply(4,5,6,6))"
   ]
  },
  {
   "cell_type": "code",
   "execution_count": 181,
   "id": "fa7703cf",
   "metadata": {
    "collapsed": true
   },
   "outputs": [],
   "source": [
    "# use of **args\n",
    "\n",
    "def save_user(**user):\n",
    "    print(user)"
   ]
  },
  {
   "cell_type": "code",
   "execution_count": 182,
   "id": "c6e7f6e6",
   "metadata": {},
   "outputs": [
    {
     "name": "stdout",
     "output_type": "stream",
     "text": [
      "{}\n"
     ]
    }
   ],
   "source": [
    "save_user()"
   ]
  },
  {
   "cell_type": "code",
   "execution_count": 183,
   "id": "5ffd6eed",
   "metadata": {},
   "outputs": [
    {
     "name": "stdout",
     "output_type": "stream",
     "text": [
      "{'id': 1, 'name': 'Ram', 'age': 28}\n"
     ]
    }
   ],
   "source": [
    "save_user(id=1, name=\"Ram\", age=28)"
   ]
  },
  {
   "cell_type": "code",
   "execution_count": null,
   "id": "9fb2a07a",
   "metadata": {},
   "outputs": [],
   "source": []
  },
  {
   "cell_type": "code",
   "execution_count": 184,
   "id": "1249d8e4",
   "metadata": {
    "collapsed": true
   },
   "outputs": [],
   "source": [
    "# use of **args\n",
    "\n",
    "def save_user(**user):\n",
    "    print(user[\"name\"])"
   ]
  },
  {
   "cell_type": "code",
   "execution_count": 54,
   "id": "20fdb697",
   "metadata": {},
   "outputs": [
    {
     "ename": "KeyError",
     "evalue": "'id'",
     "output_type": "error",
     "traceback": [
      "\u001b[1;31m---------------------------------------------------------------------------\u001b[0m",
      "\u001b[1;31mKeyError\u001b[0m                                  Traceback (most recent call last)",
      "Cell \u001b[1;32mIn[54], line 1\u001b[0m\n\u001b[1;32m----> 1\u001b[0m save_user()\n",
      "Cell \u001b[1;32mIn[53], line 4\u001b[0m, in \u001b[0;36msave_user\u001b[1;34m(**user)\u001b[0m\n\u001b[0;32m      3\u001b[0m \u001b[38;5;28;01mdef\u001b[39;00m \u001b[38;5;21msave_user\u001b[39m(\u001b[38;5;241m*\u001b[39m\u001b[38;5;241m*\u001b[39muser):\n\u001b[1;32m----> 4\u001b[0m     \u001b[38;5;28mprint\u001b[39m(user[\u001b[38;5;124m\"\u001b[39m\u001b[38;5;124mid\u001b[39m\u001b[38;5;124m\"\u001b[39m])\n",
      "\u001b[1;31mKeyError\u001b[0m: 'id'"
     ]
    }
   ],
   "source": []
  },
  {
   "cell_type": "code",
   "execution_count": 185,
   "id": "750f99d2",
   "metadata": {},
   "outputs": [
    {
     "name": "stdout",
     "output_type": "stream",
     "text": [
      "Ram\n"
     ]
    }
   ],
   "source": [
    "save_user(id=1, name=\"Ram\", age=28)"
   ]
  },
  {
   "cell_type": "code",
   "execution_count": 186,
   "id": "b76c1888",
   "metadata": {
    "collapsed": true
   },
   "outputs": [],
   "source": [
    "# never change the global variable name by using global keyword in function"
   ]
  },
  {
   "cell_type": "code",
   "execution_count": 187,
   "id": "b999ef4c",
   "metadata": {
    "collapsed": true
   },
   "outputs": [],
   "source": [
    "def fizz_buzz(input):\n",
    "    if input % 3 == 0:\n",
    "        return \"Fizz\"\n",
    "    if input % 5 == 0:\n",
    "        return \"Buzz\"\n",
    "    if (input % 3 == 0) and (input % 5 == 0):\n",
    "        return \"FizzBuzz\"\n",
    "    return input"
   ]
  },
  {
   "cell_type": "code",
   "execution_count": 188,
   "id": "eac5e48e",
   "metadata": {},
   "outputs": [
    {
     "name": "stdout",
     "output_type": "stream",
     "text": [
      "Fizz\n"
     ]
    }
   ],
   "source": [
    "print(fizz_buzz(3))"
   ]
  },
  {
   "cell_type": "code",
   "execution_count": 189,
   "id": "642a7e93",
   "metadata": {},
   "outputs": [
    {
     "name": "stdout",
     "output_type": "stream",
     "text": [
      "Buzz\n"
     ]
    }
   ],
   "source": [
    "print(fizz_buzz(5))"
   ]
  },
  {
   "cell_type": "code",
   "execution_count": 190,
   "id": "e495dad3",
   "metadata": {},
   "outputs": [
    {
     "name": "stdout",
     "output_type": "stream",
     "text": [
      "7\n"
     ]
    }
   ],
   "source": [
    "print(fizz_buzz(7))"
   ]
  },
  {
   "cell_type": "code",
   "execution_count": 191,
   "id": "d3a6aa0f",
   "metadata": {},
   "outputs": [
    {
     "name": "stdout",
     "output_type": "stream",
     "text": [
      "Fizz\n"
     ]
    }
   ],
   "source": [
    "print(fizz_buzz(15)) # its out is Fizz by we want to Fizzbuzz so let's modied it somewhat below function"
   ]
  },
  {
   "cell_type": "code",
   "execution_count": 192,
   "id": "aae298a4",
   "metadata": {
    "collapsed": true
   },
   "outputs": [],
   "source": [
    "def fizz_buzz(input):\n",
    "    if (input % 3 == 0) and (input % 5 == 0):\n",
    "        return \"FizzBuzz\"\n",
    "    if input % 3 == 0:\n",
    "        return \"Fizz\"\n",
    "    if input % 5 == 0:\n",
    "        return \"Buzz\"\n",
    "    return input"
   ]
  },
  {
   "cell_type": "code",
   "execution_count": 193,
   "id": "69462571",
   "metadata": {},
   "outputs": [
    {
     "name": "stdout",
     "output_type": "stream",
     "text": [
      "FizzBuzz\n"
     ]
    }
   ],
   "source": [
    "print(fizz_buzz(15))"
   ]
  },
  {
   "cell_type": "code",
   "execution_count": 1,
   "id": "dd3f7bb1",
   "metadata": {},
   "outputs": [
    {
     "name": "stdout",
     "output_type": "stream",
     "text": [
      "[2, 4, 8, 16, 32]\n"
     ]
    }
   ],
   "source": [
    "# comprehensive list\n",
    "\n",
    "numbers = [2**i for i in range(1,6)]\n",
    "print(numbers)"
   ]
  },
  {
   "cell_type": "code",
   "execution_count": 2,
   "id": "4a946577",
   "metadata": {},
   "outputs": [
    {
     "name": "stdout",
     "output_type": "stream",
     "text": [
      "[2, 4, 8, 16, 32]\n"
     ]
    }
   ],
   "source": [
    "# instead of this\n",
    "\n",
    "numbers = []\n",
    "\n",
    "for i in range(1,6):\n",
    "    numbers.append(2**i)\n",
    "    \n",
    "print(numbers)"
   ]
  },
  {
   "cell_type": "code",
   "execution_count": 3,
   "id": "322a24c2",
   "metadata": {},
   "outputs": [
    {
     "name": "stdout",
     "output_type": "stream",
     "text": [
      "Enter a number: 25\n",
      "odd\n"
     ]
    }
   ],
   "source": [
    "number = int(input(\"Enter a number: \"))\n",
    "\n",
    "result = \"even\" if number % 2 == 0 else \"odd\"\n",
    "\n",
    "print(result)"
   ]
  },
  {
   "cell_type": "code",
   "execution_count": 4,
   "id": "23a90e41",
   "metadata": {},
   "outputs": [
    {
     "name": "stdout",
     "output_type": "stream",
     "text": [
      "Enter a number: 25\n",
      "odd\n"
     ]
    }
   ],
   "source": [
    "# instead of this\n",
    "\n",
    "number = int(input(\"Enter a number: \"))\n",
    "\n",
    "if number % 2 == 0:\n",
    "    print(\"even\")\n",
    "else:\n",
    "    print(\"odd\")"
   ]
  },
  {
   "cell_type": "code",
   "execution_count": 5,
   "id": "fdbd900e",
   "metadata": {},
   "outputs": [
    {
     "data": {
      "text/plain": [
       "'C:\\\\Users\\\\chhat'"
      ]
     },
     "execution_count": 5,
     "metadata": {},
     "output_type": "execute_result"
    }
   ],
   "source": [
    "pwd"
   ]
  },
  {
   "cell_type": "code",
   "execution_count": 6,
   "id": "3d7d7024",
   "metadata": {},
   "outputs": [
    {
     "data": {
      "text/plain": [
       "' this is the good advice to the function'"
      ]
     },
     "execution_count": 6,
     "metadata": {},
     "output_type": "execute_result"
    }
   ],
   "source": [
    "\"\"\" this is the good advice to the function\"\"\""
   ]
  },
  {
   "cell_type": "code",
   "execution_count": 7,
   "id": "8b72d533",
   "metadata": {},
   "outputs": [],
   "source": [
    "# always assign the default arguments so you can avoid any error shows\n",
    "\n",
    "def power(a=1, b=1):\n",
    "    return a**b"
   ]
  },
  {
   "cell_type": "code",
   "execution_count": 8,
   "id": "0bee32e0",
   "metadata": {},
   "outputs": [
    {
     "data": {
      "text/plain": [
       "1"
      ]
     },
     "execution_count": 8,
     "metadata": {},
     "output_type": "execute_result"
    }
   ],
   "source": [
    "power()v"
   ]
  },
  {
   "cell_type": "code",
   "execution_count": 9,
   "id": "a70f385a",
   "metadata": {},
   "outputs": [
    {
     "data": {
      "text/plain": [
       "1024"
      ]
     },
     "execution_count": 9,
     "metadata": {},
     "output_type": "execute_result"
    }
   ],
   "source": [
    "power(4,5)"
   ]
  },
  {
   "cell_type": "code",
   "execution_count": 10,
   "id": "24553e25",
   "metadata": {},
   "outputs": [
    {
     "data": {
      "text/plain": [
       "8"
      ]
     },
     "execution_count": 10,
     "metadata": {},
     "output_type": "execute_result"
    }
   ],
   "source": [
    "power(2,3)"
   ]
  },
  {
   "cell_type": "code",
   "execution_count": 11,
   "id": "002f780c",
   "metadata": {},
   "outputs": [
    {
     "data": {
      "text/plain": [
       "9"
      ]
     },
     "execution_count": 11,
     "metadata": {},
     "output_type": "execute_result"
    }
   ],
   "source": [
    "# keyword arguments\n",
    "\n",
    "power(b=2, a=3)"
   ]
  },
  {
   "cell_type": "markdown",
   "id": "371dfb5e",
   "metadata": {},
   "source": [
    "### *args and **kwarges\n",
    "\n",
    "*args and **kwargs are special Python keywords that are used to pass the variable length of arguments to a function"
   ]
  },
  {
   "cell_type": "code",
   "execution_count": 12,
   "id": "0abd382c",
   "metadata": {},
   "outputs": [],
   "source": [
    "# *args (when we don't know that how many input user want to give)\n",
    "# allow us to pass a variable number of non-keyword arguments to a function.\n",
    "\n",
    "def multiply(*args):\n",
    "    product = 1\n",
    "    \n",
    "    for i in args:\n",
    "        product = product * i\n",
    "    return product"
   ]
  },
  {
   "cell_type": "code",
   "execution_count": 13,
   "id": "02949131",
   "metadata": {},
   "outputs": [
    {
     "data": {
      "text/plain": [
       "6"
      ]
     },
     "execution_count": 13,
     "metadata": {},
     "output_type": "execute_result"
    }
   ],
   "source": [
    "multiply(2,3)"
   ]
  },
  {
   "cell_type": "code",
   "execution_count": 14,
   "id": "89de86fc",
   "metadata": {},
   "outputs": [
    {
     "data": {
      "text/plain": [
       "362880"
      ]
     },
     "execution_count": 14,
     "metadata": {},
     "output_type": "execute_result"
    }
   ],
   "source": [
    "multiply(1,2,3,4,5,6,7,8,9)"
   ]
  },
  {
   "cell_type": "code",
   "execution_count": 15,
   "id": "4adc7c21",
   "metadata": {},
   "outputs": [],
   "source": [
    "# *args (we can used any word on args name)\n",
    "\n",
    "def multiply(*Ram):\n",
    "    product = 1\n",
    "    \n",
    "    for i in Ram:\n",
    "        product = product * i\n",
    "    return product"
   ]
  },
  {
   "cell_type": "code",
   "execution_count": 16,
   "id": "691daa10",
   "metadata": {},
   "outputs": [
    {
     "data": {
      "text/plain": [
       "2312"
      ]
     },
     "execution_count": 16,
     "metadata": {},
     "output_type": "execute_result"
    }
   ],
   "source": [
    "multiply(2,34,34)"
   ]
  },
  {
   "cell_type": "code",
   "execution_count": 18,
   "id": "4276c1fe",
   "metadata": {},
   "outputs": [
    {
     "name": "stdout",
     "output_type": "stream",
     "text": [
      "None\n"
     ]
    }
   ],
   "source": [
    "# if you want to see any function documentation then follow below code\n",
    "\n",
    "print(multiply.__doc__)"
   ]
  },
  {
   "cell_type": "code",
   "execution_count": 23,
   "id": "7b6de65d",
   "metadata": {},
   "outputs": [],
   "source": [
    "def power(a=1, b=1):\n",
    "    \"\"\"This function work on any number to give the power or exponent of that number\"\"\"\n",
    "    return a**b"
   ]
  },
  {
   "cell_type": "code",
   "execution_count": 24,
   "id": "173f8b7d",
   "metadata": {},
   "outputs": [
    {
     "name": "stdout",
     "output_type": "stream",
     "text": [
      "This function work on any number to give the power or exponent of that number\n"
     ]
    }
   ],
   "source": [
    "print(power.__doc__)"
   ]
  },
  {
   "cell_type": "code",
   "execution_count": 25,
   "id": "19a03aa4",
   "metadata": {},
   "outputs": [
    {
     "name": "stdout",
     "output_type": "stream",
     "text": [
      "Prints the values to a stream, or to sys.stdout by default.\n",
      "\n",
      "  sep\n",
      "    string inserted between values, default a space.\n",
      "  end\n",
      "    string appended after the last value, default a newline.\n",
      "  file\n",
      "    a file-like object (stream); defaults to the current sys.stdout.\n",
      "  flush\n",
      "    whether to forcibly flush the stream.\n"
     ]
    }
   ],
   "source": [
    "print(print.__doc__)"
   ]
  },
  {
   "cell_type": "code",
   "execution_count": 26,
   "id": "223dd069",
   "metadata": {},
   "outputs": [
    {
     "name": "stdout",
     "output_type": "stream",
     "text": [
      "type(object) -> the object's type\n",
      "type(name, bases, dict, **kwds) -> a new type\n"
     ]
    }
   ],
   "source": [
    "print(type.__doc__)"
   ]
  },
  {
   "cell_type": "raw",
   "id": "e41cca57",
   "metadata": {},
   "source": [
    "**kwargs\n",
    "** kwargs allows us to pass any number of keyword arguments.\n",
    "\n",
    "keyword arguments mens that they contain a key-value pair, like a Python dictionary."
   ]
  },
  {
   "cell_type": "code",
   "execution_count": 32,
   "id": "91ee76c8",
   "metadata": {},
   "outputs": [],
   "source": [
    "    def display(**kwargs):\n",
    "    \n",
    "     for (key, value) in kwargs.items():\n",
    "       print(key,\"->\", value)"
   ]
  },
  {
   "cell_type": "code",
   "execution_count": 34,
   "id": "ea541afb",
   "metadata": {},
   "outputs": [
    {
     "name": "stdout",
     "output_type": "stream",
     "text": [
      "India -> Delhi\n",
      "Srilanka -> columbo\n",
      "pakistan -> islambad\n",
      "Nepal -> kathmandu\n"
     ]
    }
   ],
   "source": [
    "display(India=\"Delhi\", Srilanka=\"columbo\", pakistan=\"islambad\", Nepal=\"kathmandu\")"
   ]
  },
  {
   "cell_type": "code",
   "execution_count": 35,
   "id": "c3dcf899",
   "metadata": {},
   "outputs": [
    {
     "name": "stdout",
     "output_type": "stream",
     "text": [
      "None\n"
     ]
    }
   ],
   "source": [
    "# Without return statement, its give you None as a return\n",
    "\n",
    "L = [1,2,3]\n",
    "print(L.append(4))"
   ]
  },
  {
   "cell_type": "code",
   "execution_count": 36,
   "id": "216cc99b",
   "metadata": {},
   "outputs": [
    {
     "name": "stdout",
     "output_type": "stream",
     "text": [
      "[1, 2, 3, 4]\n"
     ]
    }
   ],
   "source": [
    "print(L)"
   ]
  },
  {
   "cell_type": "code",
   "execution_count": 37,
   "id": "3d612080",
   "metadata": {},
   "outputs": [],
   "source": [
    "# never used global variable in function or modified it, it is a bad practice to change the global variable\n",
    "\n",
    "# you can use global variable but you can't change it"
   ]
  },
  {
   "cell_type": "code",
   "execution_count": 38,
   "id": "4c7ead36",
   "metadata": {},
   "outputs": [],
   "source": [
    "# Nested function\n",
    "\n",
    "def f():\n",
    "    def g():\n",
    "        print(\"inside function g\")\n",
    "    g()\n",
    "    print(\"inside functino f\")"
   ]
  },
  {
   "cell_type": "code",
   "execution_count": 39,
   "id": "96d5aac1",
   "metadata": {},
   "outputs": [
    {
     "name": "stdout",
     "output_type": "stream",
     "text": [
      "inside function g\n",
      "inside functino f\n"
     ]
    }
   ],
   "source": [
    "f()"
   ]
  },
  {
   "cell_type": "code",
   "execution_count": 42,
   "id": "1cba2382",
   "metadata": {},
   "outputs": [],
   "source": [
    "g() # it give the error because you can't access inside function without using main function"
   ]
  },
  {
   "cell_type": "markdown",
   "id": "3a2647e3",
   "metadata": {},
   "source": [
    "### Function are 1st class citizen"
   ]
  },
  {
   "cell_type": "code",
   "execution_count": 43,
   "id": "322cda44",
   "metadata": {},
   "outputs": [
    {
     "data": {
      "text/plain": [
       "9"
      ]
     },
     "execution_count": 43,
     "metadata": {},
     "output_type": "execute_result"
    }
   ],
   "source": [
    "def square(num):\n",
    "    return num**2\n",
    "\n",
    "square(3)"
   ]
  },
  {
   "cell_type": "code",
   "execution_count": 44,
   "id": "d8eabfc7",
   "metadata": {},
   "outputs": [
    {
     "data": {
      "text/plain": [
       "function"
      ]
     },
     "execution_count": 44,
     "metadata": {},
     "output_type": "execute_result"
    }
   ],
   "source": [
    "type(square)"
   ]
  },
  {
   "cell_type": "code",
   "execution_count": 45,
   "id": "15ca50e6",
   "metadata": {},
   "outputs": [
    {
     "data": {
      "text/plain": [
       "2423840569952"
      ]
     },
     "execution_count": 45,
     "metadata": {},
     "output_type": "execute_result"
    }
   ],
   "source": [
    "id(square)"
   ]
  },
  {
   "cell_type": "code",
   "execution_count": 46,
   "id": "288ee243",
   "metadata": {},
   "outputs": [],
   "source": [
    "L = [1,3,4,5, square]"
   ]
  },
  {
   "cell_type": "code",
   "execution_count": 47,
   "id": "9e0c5d6b",
   "metadata": {},
   "outputs": [
    {
     "name": "stdout",
     "output_type": "stream",
     "text": [
      "[1, 3, 4, 5, <function square at 0x000002345827FA60>]\n"
     ]
    }
   ],
   "source": [
    "print(L)"
   ]
  },
  {
   "cell_type": "code",
   "execution_count": 48,
   "id": "a31ab326",
   "metadata": {},
   "outputs": [],
   "source": [
    "del (square)"
   ]
  },
  {
   "cell_type": "code",
   "execution_count": 49,
   "id": "f3d306a4",
   "metadata": {},
   "outputs": [
    {
     "ename": "NameError",
     "evalue": "name 'square' is not defined",
     "output_type": "error",
     "traceback": [
      "\u001b[1;31m---------------------------------------------------------------------------\u001b[0m",
      "\u001b[1;31mNameError\u001b[0m                                 Traceback (most recent call last)",
      "Cell \u001b[1;32mIn[49], line 1\u001b[0m\n\u001b[1;32m----> 1\u001b[0m square\n",
      "\u001b[1;31mNameError\u001b[0m: name 'square' is not defined"
     ]
    }
   ],
   "source": [
    "square"
   ]
  },
  {
   "cell_type": "raw",
   "id": "c04395fa",
   "metadata": {},
   "source": [
    "# benefits of using function\n",
    "\n",
    "code of modularity\n",
    "code readibility\n",
    "code of reusability"
   ]
  },
  {
   "cell_type": "raw",
   "id": "6820f222",
   "metadata": {},
   "source": [
    "# Lambda function\n",
    "\n",
    "it is a small anonymous function.\n",
    "a lambda function can take any number of arguments, but can only have one expression."
   ]
  },
  {
   "cell_type": "code",
   "execution_count": 51,
   "id": "aa8236ad",
   "metadata": {},
   "outputs": [],
   "source": [
    "# lambda a,b: a+b"
   ]
  },
  {
   "cell_type": "code",
   "execution_count": 59,
   "id": "32b9dbab",
   "metadata": {},
   "outputs": [
    {
     "data": {
      "text/plain": [
       "<function __main__.<lambda>(x)>"
      ]
     },
     "execution_count": 59,
     "metadata": {},
     "output_type": "execute_result"
    }
   ],
   "source": [
    "lambda x:x*2"
   ]
  },
  {
   "cell_type": "code",
   "execution_count": 52,
   "id": "9f86b4a9",
   "metadata": {},
   "outputs": [],
   "source": [
    "a = lambda x:x*2"
   ]
  },
  {
   "cell_type": "code",
   "execution_count": 54,
   "id": "8a22ee13",
   "metadata": {},
   "outputs": [
    {
     "data": {
      "text/plain": [
       "4"
      ]
     },
     "execution_count": 54,
     "metadata": {},
     "output_type": "execute_result"
    }
   ],
   "source": [
    "a(2)"
   ]
  },
  {
   "cell_type": "code",
   "execution_count": 55,
   "id": "1aa230f5",
   "metadata": {},
   "outputs": [],
   "source": [
    "a = lambda x,y:x+y"
   ]
  },
  {
   "cell_type": "code",
   "execution_count": 56,
   "id": "68ae1439",
   "metadata": {},
   "outputs": [
    {
     "data": {
      "text/plain": [
       "5"
      ]
     },
     "execution_count": 56,
     "metadata": {},
     "output_type": "execute_result"
    }
   ],
   "source": [
    "a(2,3)"
   ]
  },
  {
   "cell_type": "code",
   "execution_count": 57,
   "id": "beb13e45",
   "metadata": {},
   "outputs": [],
   "source": [
    "a = lambda x,y:x**y"
   ]
  },
  {
   "cell_type": "code",
   "execution_count": 58,
   "id": "a318a611",
   "metadata": {},
   "outputs": [
    {
     "data": {
      "text/plain": [
       "8"
      ]
     },
     "execution_count": 58,
     "metadata": {},
     "output_type": "execute_result"
    }
   ],
   "source": [
    "a(2,3)"
   ]
  },
  {
   "cell_type": "raw",
   "id": "f1ec59a2",
   "metadata": {},
   "source": [
    "Diff between lambda vs Normal function\n",
    "\n",
    "1. no name\n",
    "2. lambda has no return value(infact, return a function)\n",
    "3. lambda is written in 1 line\n",
    "4. not reusable\n",
    "\n",
    "then why use lambda function?\n",
    "They are used with HOF (higher order function)"
   ]
  },
  {
   "cell_type": "raw",
   "id": "e701a020",
   "metadata": {},
   "source": [
    "import os\n",
    "from pytube import YouTube\n",
    "\n",
    "# Define the URL of the YouTube video you want to download\n",
    "video_url = \"videos_url\"\n",
    "\n",
    "# Define the path where you want to save the downloaded video\n",
    "save_path = \"D:\\Code_copy\"\n",
    "\n",
    "# Create a custom progress callback function\n",
    "def on_progress(stream, chunk, bytes_remaining):\n",
    "    total_size = stream.filesize\n",
    "    bytes_downloaded = total_size - bytes_remaining\n",
    "    percentage = (bytes_downloaded / total_size) * 100\n",
    "    print(f\"Downloading... {percentage:.2f}% complete\", end=\"\\r\")\n",
    "\n",
    "# Create a YouTube object and select the video stream to download\n",
    "yt = YouTube(video_url, on_progress_callback=on_progress)\n",
    "video_stream = yt.streams.get_highest_resolution()\n",
    "\n",
    "# Start the download\n",
    "print(\"Downloading video...\")\n",
    "video_stream.download(output_path=save_path)\n",
    "print(\"Download completed!\")"
   ]
  },
  {
   "cell_type": "markdown",
   "id": "7f15ed2b",
   "metadata": {},
   "source": [
    "### Algorithm\n",
    "\n",
    "An algorithm is a step by step procedure, which difines a set of instructions to be excecuted in a certain order to get the desired output. Algorithm are generally created independent of underlying languages, i.e. an algorithm can be implemented in more than one programming language."
   ]
  },
  {
   "cell_type": "code",
   "execution_count": 70,
   "id": "11383bad",
   "metadata": {},
   "outputs": [
    {
     "name": "stdout",
     "output_type": "stream",
     "text": [
      "Variable       Type        Data/Info\n",
      "------------------------------------\n",
      "L              list        n=5\n",
      "YouTube        type        <class 'pytube.__main__.YouTube'>\n",
      "a              function    <function <lambda> at 0x0000023459C5AE80>\n",
      "display        function    <function display at 0x0000023459A52480>\n",
      "f              function    <function f at 0x0000023459A51800>\n",
      "i              int         5\n",
      "multiply       function    <function multiply at 0x0000023458784040>\n",
      "number         int         25\n",
      "numbers        list        n=5\n",
      "on_progress    function    <function on_progress at 0x0000023458896700>\n",
      "os             module      <module 'os' (frozen)>\n",
      "power          function    <function power at 0x000002345876F6A0>\n",
      "result         str         odd\n",
      "save_path      str         D:\\Code_copy\n",
      "video_stream   Stream      <Stream: itag=\"22\" mime_t<...>sive=\"True\" type=\"video\">\n",
      "video_url      str         https://www.youtube.com/w<...>annel=ProgrammingwithMosh\n",
      "yt             YouTube     <pytube.__main__.YouTube <...>ect: videoId=7eh4d6sabA0>\n"
     ]
    }
   ],
   "source": [
    "%whos"
   ]
  },
  {
   "cell_type": "code",
   "execution_count": 71,
   "id": "2806949c",
   "metadata": {},
   "outputs": [
    {
     "name": "stdout",
     "output_type": "stream",
     "text": [
      "ram\n"
     ]
    },
    {
     "data": {
      "text/plain": [
       "'C:\\\\Users\\\\chhat'"
      ]
     },
     "execution_count": 71,
     "metadata": {},
     "output_type": "execute_result"
    }
   ],
   "source": [
    "import os\n",
    "print(\"ram\")\n",
    "\n",
    "os.getcwd()"
   ]
  },
  {
   "cell_type": "code",
   "execution_count": 72,
   "id": "59ab4ef9",
   "metadata": {},
   "outputs": [],
   "source": [
    "!mkdir this"
   ]
  },
  {
   "cell_type": "code",
   "execution_count": 73,
   "id": "fcd11ca4",
   "metadata": {},
   "outputs": [
    {
     "data": {
      "application/json": {
       "cell": {
        "!": "OSMagics",
        "HTML": "Other",
        "SVG": "Other",
        "bash": "Other",
        "capture": "ExecutionMagics",
        "cmd": "Other",
        "debug": "ExecutionMagics",
        "file": "Other",
        "html": "DisplayMagics",
        "javascript": "DisplayMagics",
        "js": "DisplayMagics",
        "latex": "DisplayMagics",
        "markdown": "DisplayMagics",
        "perl": "Other",
        "prun": "ExecutionMagics",
        "pypy": "Other",
        "python": "Other",
        "python2": "Other",
        "python3": "Other",
        "ruby": "Other",
        "script": "ScriptMagics",
        "sh": "Other",
        "svg": "DisplayMagics",
        "sx": "OSMagics",
        "system": "OSMagics",
        "time": "ExecutionMagics",
        "timeit": "ExecutionMagics",
        "writefile": "OSMagics"
       },
       "line": {
        "alias": "OSMagics",
        "alias_magic": "BasicMagics",
        "autoawait": "AsyncMagics",
        "autocall": "AutoMagics",
        "automagic": "AutoMagics",
        "autosave": "KernelMagics",
        "bookmark": "OSMagics",
        "cd": "OSMagics",
        "clear": "KernelMagics",
        "cls": "KernelMagics",
        "colors": "BasicMagics",
        "conda": "PackagingMagics",
        "config": "ConfigMagics",
        "connect_info": "KernelMagics",
        "copy": "Other",
        "ddir": "Other",
        "debug": "ExecutionMagics",
        "dhist": "OSMagics",
        "dirs": "OSMagics",
        "doctest_mode": "BasicMagics",
        "echo": "Other",
        "ed": "Other",
        "edit": "KernelMagics",
        "env": "OSMagics",
        "gui": "BasicMagics",
        "hist": "Other",
        "history": "HistoryMagics",
        "killbgscripts": "ScriptMagics",
        "ldir": "Other",
        "less": "KernelMagics",
        "load": "CodeMagics",
        "load_ext": "ExtensionMagics",
        "loadpy": "CodeMagics",
        "logoff": "LoggingMagics",
        "logon": "LoggingMagics",
        "logstart": "LoggingMagics",
        "logstate": "LoggingMagics",
        "logstop": "LoggingMagics",
        "ls": "Other",
        "lsmagic": "BasicMagics",
        "macro": "ExecutionMagics",
        "magic": "BasicMagics",
        "matplotlib": "PylabMagics",
        "mkdir": "Other",
        "more": "KernelMagics",
        "notebook": "BasicMagics",
        "page": "BasicMagics",
        "pastebin": "CodeMagics",
        "pdb": "ExecutionMagics",
        "pdef": "NamespaceMagics",
        "pdoc": "NamespaceMagics",
        "pfile": "NamespaceMagics",
        "pinfo": "NamespaceMagics",
        "pinfo2": "NamespaceMagics",
        "pip": "PackagingMagics",
        "popd": "OSMagics",
        "pprint": "BasicMagics",
        "precision": "BasicMagics",
        "prun": "ExecutionMagics",
        "psearch": "NamespaceMagics",
        "psource": "NamespaceMagics",
        "pushd": "OSMagics",
        "pwd": "OSMagics",
        "pycat": "OSMagics",
        "pylab": "PylabMagics",
        "qtconsole": "KernelMagics",
        "quickref": "BasicMagics",
        "recall": "HistoryMagics",
        "rehashx": "OSMagics",
        "reload_ext": "ExtensionMagics",
        "ren": "Other",
        "rep": "Other",
        "rerun": "HistoryMagics",
        "reset": "NamespaceMagics",
        "reset_selective": "NamespaceMagics",
        "rmdir": "Other",
        "run": "ExecutionMagics",
        "save": "CodeMagics",
        "sc": "OSMagics",
        "set_env": "OSMagics",
        "store": "StoreMagics",
        "sx": "OSMagics",
        "system": "OSMagics",
        "tb": "ExecutionMagics",
        "time": "ExecutionMagics",
        "timeit": "ExecutionMagics",
        "unalias": "OSMagics",
        "unload_ext": "ExtensionMagics",
        "who": "NamespaceMagics",
        "who_ls": "NamespaceMagics",
        "whos": "NamespaceMagics",
        "xdel": "NamespaceMagics",
        "xmode": "BasicMagics"
       }
      },
      "text/plain": [
       "Available line magics:\n",
       "%alias  %alias_magic  %autoawait  %autocall  %automagic  %autosave  %bookmark  %cd  %clear  %cls  %colors  %conda  %config  %connect_info  %copy  %ddir  %debug  %dhist  %dirs  %doctest_mode  %echo  %ed  %edit  %env  %gui  %hist  %history  %killbgscripts  %ldir  %less  %load  %load_ext  %loadpy  %logoff  %logon  %logstart  %logstate  %logstop  %ls  %lsmagic  %macro  %magic  %matplotlib  %mkdir  %more  %notebook  %page  %pastebin  %pdb  %pdef  %pdoc  %pfile  %pinfo  %pinfo2  %pip  %popd  %pprint  %precision  %prun  %psearch  %psource  %pushd  %pwd  %pycat  %pylab  %qtconsole  %quickref  %recall  %rehashx  %reload_ext  %ren  %rep  %rerun  %reset  %reset_selective  %rmdir  %run  %save  %sc  %set_env  %store  %sx  %system  %tb  %time  %timeit  %unalias  %unload_ext  %who  %who_ls  %whos  %xdel  %xmode\n",
       "\n",
       "Available cell magics:\n",
       "%%!  %%HTML  %%SVG  %%bash  %%capture  %%cmd  %%debug  %%file  %%html  %%javascript  %%js  %%latex  %%markdown  %%perl  %%prun  %%pypy  %%python  %%python2  %%python3  %%ruby  %%script  %%sh  %%svg  %%sx  %%system  %%time  %%timeit  %%writefile\n",
       "\n",
       "Automagic is ON, % prefix IS NOT needed for line magics."
      ]
     },
     "execution_count": 73,
     "metadata": {},
     "output_type": "execute_result"
    }
   ],
   "source": [
    "%lsmagic"
   ]
  },
  {
   "cell_type": "code",
   "execution_count": 78,
   "id": "c508354c",
   "metadata": {},
   "outputs": [
    {
     "name": "stdout",
     "output_type": "stream",
     "text": [
      "11\n",
      "CPU times: total: 0 ns\n",
      "Wall time: 0 ns\n"
     ]
    }
   ],
   "source": [
    "a = 5+6\n",
    "print(a)\n",
    "\n",
    "%time"
   ]
  },
  {
   "cell_type": "code",
   "execution_count": 80,
   "id": "ff611536",
   "metadata": {},
   "outputs": [
    {
     "name": "stdout",
     "output_type": "stream",
     "text": [
      "11\n"
     ]
    }
   ],
   "source": [
    "a = 5+6; print(a) # we can write this also by using ;"
   ]
  },
  {
   "cell_type": "code",
   "execution_count": 85,
   "id": "c8d92b48",
   "metadata": {},
   "outputs": [
    {
     "name": "stdout",
     "output_type": "stream",
     "text": [
      "Ram\n",
      "Chhatra\n",
      "Banta\n"
     ]
    }
   ],
   "source": [
    "print(\n",
    "\"\"\"Ram\n",
    "Chhatra\n",
    "Banta\"\"\")"
   ]
  },
  {
   "cell_type": "code",
   "execution_count": 86,
   "id": "2a059a6b",
   "metadata": {},
   "outputs": [
    {
     "name": "stdout",
     "output_type": "stream",
     "text": [
      "pass\n",
      "fail\n"
     ]
    }
   ],
   "source": [
    "print(\"pass\")\n",
    "print(\"fail\")"
   ]
  },
  {
   "cell_type": "raw",
   "id": "12263c12",
   "metadata": {},
   "source": [
    "Control statement is the statement that they control the excution of flow of control\n",
    "\n",
    "1. conditional control statement(CS)- if-else\n",
    "2. looping cs - for and while\n",
    "3. jumping cs - break, continue, return, pass"
   ]
  },
  {
   "cell_type": "code",
   "execution_count": 89,
   "id": "50bc92f5",
   "metadata": {},
   "outputs": [
    {
     "name": "stdout",
     "output_type": "stream",
     "text": [
      "first number5\n",
      "second number5\n",
      "10\n"
     ]
    }
   ],
   "source": [
    "# error handling\n",
    "\n",
    "a = int(input(\"first number\"))\n",
    "b = int(input(\"second number\"))\n",
    "\n",
    "print(a+b)"
   ]
  },
  {
   "cell_type": "code",
   "execution_count": null,
   "id": "42ff4de9",
   "metadata": {},
   "outputs": [],
   "source": []
  }
 ],
 "metadata": {
  "kernelspec": {
   "display_name": "Python 3 (ipykernel)",
   "language": "python",
   "name": "python3"
  },
  "language_info": {
   "codemirror_mode": {
    "name": "ipython",
    "version": 3
   },
   "file_extension": ".py",
   "mimetype": "text/x-python",
   "name": "python",
   "nbconvert_exporter": "python",
   "pygments_lexer": "ipython3",
   "version": "3.11.4"
  }
 },
 "nbformat": 4,
 "nbformat_minor": 5
}
