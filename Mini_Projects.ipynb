{
 "cells": [
  {
   "cell_type": "markdown",
   "metadata": {},
   "source": [
    "1. BMI Calculator"
   ]
  },
  {
   "cell_type": "code",
   "execution_count": 1,
   "metadata": {},
   "outputs": [
    {
     "name": "stdout",
     "output_type": "stream",
     "text": [
      "Your BMI is: 18.69\n"
     ]
    }
   ],
   "source": [
    "# Get user input for weight and height\n",
    "\n",
    "weight = float(input(\"Enter your weight in Kgs: \"))\n",
    "height = float(input(\"Enter your height in Cms: \"))\n",
    "\n",
    "# Convert height from centimeters to meters\n",
    "\n",
    "height = height / 100\n",
    "\n",
    "# Calculate BMI\n",
    "\n",
    "BMI = weight / height**2\n",
    "\n",
    "# Display the result\n",
    "\n",
    "print(f\"Your BMI is: {BMI:.2f}\")\n"
   ]
  },
  {
   "cell_type": "markdown",
   "metadata": {},
   "source": [
    "2. Number Guessing Game"
   ]
  },
  {
   "cell_type": "code",
   "execution_count": 3,
   "metadata": {},
   "outputs": [
    {
     "name": "stdout",
     "output_type": "stream",
     "text": [
      "Too high!\n",
      "Too low!\n",
      "Too high!\n",
      "Too low!\n",
      "Correct! It took you 5 attempts.\n"
     ]
    }
   ],
   "source": [
    "import random\n",
    "\n",
    "number_to_guess = random.randint(1, 50)\n",
    "attempts = 0\n",
    "\n",
    "while True:\n",
    "    guess = int(input(\"Guess the number between 1 and 100: \"))\n",
    "    attempts += 1\n",
    "    if guess < number_to_guess:\n",
    "        print(\"Too low!\")\n",
    "    elif guess > number_to_guess:\n",
    "        print(\"Too high!\")\n",
    "    else:\n",
    "        print(f\"Correct! It took you {attempts} attempts.\")\n",
    "        break\n"
   ]
  },
  {
   "cell_type": "markdown",
   "metadata": {},
   "source": [
    "Simple Calculator"
   ]
  },
  {
   "cell_type": "code",
   "execution_count": 2,
   "metadata": {},
   "outputs": [
    {
     "name": "stdout",
     "output_type": "stream",
     "text": [
      "Select operation:\n",
      " 1. Add\n",
      " 2. Subtract\n",
      " 3. Multiply\n",
      " 4. Divide\n",
      "1\n",
      "Result: 10.0\n"
     ]
    }
   ],
   "source": [
    "def add(x, y):\n",
    "    return x + y\n",
    "\n",
    "def subtract(x, y):\n",
    "    return x - y\n",
    "\n",
    "def multiply(x, y):\n",
    "    return x * y\n",
    "\n",
    "def divide(x, y):\n",
    "    return x / y\n",
    "\n",
    "print(\"Select operation:\\n 1. Add\\n 2. Subtract\\n 3. Multiply\\n 4. Divide\\n1\")\n",
    "choice = input(\"Enter choice: \")\n",
    "\n",
    "num1 = float(input(\"Enter first number: \"))\n",
    "num2 = float(input(\"Enter second number: \"))\n",
    "\n",
    "if choice == '1':\n",
    "    print(f\"Result: {add(num1, num2)}\")\n",
    "elif choice == '2':\n",
    "    print(f\"Result: {subtract(num1, num2)}\")\n",
    "elif choice == '3':\n",
    "    print(f\"Result: {multiply(num1, num2)}\")\n",
    "elif choice == '4':\n",
    "    print(f\"Result: {divide(num1, num2)}\")\n",
    "else:\n",
    "    print(\"Invalid input\")\n"
   ]
  },
  {
   "cell_type": "markdown",
   "metadata": {},
   "source": [
    "Passward generator"
   ]
  },
  {
   "cell_type": "code",
   "execution_count": 4,
   "metadata": {},
   "outputs": [
    {
     "name": "stdout",
     "output_type": "stream",
     "text": [
      "0-`1TXn,N9\n"
     ]
    }
   ],
   "source": [
    "import random\n",
    "import string\n",
    "\n",
    "total = string.ascii_letters + string.digits + string.punctuation\n",
    "\n",
    "length = 10\n",
    "\n",
    "password = \"\".join(random.sample(total, length))\n",
    "\n",
    "print(password)"
   ]
  },
  {
   "cell_type": "markdown",
   "metadata": {},
   "source": [
    "image_resizer"
   ]
  },
  {
   "cell_type": "code",
   "execution_count": null,
   "metadata": {},
   "outputs": [],
   "source": [
    "# import openCV library for image handling\n",
    "\n",
    "import cv2\n",
    "\n",
    "# read image to be resized by imread() function of openCV library\n",
    "\n",
    "img = cv2.imread('input.jpg')\n",
    "print(img.shape)\n",
    "\n",
    "# set the ratio of resized image\n",
    "\n",
    "k = 5\n",
    "width = int((img.shape[1])/k)\n",
    "height = int((img.shape[0])/k)\n",
    "\n",
    "# resize the image by resize() function of openCV library\n",
    "\n",
    "scaled = cv2.resize(img, (width, height), interpolation=cv2.INTER_AREA)\n",
    "print(scaled.shape)\n",
    "\n",
    "# show the resized image using imshow() function of openCV library\n",
    "\n",
    "cv2.imshow(\"Output\", scaled)\n",
    "cv2.waitKey(500)\n",
    "cv2.destroyAllWindows()\n",
    "\n",
    "# get the resized image output by imwrite() function of openCV library\n",
    "\n",
    "cv2.imwrite('resized_output_image.jpg', scaled)"
   ]
  }
 ],
 "metadata": {
  "kernelspec": {
   "display_name": "Python 3",
   "language": "python",
   "name": "python3"
  },
  "language_info": {
   "codemirror_mode": {
    "name": "ipython",
    "version": 3
   },
   "file_extension": ".py",
   "mimetype": "text/x-python",
   "name": "python",
   "nbconvert_exporter": "python",
   "pygments_lexer": "ipython3",
   "version": "3.12.1"
  }
 },
 "nbformat": 4,
 "nbformat_minor": 2
}
