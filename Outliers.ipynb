{
 "cells": [
  {
   "cell_type": "markdown",
   "id": "4472fc19-8c83-4500-8fbd-5ed221677527",
   "metadata": {},
   "source": [
    "## How to find out the outlier in dataset"
   ]
  },
  {
   "cell_type": "code",
   "execution_count": 2,
   "id": "d9a41b3c-c860-4739-8900-d655de858bd0",
   "metadata": {},
   "outputs": [],
   "source": [
    "import numpy as np\n",
    "import pandas as pd\n",
    "import matplotlib.pyplot as plt\n",
    "%matplotlib inline"
   ]
  },
  {
   "cell_type": "code",
   "execution_count": 3,
   "id": "ea68c0c6-93f3-48c0-9a3a-99487f766142",
   "metadata": {},
   "outputs": [],
   "source": [
    "## define out datasets\n",
    "\n",
    "dataset = [12,12,11,13,10,13,10,14,15,11,10,12,11,14,12,107,14,11,108,12,12,105]"
   ]
  },
  {
   "cell_type": "code",
   "execution_count": 20,
   "id": "0f554b36-9405-428e-a423-5398264eb7dc",
   "metadata": {},
   "outputs": [
    {
     "data": {
      "text/plain": [
       "(array([19.,  0.,  0.,  0.,  0.,  0.,  0.,  0.,  0.,  3.]),\n",
       " array([ 10. ,  19.8,  29.6,  39.4,  49.2,  59. ,  68.8,  78.6,  88.4,\n",
       "         98.2, 108. ]),\n",
       " <BarContainer object of 10 artists>)"
      ]
     },
     "execution_count": 20,
     "metadata": {},
     "output_type": "execute_result"
    },
    {
     "data": {
      "image/png": "[encoded data removed]",
      "text/plain": [
       "<Figure size 640x480 with 1 Axes>"
      ]
     },
     "metadata": {},
     "output_type": "display_data"
    }
   ],
   "source": [
    "# this is a tricky way to find out outliers in dataset by using histogram\n",
    "\n",
    "plt.hist(dataset)"
   ]
  },
  {
   "cell_type": "markdown",
   "id": "185a2343-7fac-429c-badb-2a30db51bcfd",
   "metadata": {},
   "source": [
    "### By using some code, z score"
   ]
  },
  {
   "cell_type": "code",
   "execution_count": 5,
   "id": "d9d2224a-0f6e-48b9-9350-e43d9f8387a0",
   "metadata": {},
   "outputs": [],
   "source": [
    "# Z-score\n",
    "\n",
    "outliers = []\n",
    "def detect_outliers(data):\n",
    "    threshold=2  ## 3rd standard deviation\n",
    "    mean=np.mean(data)\n",
    "    std=np.std(data)\n",
    "    \n",
    "    for i in data:\n",
    "        z_score=(i-mean)/std\n",
    "        if np.abs(z_score)>threshold:\n",
    "            outliers.append(i)\n",
    "    return outliers"
   ]
  },
  {
   "cell_type": "code",
   "execution_count": 6,
   "id": "8cb32d63-93d9-4e51-8402-61b4784ba239",
   "metadata": {},
   "outputs": [
    {
     "data": {
      "text/plain": [
       "[107, 108, 105]"
      ]
     },
     "execution_count": 6,
     "metadata": {},
     "output_type": "execute_result"
    }
   ],
   "source": [
    "detect_outliers(dataset)"
   ]
  },
  {
   "cell_type": "markdown",
   "id": "004a26b2-9bfc-420a-9f88-46d0d10bdccf",
   "metadata": {},
   "source": [
    "### By using IQR"
   ]
  },
  {
   "cell_type": "markdown",
   "id": "4c2dc420-52a9-418d-83b1-ab3b9b5cc91a",
   "metadata": {},
   "source": [
    "## IQR\n",
    "\n",
    "1. sort the data\n",
    "2. calculate Q1(25%) and Q3(75%)\n",
    "3. calculate IQR (Q3-Q1)\n",
    "4. find lower fence = Q1-1.5(IQR)\n",
    "5. find upper fence = Q3+1.5(IQR)"
   ]
  },
  {
   "cell_type": "code",
   "execution_count": 7,
   "id": "dd30aa41-b41c-47f2-bc90-20582f9056a4",
   "metadata": {},
   "outputs": [
    {
     "data": {
      "text/plain": [
       "[12,\n",
       " 12,\n",
       " 11,\n",
       " 13,\n",
       " 10,\n",
       " 13,\n",
       " 10,\n",
       " 14,\n",
       " 15,\n",
       " 11,\n",
       " 10,\n",
       " 12,\n",
       " 11,\n",
       " 14,\n",
       " 12,\n",
       " 107,\n",
       " 14,\n",
       " 11,\n",
       " 108,\n",
       " 12,\n",
       " 12,\n",
       " 105]"
      ]
     },
     "execution_count": 7,
     "metadata": {},
     "output_type": "execute_result"
    }
   ],
   "source": [
    "dataset"
   ]
  },
  {
   "cell_type": "code",
   "execution_count": 8,
   "id": "3c2264ac-330c-4aa0-8d4a-8874e9823f46",
   "metadata": {},
   "outputs": [
    {
     "name": "stdout",
     "output_type": "stream",
     "text": [
      "[10, 10, 10, 11, 11, 11, 11, 12, 12, 12, 12, 12, 12, 13, 13, 14, 14, 14, 15, 105, 107, 108]\n"
     ]
    }
   ],
   "source": [
    "# sort\n",
    "\n",
    "dataset = sorted(dataset)\n",
    "print(dataset)"
   ]
  },
  {
   "cell_type": "code",
   "execution_count": 9,
   "id": "f939a66c-f687-4756-bbba-e691cb59b349",
   "metadata": {},
   "outputs": [
    {
     "name": "stdout",
     "output_type": "stream",
     "text": [
      "11.0 14.0\n"
     ]
    }
   ],
   "source": [
    "q1, q3= np.percentile(dataset, [25,75])\n",
    "\n",
    "print(q1,q3)"
   ]
  },
  {
   "cell_type": "code",
   "execution_count": 10,
   "id": "423b0f9c-bf13-476c-86cf-eb3174766c3a",
   "metadata": {},
   "outputs": [
    {
     "name": "stdout",
     "output_type": "stream",
     "text": [
      "3.0\n"
     ]
    }
   ],
   "source": [
    "iqr = (q3-q1)\n",
    "print(iqr)"
   ]
  },
  {
   "cell_type": "code",
   "execution_count": 11,
   "id": "d577fbea-0094-4c68-b697-8fd34a4a2579",
   "metadata": {},
   "outputs": [
    {
     "name": "stdout",
     "output_type": "stream",
     "text": [
      "6.5 18.5\n"
     ]
    }
   ],
   "source": [
    "## find the lower and upper fence\n",
    "\n",
    "lower_fence= q1-(1.5*iqr)\n",
    "upper_fence= q3+(1.5*iqr)\n",
    "print(lower_fence, upper_fence)"
   ]
  },
  {
   "cell_type": "code",
   "execution_count": 13,
   "id": "9a591b93-7e90-4834-bf7d-eb9ef22850df",
   "metadata": {},
   "outputs": [
    {
     "name": "stdout",
     "output_type": "stream",
     "text": [
      "[105, 107, 108]\n"
     ]
    }
   ],
   "source": [
    "outliers = []\n",
    "\n",
    "for i in dataset:\n",
    "    if i < 6.5 or i > 18.5:\n",
    "        if i not in outliers:  # Check if the value is not already in the list\n",
    "            outliers.append(i)\n",
    "\n",
    "print(outliers)\n"
   ]
  },
  {
   "cell_type": "code",
   "execution_count": 16,
   "id": "e6c8f286-2dd6-4ae5-9b5f-ceaecd64eddc",
   "metadata": {},
   "outputs": [],
   "source": [
    "import seaborn as sns"
   ]
  },
  {
   "cell_type": "code",
   "execution_count": 21,
   "id": "c7803909-1804-4332-9d44-5f5ff51dcc7f",
   "metadata": {},
   "outputs": [
    {
     "data": {
      "text/plain": [
       "<Axes: >"
      ]
     },
     "execution_count": 21,
     "metadata": {},
     "output_type": "execute_result"
    },
    {
     "data": {
      "image/png": "[encoded data removed]",
      "text/plain": [
       "<Figure size 640x480 with 1 Axes>"
      ]
     },
     "metadata": {},
     "output_type": "display_data"
    }
   ],
   "source": [
    "# to visualize the outliers in boxplot\n",
    "\n",
    "sns.boxplot(dataset)"
   ]
  },
  {
   "cell_type": "code",
   "execution_count": null,
   "id": "10b03e51-445c-4158-9712-d0d85d0e995e",
   "metadata": {},
   "outputs": [],
   "source": []
  }
 ],
 "metadata": {
  "kernelspec": {
   "display_name": "Python 3 (ipykernel)",
   "language": "python",
   "name": "python3"
  },
  "language_info": {
   "codemirror_mode": {
    "name": "ipython",
    "version": 3
   },
   "file_extension": ".py",
   "mimetype": "text/x-python",
   "name": "python",
   "nbconvert_exporter": "python",
   "pygments_lexer": "ipython3",
   "version": "3.12.1"
  }
 },
 "nbformat": 4,
 "nbformat_minor": 5
}
