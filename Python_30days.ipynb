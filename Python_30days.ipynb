{
 "cells": [
  {
   "cell_type": "code",
   "execution_count": null,
   "id": "44ac89b0-b86f-4319-8bc8-8bb0ac3bcada",
   "metadata": {},
   "outputs": [],
   "source": [
    "Python"
   ]
  },
  {
   "cell_type": "code",
   "execution_count": 1,
   "id": "290d8c4f-7bf6-4c50-baa5-9672393400f6",
   "metadata": {},
   "outputs": [
    {
     "name": "stdout",
     "output_type": "stream",
     "text": [
      "Hello\n"
     ]
    }
   ],
   "source": [
    "print(\"Hello\")"
   ]
  },
  {
   "cell_type": "raw",
   "id": "4e632048-7221-44a9-9449-420b257e44d3",
   "metadata": {},
   "source": [
    "import os\n",
    "from pytube import YouTube\n",
    "\n",
    "# Define the URL of the YouTube video you want to download\n",
    "video_url = \"https://www.youtube.com/watch?v=gbmwWZRq72Y&list=PLrN_S08trZepmNfyTjsbGNr0XMciQcIMM&ab_channel=freeCodeCampHindi\"\n",
    "\n",
    "# Define the path where you want to save the downloaded video\n",
    "save_path = \"D:\\Computer_code\"\n",
    "\n",
    "# Create a custom progress callback function\n",
    "def on_progress(stream, chunk, bytes_remaining):\n",
    "    total_size = stream.filesize\n",
    "    bytes_downloaded = total_size - bytes_remaining\n",
    "    percentage = (bytes_downloaded / total_size) * 100\n",
    "    print(f\"Downloading... {percentage:.2f}% complete\", end=\"\\r\")\n",
    "\n",
    "# Create a YouTube object and select the video stream to download\n",
    "yt = YouTube(video_url, on_progress_callback=on_progress)\n",
    "video_stream = yt.streams.get_highest_resolution()\n",
    "\n",
    "# Start the download\n",
    "print(\"Downloading video...\")\n",
    "video_stream.download(output_path=save_path)\n",
    "print(\"Download completed!\")"
   ]
  },
  {
   "cell_type": "markdown",
   "id": "ce8220a3-9632-48f7-a188-a16cb2ccc08c",
   "metadata": {},
   "source": [
    "## Day 1 - variables and operators"
   ]
  },
  {
   "cell_type": "code",
   "execution_count": 1,
   "id": "35de6bf1-2f85-4bc1-91c3-6bf154194125",
   "metadata": {},
   "outputs": [
    {
     "name": "stdout",
     "output_type": "stream",
     "text": [
      "5\n"
     ]
    }
   ],
   "source": [
    "# to make a variales\n",
    "a = 5\n",
    "print(a)"
   ]
  },
  {
   "cell_type": "code",
   "execution_count": 2,
   "id": "997382ef-b9f6-4077-9690-1de006eb0d31",
   "metadata": {},
   "outputs": [
    {
     "name": "stdout",
     "output_type": "stream",
     "text": [
      "11\n"
     ]
    }
   ],
   "source": [
    "a = 5\n",
    "b= 6\n",
    "print(a+b)"
   ]
  },
  {
   "cell_type": "markdown",
   "id": "d6784958-63d6-4afe-ad76-3bc0c4b0bc31",
   "metadata": {},
   "source": [
    "## Day 3 - In - built - function of Python"
   ]
  },
  {
   "cell_type": "markdown",
   "id": "c1ea0cc2-3729-4a0d-9cb9-f01a7028b3db",
   "metadata": {},
   "source": [
    "Types of Python function\n",
    "\n",
    "1. built-in-function\n",
    "2. Python recursive function\n",
    "3. Python lambda function\n",
    "4. users-defined functions in Python"
   ]
  },
  {
   "cell_type": "code",
   "execution_count": 3,
   "id": "ca2bdabe-f7b0-463a-869b-9453727526ac",
   "metadata": {},
   "outputs": [
    {
     "name": "stdout",
     "output_type": "stream",
     "text": [
      "\n"
     ]
    }
   ],
   "source": [
    "print()"
   ]
  },
  {
   "cell_type": "markdown",
   "id": "2041f102-f883-4cf0-bf72-910ed430493e",
   "metadata": {},
   "source": [
    "### abs() function means absolute function"
   ]
  },
  {
   "cell_type": "code",
   "execution_count": 10,
   "id": "5a39a078-c761-4393-aa09-2ccf955cab83",
   "metadata": {},
   "outputs": [
    {
     "name": "stdout",
     "output_type": "stream",
     "text": [
      "-7.5\n",
      "7.25\n"
     ]
    }
   ],
   "source": [
    "x = -7.5\n",
    "print(x)\n",
    "x1 = abs(-7.25)\n",
    "print(x1)"
   ]
  },
  {
   "cell_type": "code",
   "execution_count": 8,
   "id": "65b0817f-d1e5-4c4d-bde8-445660226b48",
   "metadata": {},
   "outputs": [
    {
     "name": "stdout",
     "output_type": "stream",
     "text": [
      "8\n"
     ]
    }
   ],
   "source": [
    "y = abs(-8)\n",
    "print(y)"
   ]
  },
  {
   "cell_type": "code",
   "execution_count": 9,
   "id": "2da88a86-c50e-43da-86a7-b37fb6e954db",
   "metadata": {},
   "outputs": [
    {
     "name": "stdout",
     "output_type": "stream",
     "text": [
      "7.211102550927978\n"
     ]
    }
   ],
   "source": [
    "z = abs(4+6j)\n",
    "print(z)"
   ]
  },
  {
   "cell_type": "code",
   "execution_count": 13,
   "id": "fa8f04a4-75c2-4a06-90e6-26e9a17c0944",
   "metadata": {},
   "outputs": [
    {
     "name": "stdout",
     "output_type": "stream",
     "text": [
      "0b1110\n"
     ]
    }
   ],
   "source": [
    "x = bin(14) #binary function\n",
    "print(x)"
   ]
  },
  {
   "cell_type": "code",
   "execution_count": 12,
   "id": "cc1ad60f-685d-46a1-8c00-96bd3db4bfe1",
   "metadata": {},
   "outputs": [
    {
     "name": "stdout",
     "output_type": "stream",
     "text": [
      "0b100100\n"
     ]
    }
   ],
   "source": [
    "y = bin(36)\n",
    "print(y)"
   ]
  },
  {
   "cell_type": "code",
   "execution_count": 14,
   "id": "37c68374-cb0e-41b1-9595-d84ce5b8e379",
   "metadata": {},
   "outputs": [
    {
     "name": "stdout",
     "output_type": "stream",
     "text": [
      "0b1100\n"
     ]
    }
   ],
   "source": [
    "print(bin(12))"
   ]
  },
  {
   "cell_type": "code",
   "execution_count": 15,
   "id": "5e11383b-dad5-4415-8709-60b3a6efd423",
   "metadata": {},
   "outputs": [
    {
     "name": "stdout",
     "output_type": "stream",
     "text": [
      "0b11000\n"
     ]
    }
   ],
   "source": [
    "print(bin(24))"
   ]
  },
  {
   "cell_type": "markdown",
   "id": "9f834bb7-311c-4677-8230-d87aecac481f",
   "metadata": {},
   "source": [
    "### Python bytes function"
   ]
  },
  {
   "cell_type": "code",
   "execution_count": 16,
   "id": "df12c2a7-0e43-4fc5-a893-abf0481ad826",
   "metadata": {},
   "outputs": [
    {
     "name": "stdout",
     "output_type": "stream",
     "text": [
      "b'\\x00\\x00\\x00\\x00'\n"
     ]
    }
   ],
   "source": [
    "x = bytes(4)\n",
    "print(x)"
   ]
  },
  {
   "cell_type": "code",
   "execution_count": 17,
   "id": "ba5c3c2b-6eae-4b32-81a9-8bb7d7443e8a",
   "metadata": {},
   "outputs": [
    {
     "name": "stdout",
     "output_type": "stream",
     "text": [
      "b'\\x00\\x00\\x00\\x00\\x00\\x00\\x00\\x00\\x00\\x00\\x00\\x00\\x00\\x00\\x00\\x00'\n"
     ]
    }
   ],
   "source": [
    "x = bytes(16)\n",
    "print(x)"
   ]
  },
  {
   "cell_type": "markdown",
   "id": "6097a0f6-bfdb-490a-bf9a-5b870eb770be",
   "metadata": {},
   "source": [
    "### Python chr() function"
   ]
  },
  {
   "cell_type": "code",
   "execution_count": 18,
   "id": "ee089c1c-8d31-45d5-9de8-d7459a9e4aa4",
   "metadata": {},
   "outputs": [
    {
     "name": "stdout",
     "output_type": "stream",
     "text": [
      "a\n"
     ]
    }
   ],
   "source": [
    "x = chr(97)\n",
    "print(x)"
   ]
  },
  {
   "cell_type": "code",
   "execution_count": 19,
   "id": "5b2b5a5f-e33e-4bf4-9486-86c154f45d65",
   "metadata": {},
   "outputs": [
    {
     "name": "stdout",
     "output_type": "stream",
     "text": [
      "c\n"
     ]
    }
   ],
   "source": [
    "print(chr(99))"
   ]
  },
  {
   "cell_type": "code",
   "execution_count": 20,
   "id": "4d712843-69fc-466d-b3d0-2e2f0bee3899",
   "metadata": {},
   "outputs": [
    {
     "name": "stdout",
     "output_type": "stream",
     "text": [
      "_\n"
     ]
    }
   ],
   "source": [
    "print(chr(95))"
   ]
  },
  {
   "cell_type": "code",
   "execution_count": 22,
   "id": "d6cfeda7-838e-42c3-9657-2012480418fc",
   "metadata": {},
   "outputs": [
    {
     "name": "stdout",
     "output_type": "stream",
     "text": [
      "`\n"
     ]
    }
   ],
   "source": [
    "print(chr(96))"
   ]
  },
  {
   "cell_type": "markdown",
   "id": "44da27b1-a1f5-408a-9e8f-2f06dcf6f6d5",
   "metadata": {},
   "source": [
    "### Complex function"
   ]
  },
  {
   "cell_type": "code",
   "execution_count": 23,
   "id": "fefbebf6-ae72-4070-9628-793335c283d3",
   "metadata": {},
   "outputs": [
    {
     "name": "stdout",
     "output_type": "stream",
     "text": [
      "(3+5j)\n"
     ]
    }
   ],
   "source": [
    "x = 3 + 5j\n",
    "print(x)"
   ]
  },
  {
   "cell_type": "code",
   "execution_count": 24,
   "id": "0f2cf720-69c1-4dac-b619-39d12ded21d0",
   "metadata": {},
   "outputs": [
    {
     "name": "stdout",
     "output_type": "stream",
     "text": [
      "(3+5j)\n"
     ]
    }
   ],
   "source": [
    "x = complex(3,5)\n",
    "print(x)"
   ]
  },
  {
   "cell_type": "code",
   "execution_count": 26,
   "id": "b1fb9be5-1156-42ad-95ee-329a820c35ef",
   "metadata": {},
   "outputs": [
    {
     "name": "stdout",
     "output_type": "stream",
     "text": [
      "(2.5+3.96j)\n"
     ]
    }
   ],
   "source": [
    "y = complex(2.5, 3.96)\n",
    "print(y)"
   ]
  },
  {
   "cell_type": "code",
   "execution_count": 27,
   "id": "26994fba-47dd-47e0-a920-86d3e806fef0",
   "metadata": {},
   "outputs": [
    {
     "name": "stdout",
     "output_type": "stream",
     "text": [
      "(2+0j)\n"
     ]
    }
   ],
   "source": [
    "z = complex(\"2\")\n",
    "print(z)"
   ]
  },
  {
   "cell_type": "markdown",
   "id": "ffe8eacf-d576-4df5-b4b6-fd4ca3f00e9f",
   "metadata": {},
   "source": [
    "### Float, Str and Int function"
   ]
  },
  {
   "cell_type": "code",
   "execution_count": 28,
   "id": "15237520-047a-4abb-a615-4364c166183c",
   "metadata": {},
   "outputs": [
    {
     "name": "stdout",
     "output_type": "stream",
     "text": [
      "3.0\n"
     ]
    }
   ],
   "source": [
    "print(float(3))"
   ]
  },
  {
   "cell_type": "code",
   "execution_count": 29,
   "id": "2b370916-929a-417b-bb25-bf41524f1f4a",
   "metadata": {},
   "outputs": [
    {
     "name": "stdout",
     "output_type": "stream",
     "text": [
      "45\n"
     ]
    }
   ],
   "source": [
    "print(int(45))"
   ]
  },
  {
   "cell_type": "code",
   "execution_count": 30,
   "id": "2f1be7b3-31f0-4b17-8d65-314d97dc6908",
   "metadata": {},
   "outputs": [
    {
     "name": "stdout",
     "output_type": "stream",
     "text": [
      "3\n"
     ]
    }
   ],
   "source": [
    "print(int(3.564))"
   ]
  },
  {
   "cell_type": "code",
   "execution_count": 32,
   "id": "ddf5c5ee-3f28-4aec-ae7f-f8ae54496e71",
   "metadata": {},
   "outputs": [
    {
     "name": "stdout",
     "output_type": "stream",
     "text": [
      "34\n"
     ]
    }
   ],
   "source": [
    "print(str(\"34\"))"
   ]
  },
  {
   "cell_type": "code",
   "execution_count": 34,
   "id": "659c2b36-9d23-438c-b544-2e9b2ae54c22",
   "metadata": {},
   "outputs": [
    {
     "name": "stdout",
     "output_type": "stream",
     "text": [
      "<class 'int'>\n"
     ]
    }
   ],
   "source": [
    "x = 34\n",
    "print(type(x))"
   ]
  },
  {
   "cell_type": "code",
   "execution_count": 35,
   "id": "5f74ec9b-e4f2-4586-bfe9-0aef2e946d8e",
   "metadata": {},
   "outputs": [
    {
     "name": "stdout",
     "output_type": "stream",
     "text": [
      "<class 'str'>\n"
     ]
    }
   ],
   "source": [
    "x = \"34\"\n",
    "print(type(x))"
   ]
  },
  {
   "cell_type": "code",
   "execution_count": 36,
   "id": "2c7ca063-49c0-45d6-b885-b6c0048df465",
   "metadata": {},
   "outputs": [
    {
     "name": "stdout",
     "output_type": "stream",
     "text": [
      "Help on class str in module builtins:\n",
      "\n",
      "class str(object)\n",
      " |  str(object='') -> str\n",
      " |  str(bytes_or_buffer[, encoding[, errors]]) -> str\n",
      " |  \n",
      " |  Create a new string object from the given object. If encoding or\n",
      " |  errors is specified, then the object must expose a data buffer\n",
      " |  that will be decoded using the given encoding and error handler.\n",
      " |  Otherwise, returns the result of object.__str__() (if defined)\n",
      " |  or repr(object).\n",
      " |  encoding defaults to sys.getdefaultencoding().\n",
      " |  errors defaults to 'strict'.\n",
      " |  \n",
      " |  Methods defined here:\n",
      " |  \n",
      " |  __add__(self, value, /)\n",
      " |      Return self+value.\n",
      " |  \n",
      " |  __contains__(self, key, /)\n",
      " |      Return key in self.\n",
      " |  \n",
      " |  __eq__(self, value, /)\n",
      " |      Return self==value.\n",
      " |  \n",
      " |  __format__(self, format_spec, /)\n",
      " |      Return a formatted version of the string as described by format_spec.\n",
      " |  \n",
      " |  __ge__(self, value, /)\n",
      " |      Return self>=value.\n",
      " |  \n",
      " |  __getattribute__(self, name, /)\n",
      " |      Return getattr(self, name).\n",
      " |  \n",
      " |  __getitem__(self, key, /)\n",
      " |      Return self[key].\n",
      " |  \n",
      " |  __getnewargs__(...)\n",
      " |  \n",
      " |  __gt__(self, value, /)\n",
      " |      Return self>value.\n",
      " |  \n",
      " |  __hash__(self, /)\n",
      " |      Return hash(self).\n",
      " |  \n",
      " |  __iter__(self, /)\n",
      " |      Implement iter(self).\n",
      " |  \n",
      " |  __le__(self, value, /)\n",
      " |      Return self<=value.\n",
      " |  \n",
      " |  __len__(self, /)\n",
      " |      Return len(self).\n",
      " |  \n",
      " |  __lt__(self, value, /)\n",
      " |      Return self<value.\n",
      " |  \n",
      " |  __mod__(self, value, /)\n",
      " |      Return self%value.\n",
      " |  \n",
      " |  __mul__(self, value, /)\n",
      " |      Return self*value.\n",
      " |  \n",
      " |  __ne__(self, value, /)\n",
      " |      Return self!=value.\n",
      " |  \n",
      " |  __repr__(self, /)\n",
      " |      Return repr(self).\n",
      " |  \n",
      " |  __rmod__(self, value, /)\n",
      " |      Return value%self.\n",
      " |  \n",
      " |  __rmul__(self, value, /)\n",
      " |      Return value*self.\n",
      " |  \n",
      " |  __sizeof__(self, /)\n",
      " |      Return the size of the string in memory, in bytes.\n",
      " |  \n",
      " |  __str__(self, /)\n",
      " |      Return str(self).\n",
      " |  \n",
      " |  capitalize(self, /)\n",
      " |      Return a capitalized version of the string.\n",
      " |      \n",
      " |      More specifically, make the first character have upper case and the rest lower\n",
      " |      case.\n",
      " |  \n",
      " |  casefold(self, /)\n",
      " |      Return a version of the string suitable for caseless comparisons.\n",
      " |  \n",
      " |  center(self, width, fillchar=' ', /)\n",
      " |      Return a centered string of length width.\n",
      " |      \n",
      " |      Padding is done using the specified fill character (default is a space).\n",
      " |  \n",
      " |  count(...)\n",
      " |      S.count(sub[, start[, end]]) -> int\n",
      " |      \n",
      " |      Return the number of non-overlapping occurrences of substring sub in\n",
      " |      string S[start:end].  Optional arguments start and end are\n",
      " |      interpreted as in slice notation.\n",
      " |  \n",
      " |  encode(self, /, encoding='utf-8', errors='strict')\n",
      " |      Encode the string using the codec registered for encoding.\n",
      " |      \n",
      " |      encoding\n",
      " |        The encoding in which to encode the string.\n",
      " |      errors\n",
      " |        The error handling scheme to use for encoding errors.\n",
      " |        The default is 'strict' meaning that encoding errors raise a\n",
      " |        UnicodeEncodeError.  Other possible values are 'ignore', 'replace' and\n",
      " |        'xmlcharrefreplace' as well as any other name registered with\n",
      " |        codecs.register_error that can handle UnicodeEncodeErrors.\n",
      " |  \n",
      " |  endswith(...)\n",
      " |      S.endswith(suffix[, start[, end]]) -> bool\n",
      " |      \n",
      " |      Return True if S ends with the specified suffix, False otherwise.\n",
      " |      With optional start, test S beginning at that position.\n",
      " |      With optional end, stop comparing S at that position.\n",
      " |      suffix can also be a tuple of strings to try.\n",
      " |  \n",
      " |  expandtabs(self, /, tabsize=8)\n",
      " |      Return a copy where all tab characters are expanded using spaces.\n",
      " |      \n",
      " |      If tabsize is not given, a tab size of 8 characters is assumed.\n",
      " |  \n",
      " |  find(...)\n",
      " |      S.find(sub[, start[, end]]) -> int\n",
      " |      \n",
      " |      Return the lowest index in S where substring sub is found,\n",
      " |      such that sub is contained within S[start:end].  Optional\n",
      " |      arguments start and end are interpreted as in slice notation.\n",
      " |      \n",
      " |      Return -1 on failure.\n",
      " |  \n",
      " |  format(...)\n",
      " |      S.format(*args, **kwargs) -> str\n",
      " |      \n",
      " |      Return a formatted version of S, using substitutions from args and kwargs.\n",
      " |      The substitutions are identified by braces ('{' and '}').\n",
      " |  \n",
      " |  format_map(...)\n",
      " |      S.format_map(mapping) -> str\n",
      " |      \n",
      " |      Return a formatted version of S, using substitutions from mapping.\n",
      " |      The substitutions are identified by braces ('{' and '}').\n",
      " |  \n",
      " |  index(...)\n",
      " |      S.index(sub[, start[, end]]) -> int\n",
      " |      \n",
      " |      Return the lowest index in S where substring sub is found,\n",
      " |      such that sub is contained within S[start:end].  Optional\n",
      " |      arguments start and end are interpreted as in slice notation.\n",
      " |      \n",
      " |      Raises ValueError when the substring is not found.\n",
      " |  \n",
      " |  isalnum(self, /)\n",
      " |      Return True if the string is an alpha-numeric string, False otherwise.\n",
      " |      \n",
      " |      A string is alpha-numeric if all characters in the string are alpha-numeric and\n",
      " |      there is at least one character in the string.\n",
      " |  \n",
      " |  isalpha(self, /)\n",
      " |      Return True if the string is an alphabetic string, False otherwise.\n",
      " |      \n",
      " |      A string is alphabetic if all characters in the string are alphabetic and there\n",
      " |      is at least one character in the string.\n",
      " |  \n",
      " |  isascii(self, /)\n",
      " |      Return True if all characters in the string are ASCII, False otherwise.\n",
      " |      \n",
      " |      ASCII characters have code points in the range U+0000-U+007F.\n",
      " |      Empty string is ASCII too.\n",
      " |  \n",
      " |  isdecimal(self, /)\n",
      " |      Return True if the string is a decimal string, False otherwise.\n",
      " |      \n",
      " |      A string is a decimal string if all characters in the string are decimal and\n",
      " |      there is at least one character in the string.\n",
      " |  \n",
      " |  isdigit(self, /)\n",
      " |      Return True if the string is a digit string, False otherwise.\n",
      " |      \n",
      " |      A string is a digit string if all characters in the string are digits and there\n",
      " |      is at least one character in the string.\n",
      " |  \n",
      " |  isidentifier(self, /)\n",
      " |      Return True if the string is a valid Python identifier, False otherwise.\n",
      " |      \n",
      " |      Call keyword.iskeyword(s) to test whether string s is a reserved identifier,\n",
      " |      such as \"def\" or \"class\".\n",
      " |  \n",
      " |  islower(self, /)\n",
      " |      Return True if the string is a lowercase string, False otherwise.\n",
      " |      \n",
      " |      A string is lowercase if all cased characters in the string are lowercase and\n",
      " |      there is at least one cased character in the string.\n",
      " |  \n",
      " |  isnumeric(self, /)\n",
      " |      Return True if the string is a numeric string, False otherwise.\n",
      " |      \n",
      " |      A string is numeric if all characters in the string are numeric and there is at\n",
      " |      least one character in the string.\n",
      " |  \n",
      " |  isprintable(self, /)\n",
      " |      Return True if the string is printable, False otherwise.\n",
      " |      \n",
      " |      A string is printable if all of its characters are considered printable in\n",
      " |      repr() or if it is empty.\n",
      " |  \n",
      " |  isspace(self, /)\n",
      " |      Return True if the string is a whitespace string, False otherwise.\n",
      " |      \n",
      " |      A string is whitespace if all characters in the string are whitespace and there\n",
      " |      is at least one character in the string.\n",
      " |  \n",
      " |  istitle(self, /)\n",
      " |      Return True if the string is a title-cased string, False otherwise.\n",
      " |      \n",
      " |      In a title-cased string, upper- and title-case characters may only\n",
      " |      follow uncased characters and lowercase characters only cased ones.\n",
      " |  \n",
      " |  isupper(self, /)\n",
      " |      Return True if the string is an uppercase string, False otherwise.\n",
      " |      \n",
      " |      A string is uppercase if all cased characters in the string are uppercase and\n",
      " |      there is at least one cased character in the string.\n",
      " |  \n",
      " |  join(self, iterable, /)\n",
      " |      Concatenate any number of strings.\n",
      " |      \n",
      " |      The string whose method is called is inserted in between each given string.\n",
      " |      The result is returned as a new string.\n",
      " |      \n",
      " |      Example: '.'.join(['ab', 'pq', 'rs']) -> 'ab.pq.rs'\n",
      " |  \n",
      " |  ljust(self, width, fillchar=' ', /)\n",
      " |      Return a left-justified string of length width.\n",
      " |      \n",
      " |      Padding is done using the specified fill character (default is a space).\n",
      " |  \n",
      " |  lower(self, /)\n",
      " |      Return a copy of the string converted to lowercase.\n",
      " |  \n",
      " |  lstrip(self, chars=None, /)\n",
      " |      Return a copy of the string with leading whitespace removed.\n",
      " |      \n",
      " |      If chars is given and not None, remove characters in chars instead.\n",
      " |  \n",
      " |  partition(self, sep, /)\n",
      " |      Partition the string into three parts using the given separator.\n",
      " |      \n",
      " |      This will search for the separator in the string.  If the separator is found,\n",
      " |      returns a 3-tuple containing the part before the separator, the separator\n",
      " |      itself, and the part after it.\n",
      " |      \n",
      " |      If the separator is not found, returns a 3-tuple containing the original string\n",
      " |      and two empty strings.\n",
      " |  \n",
      " |  removeprefix(self, prefix, /)\n",
      " |      Return a str with the given prefix string removed if present.\n",
      " |      \n",
      " |      If the string starts with the prefix string, return string[len(prefix):].\n",
      " |      Otherwise, return a copy of the original string.\n",
      " |  \n",
      " |  removesuffix(self, suffix, /)\n",
      " |      Return a str with the given suffix string removed if present.\n",
      " |      \n",
      " |      If the string ends with the suffix string and that suffix is not empty,\n",
      " |      return string[:-len(suffix)]. Otherwise, return a copy of the original\n",
      " |      string.\n",
      " |  \n",
      " |  replace(self, old, new, count=-1, /)\n",
      " |      Return a copy with all occurrences of substring old replaced by new.\n",
      " |      \n",
      " |        count\n",
      " |          Maximum number of occurrences to replace.\n",
      " |          -1 (the default value) means replace all occurrences.\n",
      " |      \n",
      " |      If the optional argument count is given, only the first count occurrences are\n",
      " |      replaced.\n",
      " |  \n",
      " |  rfind(...)\n",
      " |      S.rfind(sub[, start[, end]]) -> int\n",
      " |      \n",
      " |      Return the highest index in S where substring sub is found,\n",
      " |      such that sub is contained within S[start:end].  Optional\n",
      " |      arguments start and end are interpreted as in slice notation.\n",
      " |      \n",
      " |      Return -1 on failure.\n",
      " |  \n",
      " |  rindex(...)\n",
      " |      S.rindex(sub[, start[, end]]) -> int\n",
      " |      \n",
      " |      Return the highest index in S where substring sub is found,\n",
      " |      such that sub is contained within S[start:end].  Optional\n",
      " |      arguments start and end are interpreted as in slice notation.\n",
      " |      \n",
      " |      Raises ValueError when the substring is not found.\n",
      " |  \n",
      " |  rjust(self, width, fillchar=' ', /)\n",
      " |      Return a right-justified string of length width.\n",
      " |      \n",
      " |      Padding is done using the specified fill character (default is a space).\n",
      " |  \n",
      " |  rpartition(self, sep, /)\n",
      " |      Partition the string into three parts using the given separator.\n",
      " |      \n",
      " |      This will search for the separator in the string, starting at the end. If\n",
      " |      the separator is found, returns a 3-tuple containing the part before the\n",
      " |      separator, the separator itself, and the part after it.\n",
      " |      \n",
      " |      If the separator is not found, returns a 3-tuple containing two empty strings\n",
      " |      and the original string.\n",
      " |  \n",
      " |  rsplit(self, /, sep=None, maxsplit=-1)\n",
      " |      Return a list of the substrings in the string, using sep as the separator string.\n",
      " |      \n",
      " |        sep\n",
      " |          The separator used to split the string.\n",
      " |      \n",
      " |          When set to None (the default value), will split on any whitespace\n",
      " |          character (including \\\\n \\\\r \\\\t \\\\f and spaces) and will discard\n",
      " |          empty strings from the result.\n",
      " |        maxsplit\n",
      " |          Maximum number of splits (starting from the left).\n",
      " |          -1 (the default value) means no limit.\n",
      " |      \n",
      " |      Splitting starts at the end of the string and works to the front.\n",
      " |  \n",
      " |  rstrip(self, chars=None, /)\n",
      " |      Return a copy of the string with trailing whitespace removed.\n",
      " |      \n",
      " |      If chars is given and not None, remove characters in chars instead.\n",
      " |  \n",
      " |  split(self, /, sep=None, maxsplit=-1)\n",
      " |      Return a list of the substrings in the string, using sep as the separator string.\n",
      " |      \n",
      " |        sep\n",
      " |          The separator used to split the string.\n",
      " |      \n",
      " |          When set to None (the default value), will split on any whitespace\n",
      " |          character (including \\\\n \\\\r \\\\t \\\\f and spaces) and will discard\n",
      " |          empty strings from the result.\n",
      " |        maxsplit\n",
      " |          Maximum number of splits (starting from the left).\n",
      " |          -1 (the default value) means no limit.\n",
      " |      \n",
      " |      Note, str.split() is mainly useful for data that has been intentionally\n",
      " |      delimited.  With natural text that includes punctuation, consider using\n",
      " |      the regular expression module.\n",
      " |  \n",
      " |  splitlines(self, /, keepends=False)\n",
      " |      Return a list of the lines in the string, breaking at line boundaries.\n",
      " |      \n",
      " |      Line breaks are not included in the resulting list unless keepends is given and\n",
      " |      true.\n",
      " |  \n",
      " |  startswith(...)\n",
      " |      S.startswith(prefix[, start[, end]]) -> bool\n",
      " |      \n",
      " |      Return True if S starts with the specified prefix, False otherwise.\n",
      " |      With optional start, test S beginning at that position.\n",
      " |      With optional end, stop comparing S at that position.\n",
      " |      prefix can also be a tuple of strings to try.\n",
      " |  \n",
      " |  strip(self, chars=None, /)\n",
      " |      Return a copy of the string with leading and trailing whitespace removed.\n",
      " |      \n",
      " |      If chars is given and not None, remove characters in chars instead.\n",
      " |  \n",
      " |  swapcase(self, /)\n",
      " |      Convert uppercase characters to lowercase and lowercase characters to uppercase.\n",
      " |  \n",
      " |  title(self, /)\n",
      " |      Return a version of the string where each word is titlecased.\n",
      " |      \n",
      " |      More specifically, words start with uppercased characters and all remaining\n",
      " |      cased characters have lower case.\n",
      " |  \n",
      " |  translate(self, table, /)\n",
      " |      Replace each character in the string using the given translation table.\n",
      " |      \n",
      " |        table\n",
      " |          Translation table, which must be a mapping of Unicode ordinals to\n",
      " |          Unicode ordinals, strings, or None.\n",
      " |      \n",
      " |      The table must implement lookup/indexing via __getitem__, for instance a\n",
      " |      dictionary or list.  If this operation raises LookupError, the character is\n",
      " |      left untouched.  Characters mapped to None are deleted.\n",
      " |  \n",
      " |  upper(self, /)\n",
      " |      Return a copy of the string converted to uppercase.\n",
      " |  \n",
      " |  zfill(self, width, /)\n",
      " |      Pad a numeric string with zeros on the left, to fill a field of the given width.\n",
      " |      \n",
      " |      The string is never truncated.\n",
      " |  \n",
      " |  ----------------------------------------------------------------------\n",
      " |  Static methods defined here:\n",
      " |  \n",
      " |  __new__(*args, **kwargs) from builtins.type\n",
      " |      Create and return a new object.  See help(type) for accurate signature.\n",
      " |  \n",
      " |  maketrans(...)\n",
      " |      Return a translation table usable for str.translate().\n",
      " |      \n",
      " |      If there is only one argument, it must be a dictionary mapping Unicode\n",
      " |      ordinals (integers) or characters to Unicode ordinals, strings or None.\n",
      " |      Character keys will be then converted to ordinals.\n",
      " |      If there are two arguments, they must be strings of equal length, and\n",
      " |      in the resulting dictionary, each character in x will be mapped to the\n",
      " |      character at the same position in y. If there is a third argument, it\n",
      " |      must be a string, whose characters will be mapped to None in the result.\n",
      "\n"
     ]
    }
   ],
   "source": [
    "help(str)"
   ]
  },
  {
   "cell_type": "markdown",
   "id": "776689b1-10dd-4312-a2f8-7f892aa3ac51",
   "metadata": {},
   "source": [
    "### Input function"
   ]
  },
  {
   "cell_type": "code",
   "execution_count": 1,
   "id": "064d7b0e-0f2f-4617-8243-e02e8c7772b4",
   "metadata": {},
   "outputs": [
    {
     "name": "stdout",
     "output_type": "stream",
     "text": [
      "what is your name:ram\n",
      "Hello ram\n"
     ]
    }
   ],
   "source": [
    "x = input(\"what is your name:\")\n",
    "print(\"Hello\", x)\n"
   ]
  },
  {
   "cell_type": "markdown",
   "id": "46f6406c",
   "metadata": {},
   "source": [
    "### Sort function (sorting a list)"
   ]
  },
  {
   "cell_type": "code",
   "execution_count": 8,
   "id": "3b729f00",
   "metadata": {},
   "outputs": [
    {
     "name": "stdout",
     "output_type": "stream",
     "text": [
      "Here is the sorted list: ['a', 'i', 'e', 'o', 'u']\n"
     ]
    }
   ],
   "source": [
    "vowels = [\"a\", \"i\", \"e\", \"o\", \"u\"]\n",
    "vowels.sort\n",
    "print(\"Here is the sorted list:\", vowels)"
   ]
  },
  {
   "cell_type": "code",
   "execution_count": 5,
   "id": "6f7207b5",
   "metadata": {},
   "outputs": [
    {
     "name": "stdout",
     "output_type": "stream",
     "text": [
      "Here is the sorted list: ['u', 'o', 'i', 'e', 'a']\n"
     ]
    }
   ],
   "source": [
    "vowels = [\"a\", \"i\", \"e\", \"o\", \"u\"]\n",
    "vowels.sort(reverse=True)\n",
    "print(\"Here is the sorted list:\", vowels)"
   ]
  },
  {
   "cell_type": "code",
   "execution_count": 40,
   "id": "89e53818",
   "metadata": {},
   "outputs": [
    {
     "name": "stdout",
     "output_type": "stream",
     "text": [
      "['a', 'o', 'e', 'i', 'u']\n"
     ]
    }
   ],
   "source": [
    "vowels = [\"a\",\"o\",\"e\",\"i\",\"u\"]\n",
    "vowels.sort\n",
    "\n",
    "print(vowels)"
   ]
  },
  {
   "cell_type": "code",
   "execution_count": null,
   "id": "561cd57c",
   "metadata": {},
   "outputs": [],
   "source": []
  },
  {
   "cell_type": "code",
   "execution_count": null,
   "id": "a5c87ab8",
   "metadata": {},
   "outputs": [],
   "source": []
  },
  {
   "cell_type": "markdown",
   "id": "78cf4065",
   "metadata": {},
   "source": [
    "### User-defined function"
   ]
  },
  {
   "cell_type": "code",
   "execution_count": 22,
   "id": "235f0453",
   "metadata": {},
   "outputs": [],
   "source": [
    "#create\n",
    "\n",
    "def My_function():\n",
    "    print(\"Hello Ram\")\n",
    "    print(\"you are in Indore now, right?\")"
   ]
  },
  {
   "cell_type": "code",
   "execution_count": 23,
   "id": "39ea32ac",
   "metadata": {},
   "outputs": [
    {
     "name": "stdout",
     "output_type": "stream",
     "text": [
      "Hello Ram\n",
      "you are in Indore now, right?\n"
     ]
    }
   ],
   "source": [
    "# calling a function\n",
    "\n",
    "My_function()"
   ]
  },
  {
   "cell_type": "raw",
   "id": "92a3e69d",
   "metadata": {},
   "source": [
    "def contact():\n",
    "    print(\"contact details of the school\")\n",
    "    print(\"Govt.sr.sc school\")\n",
    "    print(\"Banta\")\n",
    "    print(986786348)\n",
    "    print(\"Govt.contact@gmail.com\")"
   ]
  },
  {
   "cell_type": "raw",
   "id": "5d36ed7c",
   "metadata": {},
   "source": [
    "for i in range(4):\n",
    "    a = input(\"Name of student\")\n",
    "    b = int(input(\"enter the marks of maths\"))\n",
    "    c = int(input(\"enter the marks of science\"))\n",
    "    d = int(input(\"ente the marks of social science\"))\n",
    "    print()\n",
    "    contact()   "
   ]
  },
  {
   "cell_type": "code",
   "execution_count": 30,
   "id": "c72a22fd",
   "metadata": {},
   "outputs": [],
   "source": [
    "# Arguments use in function\n",
    "\n",
    "def ram(fname):\n",
    "    print(fname + \" \" + \"sharma\")"
   ]
  },
  {
   "cell_type": "code",
   "execution_count": 36,
   "id": "685dfaac",
   "metadata": {},
   "outputs": [
    {
     "name": "stdout",
     "output_type": "stream",
     "text": [
      "Chhatra sharma\n",
      "prakash sharma\n"
     ]
    }
   ],
   "source": [
    "ram(\"Chhatra\")\n",
    "\n",
    "ram(\"prakash\")"
   ]
  },
  {
   "cell_type": "code",
   "execution_count": 37,
   "id": "bdca728d",
   "metadata": {},
   "outputs": [],
   "source": [
    "# Arguments use in function\n",
    "\n",
    "def ram(fname, lname):\n",
    "    print(fname + \" \" + lname)"
   ]
  },
  {
   "cell_type": "code",
   "execution_count": 41,
   "id": "ebf32aa9",
   "metadata": {},
   "outputs": [
    {
     "name": "stdout",
     "output_type": "stream",
     "text": [
      "prakash sharma\n",
      "rahul patel\n"
     ]
    }
   ],
   "source": [
    "ram(\"prakash\", \"sharma\")\n",
    "ram(\"rahul\", \"patel\")"
   ]
  },
  {
   "cell_type": "raw",
   "id": "92488c36",
   "metadata": {},
   "source": [
    "# write a program to calculate the electricity bill\n",
    "\n",
    "if 500 units used - pay Rs 5 for each unit\n",
    "if 700 units used - pay Rs 10 for each unit\n",
    "if 1000 units used - pay Rs 15 for each unit\n",
    "if more than 1000 units used - pay Rs 20 for each unit"
   ]
  },
  {
   "cell_type": "code",
   "execution_count": 43,
   "id": "76c81181",
   "metadata": {},
   "outputs": [],
   "source": [
    "def electricity_bill(n):\n",
    "    if n<=500:\n",
    "        print(\"your bill is Rs\", n*5)\n",
    "    elif n>500 and n<=700:\n",
    "        print(\"your bill is Rs\", n*10)\n",
    "    elif n>700 and n<=1000:\n",
    "        print(\"your bill is Rs\", n*15)\n",
    "    elif n>1000:\n",
    "        print(\"your bill is Rs\", n*20)"
   ]
  },
  {
   "cell_type": "code",
   "execution_count": 58,
   "id": "10f4dee3",
   "metadata": {},
   "outputs": [],
   "source": [
    "def prakash():\n",
    "    print(\"last date of paying bill is 18 sep\")\n",
    "    print(\"after last date of bill you have pay Rs 100 as a fine\")\n",
    "    print(\"Electricity office banta, marwar junction\")"
   ]
  },
  {
   "cell_type": "code",
   "execution_count": 59,
   "id": "aac5a55f",
   "metadata": {},
   "outputs": [
    {
     "name": "stdout",
     "output_type": "stream",
     "text": [
      "Enter the Name of a customerergf\n",
      "Enter the unit of electricity you have used450\n",
      "your bill is Rs 2250\n",
      "\n",
      "last date of paying bill is 18 sep\n",
      "after last date of bill you have pay Rs 100 as a fine\n",
      "Electricity office banta, marwar junction\n",
      "Enter the Name of a customerrdf\n",
      "Enter the unit of electricity you have used560\n",
      "your bill is Rs 5600\n",
      "\n",
      "last date of paying bill is 18 sep\n",
      "after last date of bill you have pay Rs 100 as a fine\n",
      "Electricity office banta, marwar junction\n",
      "Enter the Name of a customererg\n",
      "Enter the unit of electricity you have used45\n",
      "your bill is Rs 225\n",
      "\n",
      "last date of paying bill is 18 sep\n",
      "after last date of bill you have pay Rs 100 as a fine\n",
      "Electricity office banta, marwar junction\n",
      "Enter the Name of a customerrtty\n",
      "Enter the unit of electricity you have used456\n",
      "your bill is Rs 2280\n",
      "\n",
      "last date of paying bill is 18 sep\n",
      "after last date of bill you have pay Rs 100 as a fine\n",
      "Electricity office banta, marwar junction\n"
     ]
    }
   ],
   "source": [
    "for i in range(4):\n",
    "    a = input(\"Enter the Name of a customer\")\n",
    "    n = int(input(\"Enter the unit of electricity you have used\"))\n",
    "    electricity_bill(n)\n",
    "    print()\n",
    "    prakash()"
   ]
  },
  {
   "cell_type": "code",
   "execution_count": 42,
   "id": "d41a20f4-ca62-42df-9dfc-97471ab1c320",
   "metadata": {},
   "outputs": [],
   "source": [
    "#type casting menas to convert one function type to another"
   ]
  },
  {
   "cell_type": "markdown",
   "id": "377dc2eb-6779-440a-9570-8c3f471afd9c",
   "metadata": {},
   "source": [
    "### Control flow statement"
   ]
  },
  {
   "cell_type": "markdown",
   "id": "7f2e02a6-82bb-46f9-ba76-39c50850c87f",
   "metadata": {},
   "source": [
    "### if condition"
   ]
  },
  {
   "cell_type": "code",
   "execution_count": 43,
   "id": "150427ce-146d-41b8-a80a-bcf1c035712c",
   "metadata": {},
   "outputs": [],
   "source": [
    "#write a program to calculate the % of a student in the subject maths sci social eng and hindi"
   ]
  },
  {
   "cell_type": "code",
   "execution_count": 46,
   "id": "9eefd9a3-8649-4918-a94d-b15b03b9c01f",
   "metadata": {},
   "outputs": [
    {
     "name": "stdin",
     "output_type": "stream",
     "text": [
      "Enter the name of a student Chhatra Ram\n",
      "enter the marks scored in english 89\n",
      "enter the marks scored in hindi 98\n",
      "enter the marks scored in social eng 65\n",
      "enter the marks scored in maths 94\n",
      "enter the marks scored in science 94\n"
     ]
    },
    {
     "name": "stdout",
     "output_type": "stream",
     "text": [
      "the percent scored by student is 88.0\n"
     ]
    }
   ],
   "source": [
    "x = input(\"Enter the name of a student\")\n",
    "a = int(input(\"enter the marks scored in english\"))\n",
    "b = int(input(\"enter the marks scored in hindi\"))\n",
    "c = int(input(\"enter the marks scored in social eng\"))\n",
    "d = int(input(\"enter the marks scored in maths\"))\n",
    "e = int(input(\"enter the marks scored in science\"))\n",
    "n = ((a+b+c+d+e)/500)*100\n",
    "print(\"the percent scored by student is\", n)"
   ]
  },
  {
   "cell_type": "code",
   "execution_count": 52,
   "id": "591a1e3e-d88a-41c6-994d-8363b753b499",
   "metadata": {},
   "outputs": [
    {
     "name": "stdin",
     "output_type": "stream",
     "text": [
      "enter the percentage scored by a student 86\n"
     ]
    },
    {
     "name": "stdout",
     "output_type": "stream",
     "text": [
      "B grade\n",
      "program successfullly excuted\n"
     ]
    }
   ],
   "source": [
    "a = int(input(\"enter the percentage scored by a student\"))\n",
    "\n",
    "if a>=90:\n",
    "    print(\"A grade\")\n",
    "if a>=75 and a<90:\n",
    "    print(\"B grade\")\n",
    "if a>=60 and a<75:\n",
    "    print(\"C grade\")\n",
    "print(\"program successfullly excuted\")"
   ]
  },
  {
   "cell_type": "markdown",
   "id": "26a0acc8-46b4-493a-b6a9-f5f1703cb549",
   "metadata": {},
   "source": [
    "### if-else statement"
   ]
  },
  {
   "cell_type": "code",
   "execution_count": 54,
   "id": "f124f0d8-3773-42d3-a42e-12d4b1651d39",
   "metadata": {},
   "outputs": [
    {
     "name": "stdin",
     "output_type": "stream",
     "text": [
      "enter a number: 60\n"
     ]
    },
    {
     "name": "stdout",
     "output_type": "stream",
     "text": [
      "fully divisible\n"
     ]
    }
   ],
   "source": [
    "a = int(input(\"enter a number:\"))\n",
    "\n",
    "if a%5==0:\n",
    "    print(\"fully divisible\")\n",
    "else:\n",
    "    print(\"not divisible\")"
   ]
  },
  {
   "cell_type": "code",
   "execution_count": 55,
   "id": "fd9ce61b-0edf-4284-a5a6-ac03b935cffd",
   "metadata": {},
   "outputs": [
    {
     "name": "stdin",
     "output_type": "stream",
     "text": [
      "enter a number: 21\n"
     ]
    },
    {
     "name": "stdout",
     "output_type": "stream",
     "text": [
      "not divisible\n"
     ]
    }
   ],
   "source": [
    "a = int(input(\"enter a number:\"))\n",
    "\n",
    "if a%5==0:\n",
    "    print(\"fully divisible\")\n",
    "else:\n",
    "    print(\"not divisible\")"
   ]
  },
  {
   "cell_type": "code",
   "execution_count": 59,
   "id": "e6255599-2b01-4042-8775-6a45b1f66620",
   "metadata": {},
   "outputs": [
    {
     "name": "stdin",
     "output_type": "stream",
     "text": [
      "enter a number: 0\n"
     ]
    },
    {
     "name": "stdout",
     "output_type": "stream",
     "text": [
      "Negative number\n"
     ]
    }
   ],
   "source": [
    "a = int(input(\"enter a number:\"))\n",
    "\n",
    "if a>0:\n",
    "    print(\"Positive number\")\n",
    "else:\n",
    "    print(\"Negative number\")"
   ]
  },
  {
   "cell_type": "markdown",
   "id": "3f022105-c1f7-46a7-9e0c-160b2d82e2e4",
   "metadata": {},
   "source": [
    "### if-elif-else statement"
   ]
  },
  {
   "cell_type": "code",
   "execution_count": 60,
   "id": "51ec1cba-604a-4b3f-b0e2-55bd888f398a",
   "metadata": {},
   "outputs": [
    {
     "name": "stdin",
     "output_type": "stream",
     "text": [
      "enter a city: Jaipur\n"
     ]
    },
    {
     "name": "stdout",
     "output_type": "stream",
     "text": [
      "The monument in Jaipur is Jalmahal\n"
     ]
    }
   ],
   "source": [
    "city = input(\"enter a city:\")\n",
    "\n",
    "if city == \"Delhi\":\n",
    "    print(\"The monument in Delhi is Redfort\")\n",
    "elif city == \"Orissa\":\n",
    "    print(\"The monument in Orissa is Konal Temple\")\n",
    "elif city == \"Hydrabad\":\n",
    "    print(\"The monument in Hydrabad is Charminar\")\n",
    "elif city == \"Jaipur\":\n",
    "    print(\"The monument in Jaipur is Jalmahal\")\n",
    "else:\n",
    "    print(\"No record is found\")"
   ]
  },
  {
   "cell_type": "code",
   "execution_count": 64,
   "id": "446fa7bd-b516-4ec2-ac4f-e4d4f1e4d583",
   "metadata": {},
   "outputs": [
    {
     "name": "stdin",
     "output_type": "stream",
     "text": [
      "enter a city: Orissa\n"
     ]
    },
    {
     "name": "stdout",
     "output_type": "stream",
     "text": [
      "The monument in Orissa is Konal Temple\n"
     ]
    }
   ],
   "source": [
    "city = input(\"enter a city:\")\n",
    "\n",
    "if city == \"Delhi\":\n",
    "    print(\"The monument in Delhi is Redfort\")\n",
    "elif city == \"Orissa\":\n",
    "    print(\"The monument in Orissa is Konal Temple\")\n",
    "elif city == \"Hydrabad\":\n",
    "    print(\"The monument in Hydrabad is Charminar\")\n",
    "elif city == \"Jaipur\":\n",
    "    print(\"The monument in Jaipur is Jalmahal\")\n",
    "else:\n",
    "    print(\"No record is found\")"
   ]
  },
  {
   "cell_type": "markdown",
   "id": "29683273-9dc6-4588-afc2-b71acd63d829",
   "metadata": {},
   "source": [
    "### Nested if-else statement"
   ]
  },
  {
   "cell_type": "markdown",
   "id": "a3c12f61-b68d-449f-999b-6c3cbdd64a63",
   "metadata": {},
   "source": [
    "We can have an if…elif…else statement inside another if…elif…else statement. \n",
    "\n",
    "This is called nesting in computer programming. Any number of these statements can be nested inside one another. \n",
    "Indentation is the only way to figure out the level of nesting."
   ]
  },
  {
   "cell_type": "code",
   "execution_count": 65,
   "id": "e9207334-ca31-4482-9608-9c5e686d9cd5",
   "metadata": {},
   "outputs": [
    {
     "name": "stdout",
     "output_type": "stream",
     "text": [
      "Positive number\n"
     ]
    }
   ],
   "source": [
    "num = 15\n",
    "if num >= 0:\n",
    "    if num == 0:\n",
    "        print(\"Zero\")\n",
    "    else:\n",
    "        print(\"Positive number\")\n",
    "else:\n",
    "    print(\"Negative number\")"
   ]
  },
  {
   "cell_type": "code",
   "execution_count": 70,
   "id": "c2fe928b-40ed-45e5-a396-2e67c9038285",
   "metadata": {},
   "outputs": [
    {
     "name": "stdout",
     "output_type": "stream",
     "text": [
      "This is half of 100\n"
     ]
    }
   ],
   "source": [
    "a = 50\n",
    "\n",
    "if a < 100:\n",
    "    if a == 50:\n",
    "        print(\"This is half of 100\")\n",
    "    else:\n",
    "        print(\"This is smaller than 100\")\n",
    "else:\n",
    "    print(\"This is bigger than 100\")\n",
    "        "
   ]
  },
  {
   "cell_type": "markdown",
   "id": "70b4f0f2-9cb3-486b-ba76-b0f32d9f8a85",
   "metadata": {},
   "source": [
    "### Loops in Python"
   ]
  },
  {
   "cell_type": "code",
   "execution_count": 1,
   "id": "cbe78d0b-1c63-48a8-9ce3-4772049d21bd",
   "metadata": {},
   "outputs": [
    {
     "name": "stdout",
     "output_type": "stream",
     "text": [
      "1\n",
      "2\n",
      "3\n",
      "4\n",
      "5\n"
     ]
    }
   ],
   "source": [
    "# while loop\n",
    "\n",
    "i = 1\n",
    "n = 5\n",
    "\n",
    "while i<=n:\n",
    "    print(i)\n",
    "    i = i+1"
   ]
  },
  {
   "cell_type": "code",
   "execution_count": 3,
   "id": "653c8696",
   "metadata": {},
   "outputs": [
    {
     "name": "stdout",
     "output_type": "stream",
     "text": [
      "enter the value8\n",
      "8\n",
      "16\n",
      "24\n",
      "32\n",
      "40\n",
      "48\n",
      "56\n",
      "64\n",
      "72\n",
      "80\n",
      "This is the multiplication table of 8\n"
     ]
    }
   ],
   "source": [
    "x = int(input(\"enter the value\"))\n",
    "i = 1\n",
    "\n",
    "while i<=10:\n",
    "    print(x*i)\n",
    "    i = i+1\n",
    "print(\"This is the multiplication table of\", x)"
   ]
  },
  {
   "cell_type": "code",
   "execution_count": null,
   "id": "52a752fc",
   "metadata": {},
   "outputs": [],
   "source": [
    "# while infinite loop\n",
    "\n",
    "age = 28\n",
    "\n",
    "while age>20:\n",
    "    print(\"you can vote\")"
   ]
  },
  {
   "cell_type": "code",
   "execution_count": 19,
   "id": "fa64706e",
   "metadata": {},
   "outputs": [
    {
     "name": "stdout",
     "output_type": "stream",
     "text": [
      "Hello students\n",
      "Hello students\n",
      "Hello students\n",
      "Hello students\n",
      "Hello students\n",
      "Hello students\n",
      "Hello students\n",
      "Hello students\n",
      "Hello students\n",
      "this is else block\n"
     ]
    }
   ],
   "source": [
    "count = 0\n",
    "\n",
    "while (count <9):\n",
    "    print(\"Hello students\")\n",
    "    count = count +1\n",
    "else:\n",
    "    print(\"this is else block\")"
   ]
  },
  {
   "cell_type": "markdown",
   "id": "9fe2deb9",
   "metadata": {},
   "source": [
    "### For loop statement"
   ]
  },
  {
   "cell_type": "code",
   "execution_count": 5,
   "id": "b7db5eab",
   "metadata": {},
   "outputs": [
    {
     "name": "stdout",
     "output_type": "stream",
     "text": [
      "apple\n",
      "banana\n",
      "orage\n"
     ]
    }
   ],
   "source": [
    "fruits = [\"apple\", \"banana\", \"orage\"]\n",
    "\n",
    "for x in fruits:\n",
    "    print(x)"
   ]
  },
  {
   "cell_type": "code",
   "execution_count": 9,
   "id": "fe41a6f3",
   "metadata": {},
   "outputs": [
    {
     "name": "stdout",
     "output_type": "stream",
     "text": [
      "apple banana orage "
     ]
    }
   ],
   "source": [
    "fruits = [\"apple\", \"banana\", \"orage\"]\n",
    "\n",
    "for x in fruits:\n",
    "    print(x, end= \" \")"
   ]
  },
  {
   "cell_type": "code",
   "execution_count": 17,
   "id": "9da0fc99",
   "metadata": {},
   "outputs": [
    {
     "name": "stdout",
     "output_type": "stream",
     "text": [
      "a\n",
      "p\n",
      "p\n",
      "l\n",
      "e\n"
     ]
    }
   ],
   "source": [
    "for a in \"apple\":\n",
    "    print(a)"
   ]
  },
  {
   "cell_type": "code",
   "execution_count": 18,
   "id": "3ece6865",
   "metadata": {},
   "outputs": [
    {
     "name": "stdout",
     "output_type": "stream",
     "text": [
      "0\n",
      "1\n",
      "2\n",
      "3\n",
      "4\n",
      "5\n",
      "0\n",
      "1\n",
      "2\n",
      "3\n",
      "4\n",
      "5\n",
      "6\n",
      "7\n",
      "8\n",
      "9\n"
     ]
    }
   ],
   "source": [
    "for i in range(0, 6):\n",
    "    print(i)\n",
    "\n",
    "    \n",
    "    \n",
    "    \n",
    "for i in range(10):\n",
    "    print(i)"
   ]
  },
  {
   "cell_type": "markdown",
   "id": "9fb97298",
   "metadata": {},
   "source": [
    "### Strrings in Python"
   ]
  },
  {
   "cell_type": "code",
   "execution_count": 2,
   "id": "f8252beb",
   "metadata": {},
   "outputs": [
    {
     "name": "stdout",
     "output_type": "stream",
     "text": [
      "Chhatra\n",
      "Ram \n",
      "dewasi\n",
      "Banta\n",
      "now live in INdore\n"
     ]
    }
   ],
   "source": [
    "a = '''Chhatra\n",
    "Ram \n",
    "dewasi\n",
    "Banta\n",
    "now live in INdore'''\n",
    "print(a)"
   ]
  },
  {
   "cell_type": "code",
   "execution_count": 3,
   "id": "4d7abf93",
   "metadata": {},
   "outputs": [
    {
     "name": "stdout",
     "output_type": "stream",
     "text": [
      "[2]\n"
     ]
    }
   ],
   "source": [
    "# Indexing of strings\n",
    "\n",
    "a= \"Chhatra Ram\"\n",
    "print([2])"
   ]
  },
  {
   "cell_type": "code",
   "execution_count": 4,
   "id": "8b130a04",
   "metadata": {},
   "outputs": [
    {
     "name": "stdout",
     "output_type": "stream",
     "text": [
      "h\n"
     ]
    }
   ],
   "source": [
    "print(a[2])"
   ]
  },
  {
   "cell_type": "code",
   "execution_count": 5,
   "id": "7b633070",
   "metadata": {},
   "outputs": [
    {
     "name": "stdout",
     "output_type": "stream",
     "text": [
      "Chhatra \n"
     ]
    }
   ],
   "source": [
    "print(a[0:8])"
   ]
  },
  {
   "cell_type": "code",
   "execution_count": 6,
   "id": "ce9408ae",
   "metadata": {},
   "outputs": [
    {
     "name": "stdout",
     "output_type": "stream",
     "text": [
      "Chhatra Ram\n"
     ]
    }
   ],
   "source": [
    "print(a[0:20])"
   ]
  },
  {
   "cell_type": "code",
   "execution_count": 7,
   "id": "27ef9d9e",
   "metadata": {},
   "outputs": [
    {
     "name": "stdout",
     "output_type": "stream",
     "text": [
      "m\n"
     ]
    }
   ],
   "source": [
    "print(a[-1])"
   ]
  },
  {
   "cell_type": "code",
   "execution_count": 8,
   "id": "636445df",
   "metadata": {},
   "outputs": [
    {
     "name": "stdout",
     "output_type": "stream",
     "text": [
      "Chhat\n"
     ]
    }
   ],
   "source": [
    "print(a[:5])"
   ]
  },
  {
   "cell_type": "code",
   "execution_count": 9,
   "id": "ee86306a",
   "metadata": {},
   "outputs": [
    {
     "name": "stdout",
     "output_type": "stream",
     "text": [
      "\n"
     ]
    }
   ],
   "source": [
    "print(a[-1:-12]) # not possible to show"
   ]
  },
  {
   "cell_type": "code",
   "execution_count": 10,
   "id": "0a728a63",
   "metadata": {},
   "outputs": [
    {
     "name": "stdout",
     "output_type": "stream",
     "text": [
      "hha\n"
     ]
    }
   ],
   "source": [
    "print(a[1:-7])"
   ]
  },
  {
   "cell_type": "code",
   "execution_count": 11,
   "id": "7282b9ba",
   "metadata": {},
   "outputs": [
    {
     "name": "stdout",
     "output_type": "stream",
     "text": [
      "\n"
     ]
    }
   ],
   "source": [
    "print(a[5:0]) # not possible because there is not possible to show"
   ]
  },
  {
   "cell_type": "code",
   "execution_count": 12,
   "id": "e27304ca",
   "metadata": {},
   "outputs": [
    {
     "name": "stdout",
     "output_type": "stream",
     "text": [
      "ChtaRm\n"
     ]
    }
   ],
   "source": [
    "print(a[0:20:2])"
   ]
  },
  {
   "cell_type": "code",
   "execution_count": 13,
   "id": "42b9760b",
   "metadata": {},
   "outputs": [
    {
     "name": "stdout",
     "output_type": "stream",
     "text": [
      "a \n"
     ]
    }
   ],
   "source": [
    "print(a[3:9:4])"
   ]
  },
  {
   "cell_type": "code",
   "execution_count": 14,
   "id": "3e1ee1af",
   "metadata": {},
   "outputs": [
    {
     "name": "stdout",
     "output_type": "stream",
     "text": [
      "hhatra \n"
     ]
    }
   ],
   "source": [
    "print(a[1:8:1])"
   ]
  },
  {
   "cell_type": "code",
   "execution_count": 15,
   "id": "bf26a1a6",
   "metadata": {},
   "outputs": [
    {
     "name": "stdout",
     "output_type": "stream",
     "text": [
      "maR artahhC\n"
     ]
    }
   ],
   "source": [
    "print(a[::-1]) # to reverse all characters"
   ]
  },
  {
   "cell_type": "code",
   "execution_count": 16,
   "id": "33c9de3a",
   "metadata": {},
   "outputs": [
    {
     "name": "stdout",
     "output_type": "stream",
     "text": [
      "11\n"
     ]
    }
   ],
   "source": [
    "print(len(a))"
   ]
  },
  {
   "cell_type": "code",
   "execution_count": 18,
   "id": "a344b293",
   "metadata": {},
   "outputs": [
    {
     "name": "stdout",
     "output_type": "stream",
     "text": [
      "Python lang\n",
      "11\n"
     ]
    }
   ],
   "source": [
    "a = \"Python lang\"\n",
    "print(a)\n",
    "print(len(a))"
   ]
  },
  {
   "cell_type": "code",
   "execution_count": 25,
   "id": "de386049",
   "metadata": {},
   "outputs": [
    {
     "name": "stdout",
     "output_type": "stream",
     "text": [
      "CHHATRA RAM\n",
      "chhatra ram\n",
      "Chhatra ram\n",
      "2\n",
      "1\n",
      "Chhatra Sharma\n",
      "Chhatra Ram\n"
     ]
    }
   ],
   "source": [
    "# upper methods\n",
    "\n",
    "a = \"Chhatra Ram\"\n",
    "\n",
    "print(a.upper())\n",
    "print(a.lower())\n",
    "print(a.capitalize())\n",
    "print(a.count(\"h\"))\n",
    "print(a.find(\"h\"))\n",
    "print(a.replace(\"Ram\", \"Sharma\"))\n",
    "print(a.strip())"
   ]
  },
  {
   "cell_type": "markdown",
   "id": "49261121",
   "metadata": {},
   "source": [
    "### List in Python"
   ]
  },
  {
   "cell_type": "code",
   "execution_count": 28,
   "id": "16c01aa2",
   "metadata": {},
   "outputs": [
    {
     "name": "stdout",
     "output_type": "stream",
     "text": [
      "[2, 4, 6, 6, 7, 'hello', 5, 6]\n",
      "<class 'list'>\n"
     ]
    }
   ],
   "source": [
    "a = [2,4,6,6,7,\"hello\", 5,6,]\n",
    "\n",
    "print(a)\n",
    "print(type(a))"
   ]
  },
  {
   "cell_type": "code",
   "execution_count": 36,
   "id": "2b47cffd",
   "metadata": {},
   "outputs": [
    {
     "name": "stdout",
     "output_type": "stream",
     "text": [
      "[15, 5, 6]\n",
      "3\n"
     ]
    }
   ],
   "source": [
    "# list are ordered, chageable and allow duplicate values, its mutable\n",
    "\n",
    "a = [2,4,6]\n",
    "a[1] = 5\n",
    "a[0] = 10\n",
    "a[0] = 15\n",
    "print(a)\n",
    "print(len(a))"
   ]
  },
  {
   "cell_type": "code",
   "execution_count": 37,
   "id": "ee765143",
   "metadata": {},
   "outputs": [
    {
     "name": "stdout",
     "output_type": "stream",
     "text": [
      "8\n"
     ]
    }
   ],
   "source": [
    "a = [2,4,6,6,7,7,\"banana\", \"hwlo\"]\n",
    "\n",
    "print(len(a))"
   ]
  },
  {
   "cell_type": "code",
   "execution_count": 39,
   "id": "6c522887",
   "metadata": {},
   "outputs": [
    {
     "name": "stdout",
     "output_type": "stream",
     "text": [
      "None\n",
      "[2, 4, 6, 6, 7, 7, 'banana', 'hwlo', 'ram', 'ram']\n"
     ]
    }
   ],
   "source": [
    "print(a.append(\"ram\"))\n",
    "print(a)"
   ]
  },
  {
   "cell_type": "code",
   "execution_count": 40,
   "id": "470adde0",
   "metadata": {},
   "outputs": [
    {
     "name": "stdout",
     "output_type": "stream",
     "text": [
      "6\n"
     ]
    }
   ],
   "source": [
    "print(a[3])"
   ]
  },
  {
   "cell_type": "code",
   "execution_count": 45,
   "id": "414edf2f",
   "metadata": {},
   "outputs": [
    {
     "name": "stdout",
     "output_type": "stream",
     "text": [
      "None\n",
      "[2, 4, 6, 24, 66, 55, 'ram', 56, 'haaa', 23, 45]\n"
     ]
    }
   ],
   "source": [
    "a = [2,4,6,24,66,55,\"ram\",56,\"haaa\"]\n",
    "\n",
    "b = 23,45\n",
    "\n",
    "print(a.extend(b))\n",
    "\n",
    "\n",
    "print(a)"
   ]
  },
  {
   "cell_type": "code",
   "execution_count": 46,
   "id": "d5f88a4f",
   "metadata": {},
   "outputs": [
    {
     "name": "stdout",
     "output_type": "stream",
     "text": [
      "[2, 4, 6, 24, 66, 55]\n"
     ]
    }
   ],
   "source": [
    "print(a[0:6])"
   ]
  },
  {
   "cell_type": "code",
   "execution_count": 47,
   "id": "a98caf64",
   "metadata": {},
   "outputs": [
    {
     "name": "stdout",
     "output_type": "stream",
     "text": [
      "[2, 24, 'ram', 23]\n"
     ]
    }
   ],
   "source": [
    "print(a[0:12:3])"
   ]
  },
  {
   "cell_type": "code",
   "execution_count": 48,
   "id": "3331896d",
   "metadata": {},
   "outputs": [
    {
     "name": "stdout",
     "output_type": "stream",
     "text": [
      "[2, 'rammm', 6, 24, 66, 55, 'ram', 56, 'haaa', 23, 45]\n"
     ]
    }
   ],
   "source": [
    "a[1] = \"rammm\"\n",
    "print(a)"
   ]
  },
  {
   "cell_type": "code",
   "execution_count": 52,
   "id": "d02ec7b6",
   "metadata": {},
   "outputs": [
    {
     "name": "stdout",
     "output_type": "stream",
     "text": [
      "['daraga', 'mukkesh', 'dinesh', 12, 34.56, 67, 45, 56, 88, 12, 34.56, 67, 12, 24, 66, 55, 'ram', 56, 'haaa', 23, 45]\n"
     ]
    }
   ],
   "source": [
    "a[0:3] = \"daraga\", \"mukkesh\", \"dinesh\",12,34.56,67,45,56,88\n",
    "print(a)"
   ]
  },
  {
   "cell_type": "code",
   "execution_count": 53,
   "id": "e9b2d15d",
   "metadata": {},
   "outputs": [
    {
     "name": "stdout",
     "output_type": "stream",
     "text": [
      "[23, 45, 456, 45, -9]\n"
     ]
    }
   ],
   "source": [
    "a = [23,45,456,45]\n",
    "\n",
    "a.append(-9)\n",
    "print(a)"
   ]
  },
  {
   "cell_type": "code",
   "execution_count": 54,
   "id": "0844fecc",
   "metadata": {},
   "outputs": [
    {
     "name": "stdout",
     "output_type": "stream",
     "text": [
      "[23, 45, 456, 45]\n"
     ]
    }
   ],
   "source": [
    "a.remove(-9)\n",
    "print(a)"
   ]
  },
  {
   "cell_type": "code",
   "execution_count": 55,
   "id": "ab19a5d2",
   "metadata": {},
   "outputs": [
    {
     "name": "stdout",
     "output_type": "stream",
     "text": [
      "[45, 456, 45, 23]\n"
     ]
    }
   ],
   "source": [
    "a.reverse()\n",
    "print(a)"
   ]
  },
  {
   "cell_type": "code",
   "execution_count": 76,
   "id": "c7d86e3e",
   "metadata": {},
   "outputs": [
    {
     "name": "stdout",
     "output_type": "stream",
     "text": [
      "2\n",
      "[23, 45]\n",
      "sum of all the number is 68\n"
     ]
    }
   ],
   "source": [
    "list = [23,45]\n",
    "print(len(list))\n",
    "print(list)\n",
    "\n",
    "x = 0\n",
    "for i in range(2):\n",
    "    x = x + list[i]\n",
    "    i = i +1\n",
    "print(\"sum of all the number is\", x)\n"
   ]
  },
  {
   "cell_type": "code",
   "execution_count": 73,
   "id": "d9a78207",
   "metadata": {},
   "outputs": [
    {
     "name": "stdout",
     "output_type": "stream",
     "text": [
      "10\n",
      "[1, 2, 3, 4, 5, 6, 7, 8, 9, 10]\n"
     ]
    }
   ],
   "source": [
    "a = [1,2,3,4,5,6,7,8,9,10]\n",
    "print(len(a))\n",
    "print(a)"
   ]
  },
  {
   "cell_type": "code",
   "execution_count": 82,
   "id": "409dfbb1",
   "metadata": {},
   "outputs": [
    {
     "name": "stdout",
     "output_type": "stream",
     "text": [
      "mulplication of all the numbers is 3628800\n"
     ]
    }
   ],
   "source": [
    "x = 1\n",
    "for i in range(10):\n",
    "    x = x * a[i]\n",
    "    i = i +1\n",
    "print(\"mulplication of all the numbers is\", x)"
   ]
  },
  {
   "cell_type": "code",
   "execution_count": 81,
   "id": "e43ae6a7",
   "metadata": {},
   "outputs": [
    {
     "name": "stdout",
     "output_type": "stream",
     "text": [
      "mulplication of all the numbers is 0\n"
     ]
    }
   ],
   "source": [
    "x = 10\n",
    "for i in range(10):\n",
    "    x = x % a[i]\n",
    "    i = i +1\n",
    "print(\"mulplication of all the numbers is\", x)"
   ]
  },
  {
   "cell_type": "markdown",
   "id": "f9e79cf4",
   "metadata": {},
   "source": [
    "### Tuple in Python"
   ]
  },
  {
   "cell_type": "raw",
   "id": "33bd27e9",
   "metadata": {},
   "source": [
    "tuple are used to stor multiple items in a single variables\n",
    "tuple are immutable\n",
    "they are ordered, unchageable and allow duplicate values\n",
    "tuple is always in parenthesis"
   ]
  },
  {
   "cell_type": "code",
   "execution_count": 83,
   "id": "1f146355",
   "metadata": {},
   "outputs": [
    {
     "name": "stdout",
     "output_type": "stream",
     "text": [
      "(2, 34, 534, 5, 34, 'ram')\n",
      "<class 'tuple'>\n"
     ]
    }
   ],
   "source": [
    "T = (2,34,534,5,34, \"ram\")\n",
    "print(T)\n",
    "print(type(T))"
   ]
  },
  {
   "cell_type": "code",
   "execution_count": 84,
   "id": "4cc47aa4",
   "metadata": {},
   "outputs": [
    {
     "name": "stdout",
     "output_type": "stream",
     "text": [
      "()\n"
     ]
    }
   ],
   "source": [
    "t = () # empty tuple\n",
    "print(t)"
   ]
  },
  {
   "cell_type": "code",
   "execution_count": 85,
   "id": "5f465a61",
   "metadata": {},
   "outputs": [
    {
     "name": "stdout",
     "output_type": "stream",
     "text": [
      "(23, 345, 5345, [23, 34, 56, 3], (3, 33, 3))\n"
     ]
    }
   ],
   "source": [
    "t = (23,345,5345, [23,34,56,3], (3,33,3))\n",
    "print(t)"
   ]
  },
  {
   "cell_type": "code",
   "execution_count": 88,
   "id": "617225b9",
   "metadata": {},
   "outputs": [
    {
     "name": "stdout",
     "output_type": "stream",
     "text": [
      "(4,)\n",
      "<class 'tuple'>\n"
     ]
    }
   ],
   "source": [
    "t = (4,)\n",
    "print(t)\n",
    "print(type(t))"
   ]
  },
  {
   "cell_type": "code",
   "execution_count": 89,
   "id": "081e9ead",
   "metadata": {},
   "outputs": [
    {
     "name": "stdout",
     "output_type": "stream",
     "text": [
      "4\n",
      "<class 'int'>\n"
     ]
    }
   ],
   "source": [
    "t = (4) # for tuple we have to use comma after values\n",
    "print(t)\n",
    "print(type(t))"
   ]
  },
  {
   "cell_type": "code",
   "execution_count": 90,
   "id": "86a8941e",
   "metadata": {},
   "outputs": [
    {
     "name": "stdout",
     "output_type": "stream",
     "text": [
      "(2, 3, 4, 5)\n",
      "<class 'tuple'>\n"
     ]
    }
   ],
   "source": [
    "a = tuple((2,3,4,5))\n",
    "print(a)\n",
    "print(type(a))"
   ]
  },
  {
   "cell_type": "code",
   "execution_count": 92,
   "id": "e843d834",
   "metadata": {},
   "outputs": [
    {
     "name": "stdout",
     "output_type": "stream",
     "text": [
      "(2, 3, 4, 5)\n",
      "(2, 4)\n",
      "(2, 3, 4, 5)\n"
     ]
    }
   ],
   "source": [
    "print(a[0:4])\n",
    "print(a[0:4:2])\n",
    "print(a[0:])"
   ]
  },
  {
   "cell_type": "code",
   "execution_count": 99,
   "id": "59cd0411",
   "metadata": {},
   "outputs": [
    {
     "name": "stdout",
     "output_type": "stream",
     "text": [
      "(2, 34, 3, 4, 4)\n"
     ]
    },
    {
     "data": {
      "text/plain": [
       "2"
      ]
     },
     "execution_count": 99,
     "metadata": {},
     "output_type": "execute_result"
    }
   ],
   "source": [
    "a = (2,34,3,4,4)\n",
    "print(a)\n",
    "a.count(4)\n"
   ]
  },
  {
   "cell_type": "code",
   "execution_count": 109,
   "id": "a373151d",
   "metadata": {},
   "outputs": [
    {
     "name": "stdout",
     "output_type": "stream",
     "text": [
      "((3, 5, 6, 6), 30)\n"
     ]
    }
   ],
   "source": [
    "x = (3,5,6,6)\n",
    "y = [x] # not write list in  front of [x] because it not callable error shows\n",
    "y.append(30)\n",
    "x = tuple(y)\n",
    "print(x)"
   ]
  },
  {
   "cell_type": "code",
   "execution_count": 108,
   "id": "c1ddfb38",
   "metadata": {},
   "outputs": [
    {
     "ename": "TypeError",
     "evalue": "list indices must be integers or slices, not tuple",
     "output_type": "error",
     "traceback": [
      "\u001b[1;31m---------------------------------------------------------------------------\u001b[0m",
      "\u001b[1;31mTypeError\u001b[0m                                 Traceback (most recent call last)",
      "Cell \u001b[1;32mIn[108], line 2\u001b[0m\n\u001b[0;32m      1\u001b[0m x \u001b[38;5;241m=\u001b[39m (\u001b[38;5;241m3\u001b[39m,\u001b[38;5;241m5\u001b[39m,\u001b[38;5;241m6\u001b[39m,\u001b[38;5;241m6\u001b[39m)\n\u001b[1;32m----> 2\u001b[0m y \u001b[38;5;241m=\u001b[39m \u001b[38;5;28mlist\u001b[39m[x]\n\u001b[0;32m      3\u001b[0m y\u001b[38;5;241m.\u001b[39mappend(\u001b[38;5;241m30\u001b[39m)\n\u001b[0;32m      4\u001b[0m x \u001b[38;5;241m=\u001b[39m \u001b[38;5;28mtuple\u001b[39m(y)\n",
      "\u001b[1;31mTypeError\u001b[0m: list indices must be integers or slices, not tuple"
     ]
    }
   ],
   "source": [
    "x = (3,5,6,6)\n",
    "y = list[x]\n",
    "y.append(30)\n",
    "x = tuple(y)\n",
    "print(x)"
   ]
  },
  {
   "cell_type": "code",
   "execution_count": 114,
   "id": "7d7065de",
   "metadata": {},
   "outputs": [
    {
     "name": "stdout",
     "output_type": "stream",
     "text": [
      "3\n",
      "5\n",
      "6\n",
      "6\n"
     ]
    }
   ],
   "source": [
    "x = (3,5,6,6)\n",
    "for i in x:\n",
    "    print(i)"
   ]
  },
  {
   "cell_type": "code",
   "execution_count": 117,
   "id": "85de7e1d",
   "metadata": {},
   "outputs": [
    {
     "name": "stdout",
     "output_type": "stream",
     "text": [
      "(2, 34, 343, 2, 4, 34)\n"
     ]
    },
    {
     "ename": "TypeError",
     "evalue": "can't multiply sequence by non-int of type 'tuple'",
     "output_type": "error",
     "traceback": [
      "\u001b[1;31m---------------------------------------------------------------------------\u001b[0m",
      "\u001b[1;31mTypeError\u001b[0m                                 Traceback (most recent call last)",
      "Cell \u001b[1;32mIn[117], line 5\u001b[0m\n\u001b[0;32m      3\u001b[0m t3 \u001b[38;5;241m=\u001b[39m t1 \u001b[38;5;241m+\u001b[39mt2\n\u001b[0;32m      4\u001b[0m \u001b[38;5;28mprint\u001b[39m(t3)\n\u001b[1;32m----> 5\u001b[0m t4 \u001b[38;5;241m=\u001b[39m t1\u001b[38;5;241m*\u001b[39mt2\n\u001b[0;32m      6\u001b[0m \u001b[38;5;28mprint\u001b[39m(t4)\n",
      "\u001b[1;31mTypeError\u001b[0m: can't multiply sequence by non-int of type 'tuple'"
     ]
    }
   ],
   "source": [
    "t1 = (2,34,343)\n",
    "t2 = (2,4,34)\n",
    "t3 = t1 +t2\n",
    "print(t3)\n",
    "t4 = t1*t2\n",
    "print(t4)"
   ]
  },
  {
   "cell_type": "code",
   "execution_count": 119,
   "id": "ae342152",
   "metadata": {},
   "outputs": [
    {
     "name": "stdout",
     "output_type": "stream",
     "text": [
      "(2, 34, 343, 2, 34, 343, 2, 34, 343)\n"
     ]
    }
   ],
   "source": [
    "t1 = (2,34,343)\n",
    "t2 = (2,4,34)\n",
    "t3 = t1*3\n",
    "print(t3)"
   ]
  },
  {
   "cell_type": "code",
   "execution_count": 122,
   "id": "4eeee323",
   "metadata": {},
   "outputs": [
    {
     "name": "stdout",
     "output_type": "stream",
     "text": [
      "(1, 2, 3, 4, 5, 6, 7, 8, 1, 2, 3, 4, 5, 6, 7, 8)\n",
      "(1, 2, 3, 4, 5, 6, 7, 8, 1, 2, 3, 4, 5, 6, 7, 8, 1, 2, 3, 4, 5, 6, 7, 8)\n",
      "(1, 2, 3, 4, 5, 6, 7, 8, 1, 2, 3, 4, 5, 6, 7, 8)\n",
      "8\n"
     ]
    }
   ],
   "source": [
    "t = (1,2,3,4,5,6,7,8)\n",
    "print(t*2)\n",
    "print(t + t+t)\n",
    "print(t+t)\n",
    "print(len(t))"
   ]
  },
  {
   "cell_type": "code",
   "execution_count": 126,
   "id": "2d51bf7a",
   "metadata": {},
   "outputs": [
    {
     "name": "stdout",
     "output_type": "stream",
     "text": [
      "enter the value please24\n",
      "(24,)\n",
      "enter the value please25\n",
      "(24, 25)\n",
      "enter the value please36\n",
      "(24, 25, 36)\n",
      "enter the value please32\n",
      "(24, 25, 36, 32)\n",
      "enter the value please32\n",
      "(24, 25, 36, 32, 32)\n",
      "enter the value please25\n",
      "(24, 25, 36, 32, 32, 25)\n"
     ]
    }
   ],
   "source": [
    "# to make tuple by taking input from users\n",
    "t =()\n",
    "\n",
    "i = 0\n",
    "while i<=5:\n",
    "    num = int(input(\"enter the value please\"))\n",
    "    t = t + (num,)\n",
    "    i = i+1\n",
    "    print(t)"
   ]
  },
  {
   "cell_type": "markdown",
   "id": "392cc93f",
   "metadata": {},
   "source": [
    "## Dictionary in Python"
   ]
  },
  {
   "cell_type": "raw",
   "id": "949e7363",
   "metadata": {},
   "source": [
    "dict are used to store data values in key:values pairs\n",
    "dict are ordered, mutable, heterogeneous\n",
    "it can contain dict into dict or contain list in dict\n",
    "dict does not allow duplicates\n",
    "indexing  work in dict lile list and tuple"
   ]
  },
  {
   "cell_type": "code",
   "execution_count": 132,
   "id": "03300fd0",
   "metadata": {},
   "outputs": [
    {
     "name": "stdout",
     "output_type": "stream",
     "text": [
      "{'india': 'delhi', 'pakistan': 'islamabad', 'srilanka': 'colombo'}\n",
      "<class 'dict'>\n"
     ]
    }
   ],
   "source": [
    "a = {\n",
    "    \"india\":\"delhi\",\n",
    "    \"pakistan\":\"islamabad\",\n",
    "    \"srilanka\":\"colombo\"\n",
    "}\n",
    "print(a)\n",
    "print(type(a))"
   ]
  },
  {
   "cell_type": "code",
   "execution_count": 132,
   "id": "878d2fd9",
   "metadata": {},
   "outputs": [
    {
     "name": "stdout",
     "output_type": "stream",
     "text": [
      "{'india': 'delhi', 'pakistan': 'islamabad', 'srilanka': 'colombo'}\n",
      "<class 'dict'>\n"
     ]
    }
   ],
   "source": [
    "a = {\n",
    "    \"india\":\"delhi\",\n",
    "    \"pakistan\":\"islamabad\",\n",
    "    \"srilanka\":\"colombo\"\n",
    "}\n",
    "print(a)\n",
    "print(type(a))"
   ]
  },
  {
   "cell_type": "code",
   "execution_count": 133,
   "id": "f64f0b24",
   "metadata": {},
   "outputs": [
    {
     "name": "stdout",
     "output_type": "stream",
     "text": [
      "delhi\n"
     ]
    }
   ],
   "source": [
    "print(a[\"india\"])"
   ]
  },
  {
   "cell_type": "code",
   "execution_count": 134,
   "id": "0a3a6d0a",
   "metadata": {},
   "outputs": [
    {
     "name": "stdout",
     "output_type": "stream",
     "text": [
      "3\n"
     ]
    }
   ],
   "source": [
    "print(len(a))"
   ]
  },
  {
   "cell_type": "code",
   "execution_count": 139,
   "id": "ec381b70",
   "metadata": {},
   "outputs": [
    {
     "data": {
      "text/plain": [
       "dict_keys(['india', 'pakistan', 'srilanka'])"
      ]
     },
     "execution_count": 139,
     "metadata": {},
     "output_type": "execute_result"
    }
   ],
   "source": [
    "x = a.keys()\n",
    "x"
   ]
  },
  {
   "cell_type": "code",
   "execution_count": 140,
   "id": "bf887e0d",
   "metadata": {},
   "outputs": [
    {
     "data": {
      "text/plain": [
       "dict_values(['delhi', 'islamabad', 'colombo'])"
      ]
     },
     "execution_count": 140,
     "metadata": {},
     "output_type": "execute_result"
    }
   ],
   "source": [
    "x = a.values()\n",
    "x"
   ]
  },
  {
   "cell_type": "code",
   "execution_count": 142,
   "id": "b1dbd77c",
   "metadata": {},
   "outputs": [
    {
     "name": "stdout",
     "output_type": "stream",
     "text": [
      "{'india': 'jaipur', 'pakistan': 'islamabad', 'srilanka': 'colombo'}\n"
     ]
    }
   ],
   "source": [
    "a[\"india\"] = \"jaipur\"\n",
    "print(a)"
   ]
  },
  {
   "cell_type": "code",
   "execution_count": 148,
   "id": "50561a1d",
   "metadata": {},
   "outputs": [
    {
     "name": "stdout",
     "output_type": "stream",
     "text": [
      "jaipur\n"
     ]
    }
   ],
   "source": [
    "print(a[\"india\"])"
   ]
  },
  {
   "cell_type": "code",
   "execution_count": 149,
   "id": "b80fbe1e",
   "metadata": {},
   "outputs": [
    {
     "data": {
      "text/plain": [
       "{'india': 'jaipur', 'pakistan': 'islamabad', 'srilanka': 'colombo'}"
      ]
     },
     "execution_count": 149,
     "metadata": {},
     "output_type": "execute_result"
    }
   ],
   "source": [
    "a.copy()"
   ]
  },
  {
   "cell_type": "code",
   "execution_count": 153,
   "id": "53dda1c5",
   "metadata": {},
   "outputs": [
    {
     "data": {
      "text/plain": [
       "'jaipur'"
      ]
     },
     "execution_count": 153,
     "metadata": {},
     "output_type": "execute_result"
    }
   ],
   "source": [
    "a.pop(\"india\")"
   ]
  },
  {
   "cell_type": "code",
   "execution_count": 154,
   "id": "f63d2f94",
   "metadata": {},
   "outputs": [
    {
     "name": "stdout",
     "output_type": "stream",
     "text": [
      "{'pakistan': 'islamabad', 'srilanka': 'colombo'}\n"
     ]
    }
   ],
   "source": [
    "print(a)"
   ]
  },
  {
   "cell_type": "code",
   "execution_count": 157,
   "id": "04de8797",
   "metadata": {},
   "outputs": [
    {
     "name": "stdout",
     "output_type": "stream",
     "text": [
      "{'pakistan': 'islamabad', 'srilanka': 'colombo', 'make': 'ss'}\n"
     ]
    }
   ],
   "source": [
    "a.update({\"make\":\"ss\"})\n",
    "print(a)"
   ]
  },
  {
   "cell_type": "code",
   "execution_count": 158,
   "id": "e9f952c3",
   "metadata": {},
   "outputs": [
    {
     "ename": "NameError",
     "evalue": "name 'a' is not defined",
     "output_type": "error",
     "traceback": [
      "\u001b[1;31m---------------------------------------------------------------------------\u001b[0m",
      "\u001b[1;31mNameError\u001b[0m                                 Traceback (most recent call last)",
      "Cell \u001b[1;32mIn[158], line 2\u001b[0m\n\u001b[0;32m      1\u001b[0m \u001b[38;5;28;01mdel\u001b[39;00m a\n\u001b[1;32m----> 2\u001b[0m \u001b[38;5;28mprint\u001b[39m(a)\n",
      "\u001b[1;31mNameError\u001b[0m: name 'a' is not defined"
     ]
    }
   ],
   "source": [
    "del a # to delete the whole dict\n",
    "print(a)"
   ]
  },
  {
   "cell_type": "code",
   "execution_count": 159,
   "id": "4c6bb118",
   "metadata": {},
   "outputs": [
    {
     "name": "stdout",
     "output_type": "stream",
     "text": [
      "{'india': 'delhi', 'pakistan': 'islamabad', 'srilanka': 'colombo'}\n"
     ]
    }
   ],
   "source": [
    "x = {\n",
    "    \"india\":\"delhi\",\n",
    "    \"pakistan\":\"islamabad\",\n",
    "    \"srilanka\":\"colombo\"\n",
    "}\n",
    "print(x)"
   ]
  },
  {
   "cell_type": "code",
   "execution_count": 161,
   "id": "3ae58877",
   "metadata": {},
   "outputs": [
    {
     "name": "stdout",
     "output_type": "stream",
     "text": [
      "{}\n",
      "<class 'dict'>\n"
     ]
    }
   ],
   "source": [
    "x.clear() # to clear all key: values pairs and provide a empty dict\n",
    "print(x)\n",
    "print(type(x))"
   ]
  },
  {
   "cell_type": "code",
   "execution_count": 163,
   "id": "6da697d7",
   "metadata": {},
   "outputs": [
    {
     "name": "stdout",
     "output_type": "stream",
     "text": [
      "{1: 10, 2: 20, 3: 30, 4: 40, 5: 50, 6: 60, 7: 70, 8: 80}\n"
     ]
    }
   ],
   "source": [
    "# to concanate the dict\n",
    "d1 = {1:10, 2:20}\n",
    "d2 = {3:30, 4:40}\n",
    "d3 = {5:50, 6:60}\n",
    "d4 = {7:70,8:80}\n",
    "d5 = {}\n",
    "for i in (d1,d2,d3,d4): d5.update(i)\n",
    "print(d5)"
   ]
  },
  {
   "cell_type": "code",
   "execution_count": 164,
   "id": "edacca7c",
   "metadata": {},
   "outputs": [
    {
     "name": "stdout",
     "output_type": "stream",
     "text": [
      "{0: 0, 1: 1, 2: 4, 3: 9, 4: 16, 5: 25, 6: 36, 7: 49, 8: 64, 9: 81, 10: 100, 11: 121, 12: 144, 13: 169, 14: 196, 15: 225}\n"
     ]
    }
   ],
   "source": [
    "d = dict()\n",
    "\n",
    "for i in range(16):\n",
    "    d[i] = i**2\n",
    "print(d)"
   ]
  },
  {
   "cell_type": "markdown",
   "id": "a9e55b48",
   "metadata": {},
   "source": [
    "#### Check whether a given key is already exists in dict"
   ]
  },
  {
   "cell_type": "code",
   "execution_count": 1,
   "id": "51b06119",
   "metadata": {},
   "outputs": [
    {
     "name": "stdout",
     "output_type": "stream",
     "text": [
      "key is present in the dict\n"
     ]
    }
   ],
   "source": [
    "d = {1:10, 2:20, 3:30, 4:40, 5:50, 6:60, 7:70}\n",
    "\n",
    "def is_key_present(x):\n",
    "    if x in d:\n",
    "        print(\"key is present in the dict\")\n",
    "    else:\n",
    "        print(\"key in not present in the dict\")\n",
    "\n",
    "is_key_present(5)"
   ]
  },
  {
   "cell_type": "code",
   "execution_count": 2,
   "id": "358611a4",
   "metadata": {},
   "outputs": [
    {
     "name": "stdout",
     "output_type": "stream",
     "text": [
      "key is present in the dict\n"
     ]
    }
   ],
   "source": [
    "is_key_present(7)"
   ]
  },
  {
   "cell_type": "code",
   "execution_count": 3,
   "id": "a9bb3934",
   "metadata": {},
   "outputs": [
    {
     "name": "stdout",
     "output_type": "stream",
     "text": [
      "key in not present in the dict\n"
     ]
    }
   ],
   "source": [
    "is_key_present(20)"
   ]
  },
  {
   "cell_type": "markdown",
   "id": "e0262e3f",
   "metadata": {},
   "source": [
    "## Sets in Python - Day 11"
   ]
  },
  {
   "cell_type": "raw",
   "id": "e6e5be1d",
   "metadata": {},
   "source": [
    "sets are used to store multiple items in a single variable.\n",
    "set is one of 4 built-in data types in Python used to store collections of data, the other 3 are list, tuple and dict.\n",
    "\n",
    "A set is a collection which is unordered, unchangeable (but you can add and delete any items) and unindexed.\n",
    "there is no any duplicate allow so no indexing concept apply here."
   ]
  },
  {
   "cell_type": "raw",
   "id": "1648c10c",
   "metadata": {},
   "source": [
    "trick - LDT     List[], Dict{}, Tuple()"
   ]
  },
  {
   "cell_type": "code",
   "execution_count": 14,
   "id": "51025dcf",
   "metadata": {},
   "outputs": [
    {
     "name": "stdout",
     "output_type": "stream",
     "text": [
      "<class 'dict'>\n",
      "<class 'set'>\n"
     ]
    }
   ],
   "source": [
    "s = {}\n",
    "s2 = {2,}\n",
    "\n",
    "print(type(s))\n",
    "print(type(s2))"
   ]
  },
  {
   "cell_type": "code",
   "execution_count": 15,
   "id": "03644e22",
   "metadata": {},
   "outputs": [
    {
     "name": "stdout",
     "output_type": "stream",
     "text": [
      "{'you', 3, 5, 6, 'ram'}\n",
      "5\n"
     ]
    }
   ],
   "source": [
    "s3 = {\"ram\", \"you\", 3, 5,3, 3,6,6}\n",
    "print(s3)\n",
    "print(len(s3))"
   ]
  },
  {
   "cell_type": "code",
   "execution_count": 16,
   "id": "7e1dc211",
   "metadata": {},
   "outputs": [
    {
     "name": "stdout",
     "output_type": "stream",
     "text": [
      "{'you', 50, 3, 5, 6, 'ram'}\n"
     ]
    }
   ],
   "source": [
    "s3.add(50)\n",
    "print(s3)"
   ]
  },
  {
   "cell_type": "code",
   "execution_count": 20,
   "id": "5f4a8290",
   "metadata": {},
   "outputs": [
    {
     "name": "stdout",
     "output_type": "stream",
     "text": [
      "{3, 5, 6, 'ram'}\n"
     ]
    }
   ],
   "source": [
    "# when you want to delete any random item from your set\n",
    "s3.pop()\n",
    "print(s3)"
   ]
  },
  {
   "cell_type": "code",
   "execution_count": 26,
   "id": "41d51d37",
   "metadata": {},
   "outputs": [
    {
     "name": "stdout",
     "output_type": "stream",
     "text": [
      "{3, 5, 'ram'}\n"
     ]
    }
   ],
   "source": [
    "s3.remove(6)\n",
    "s3.update\n",
    "print(s3)\n"
   ]
  },
  {
   "cell_type": "raw",
   "id": "c2a698fc",
   "metadata": {},
   "source": [
    "there is no any nesting in set, we can not make list, dict in set formate but we can make tupel in set"
   ]
  },
  {
   "cell_type": "code",
   "execution_count": 29,
   "id": "dfcc6863",
   "metadata": {},
   "outputs": [
    {
     "name": "stdout",
     "output_type": "stream",
     "text": [
      "<class 'tuple'>\n",
      "{2, 3, 6, 7, 59, 'ram'}\n",
      "<class 'set'>\n"
     ]
    }
   ],
   "source": [
    "t = (2,3,6,6,7,59,\"ram\")\n",
    "print(type(t))\n",
    "s4 = set(t)\n",
    "print(s4)\n",
    "print(type(s4))"
   ]
  },
  {
   "cell_type": "code",
   "execution_count": 31,
   "id": "c10bb1ed",
   "metadata": {},
   "outputs": [
    {
     "name": "stdout",
     "output_type": "stream",
     "text": [
      "set()\n",
      "<class 'set'>\n"
     ]
    }
   ],
   "source": [
    "empty = set()\n",
    "print(empty)\n",
    "print(type(empty))"
   ]
  },
  {
   "cell_type": "code",
   "execution_count": 35,
   "id": "db0111c7",
   "metadata": {},
   "outputs": [
    {
     "name": "stdout",
     "output_type": "stream",
     "text": [
      "a\n",
      "c\n",
      "b\n",
      "d\n"
     ]
    }
   ],
   "source": [
    "a = {\"a\", \"b\", \"c\",\"d\"}\n",
    "\n",
    "for x in a:\n",
    "    print(x)\n",
    "   "
   ]
  },
  {
   "cell_type": "code",
   "execution_count": 34,
   "id": "8484726a",
   "metadata": {},
   "outputs": [
    {
     "name": "stdout",
     "output_type": "stream",
     "text": [
      "acbd"
     ]
    }
   ],
   "source": [
    "a = {\"a\", \"b\", \"c\",\"d\"}\n",
    "\n",
    "for x in a:\n",
    "   \n",
    "    print(x, end= \"\")"
   ]
  },
  {
   "cell_type": "code",
   "execution_count": 37,
   "id": "51efe000",
   "metadata": {},
   "outputs": [
    {
     "name": "stdout",
     "output_type": "stream",
     "text": [
      "{'data', 2, 5, 6, 7, 9, 'Python', 89, 'ram'}\n"
     ]
    }
   ],
   "source": [
    "x = {\"data\", \"Python\", \"ram\"}\n",
    "y = {2,5,6,7,89,9}\n",
    "x.update(y)\n",
    "print(x)"
   ]
  },
  {
   "cell_type": "code",
   "execution_count": 39,
   "id": "37ba9f9e",
   "metadata": {},
   "outputs": [
    {
     "name": "stdout",
     "output_type": "stream",
     "text": [
      "set()\n"
     ]
    }
   ],
   "source": [
    "a = {\"a\", \"b\", \"c\",\"d\"}\n",
    "a.clear()\n",
    "print(a)"
   ]
  },
  {
   "cell_type": "code",
   "execution_count": 40,
   "id": "4d1e73cb",
   "metadata": {},
   "outputs": [
    {
     "ename": "NameError",
     "evalue": "name 'a' is not defined",
     "output_type": "error",
     "traceback": [
      "\u001b[1;31m---------------------------------------------------------------------------\u001b[0m",
      "\u001b[1;31mNameError\u001b[0m                                 Traceback (most recent call last)",
      "Cell \u001b[1;32mIn[40], line 3\u001b[0m\n\u001b[0;32m      1\u001b[0m a \u001b[38;5;241m=\u001b[39m {\u001b[38;5;124m\"\u001b[39m\u001b[38;5;124ma\u001b[39m\u001b[38;5;124m\"\u001b[39m, \u001b[38;5;124m\"\u001b[39m\u001b[38;5;124mb\u001b[39m\u001b[38;5;124m\"\u001b[39m, \u001b[38;5;124m\"\u001b[39m\u001b[38;5;124mc\u001b[39m\u001b[38;5;124m\"\u001b[39m,\u001b[38;5;124m\"\u001b[39m\u001b[38;5;124md\u001b[39m\u001b[38;5;124m\"\u001b[39m}\n\u001b[0;32m      2\u001b[0m \u001b[38;5;28;01mdel\u001b[39;00m a\n\u001b[1;32m----> 3\u001b[0m \u001b[38;5;28mprint\u001b[39m(a)\n",
      "\u001b[1;31mNameError\u001b[0m: name 'a' is not defined"
     ]
    }
   ],
   "source": [
    "a = {\"a\", \"b\", \"c\",\"d\"}\n",
    "del a\n",
    "print(a)"
   ]
  },
  {
   "cell_type": "code",
   "execution_count": 42,
   "id": "3134f005",
   "metadata": {},
   "outputs": [
    {
     "name": "stdout",
     "output_type": "stream",
     "text": [
      "{34, 3, 99, 67, 6, 7, 8, 9, 56, 89}\n"
     ]
    }
   ],
   "source": [
    "# join two sets\n",
    "a = {3,6,7,7,99,8}\n",
    "b = {34,56,67,89,89,9}\n",
    "z = a.union(b)\n",
    "print(z)"
   ]
  },
  {
   "cell_type": "code",
   "execution_count": 45,
   "id": "3cc83108",
   "metadata": {},
   "outputs": [
    {
     "name": "stdout",
     "output_type": "stream",
     "text": [
      "{34, 3, 99, 67, 6, 7, 8, 9, 56, 89}\n",
      "3\n",
      "99\n"
     ]
    }
   ],
   "source": [
    "print(z)\n",
    "print(min(z))\n",
    "print(max(z))\n"
   ]
  },
  {
   "cell_type": "markdown",
   "id": "f61cfbfc",
   "metadata": {},
   "source": [
    "#### return a new set of identical or common items form two set"
   ]
  },
  {
   "cell_type": "code",
   "execution_count": 46,
   "id": "69f5a803",
   "metadata": {},
   "outputs": [
    {
     "name": "stdout",
     "output_type": "stream",
     "text": [
      "{3, 99, 6, 7, 8}\n"
     ]
    }
   ],
   "source": [
    "a = {3,6,7,7,99,8}\n",
    "b = {7,9,8,89,6,9}\n",
    "\n",
    "a.intersection(b)\n",
    "print(a)"
   ]
  },
  {
   "cell_type": "code",
   "execution_count": 47,
   "id": "374bb3be",
   "metadata": {},
   "outputs": [
    {
     "name": "stdout",
     "output_type": "stream",
     "text": [
      "{8, 6, 7}\n"
     ]
    }
   ],
   "source": [
    "a = {3,6,7,7,99,8}\n",
    "b = {7,9,8,89,6,9}\n",
    "\n",
    "a.intersection_update(b)\n",
    "print(a)"
   ]
  },
  {
   "cell_type": "code",
   "execution_count": 50,
   "id": "eaa86b0c",
   "metadata": {},
   "outputs": [
    {
     "name": "stdout",
     "output_type": "stream",
     "text": [
      "True\n",
      "False\n"
     ]
    }
   ],
   "source": [
    "a = {3,6,7,7,99,8}\n",
    "print(99 in a)\n",
    "print(\"data\" in a)"
   ]
  },
  {
   "cell_type": "code",
   "execution_count": 52,
   "id": "1e46bda1",
   "metadata": {},
   "outputs": [
    {
     "name": "stdout",
     "output_type": "stream",
     "text": [
      "{'Falce', 'True'}\n",
      "True\n"
     ]
    }
   ],
   "source": [
    "a1 = {\"True\", \"Falce\"}\n",
    "print(a1)\n",
    "print(\"True\" in a1)"
   ]
  },
  {
   "cell_type": "code",
   "execution_count": null,
   "id": "c38e874f",
   "metadata": {},
   "outputs": [],
   "source": []
  }
 ],
 "metadata": {
  "kernelspec": {
   "display_name": "Python 3 (ipykernel)",
   "language": "python",
   "name": "python3"
  },
  "language_info": {
   "codemirror_mode": {
    "name": "ipython",
    "version": 3
   },
   "file_extension": ".py",
   "mimetype": "text/x-python",
   "name": "python",
   "nbconvert_exporter": "python",
   "pygments_lexer": "ipython3",
   "version": "3.12.1"
  }
 },
 "nbformat": 4,
 "nbformat_minor": 5
}
