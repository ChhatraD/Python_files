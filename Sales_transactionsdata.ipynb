{
 "cells": [
  {
   "cell_type": "code",
   "execution_count": 3,
   "metadata": {},
   "outputs": [],
   "source": [
    "import pandas as pd\n",
    "import numpy as np"
   ]
  },
  {
   "cell_type": "code",
   "execution_count": 4,
   "metadata": {},
   "outputs": [],
   "source": [
    "df2 = pd.read_csv(\"C:/Users/chhat/Computer_Code/SQL/house_prices.csv\")"
   ]
  },
  {
   "cell_type": "code",
   "execution_count": 5,
   "metadata": {},
   "outputs": [
    {
     "data": {
      "text/html": [
       "<div>\n",
       "<style scoped>\n",
       "    .dataframe tbody tr th:only-of-type {\n",
       "        vertical-align: middle;\n",
       "    }\n",
       "\n",
       "    .dataframe tbody tr th {\n",
       "        vertical-align: top;\n",
       "    }\n",
       "\n",
       "    .dataframe thead th {\n",
       "        text-align: right;\n",
       "    }\n",
       "</style>\n",
       "<table border=\"1\" class=\"dataframe\">\n",
       "  <thead>\n",
       "    <tr style=\"text-align: right;\">\n",
       "      <th></th>\n",
       "      <th>Index</th>\n",
       "      <th>Title</th>\n",
       "      <th>Description</th>\n",
       "      <th>Amount(in rupees)</th>\n",
       "      <th>Price (in rupees)</th>\n",
       "      <th>location</th>\n",
       "      <th>Carpet Area</th>\n",
       "      <th>Status</th>\n",
       "      <th>Floor</th>\n",
       "      <th>Transaction</th>\n",
       "      <th>...</th>\n",
       "      <th>facing</th>\n",
       "      <th>overlooking</th>\n",
       "      <th>Society</th>\n",
       "      <th>Bathroom</th>\n",
       "      <th>Balcony</th>\n",
       "      <th>Car Parking</th>\n",
       "      <th>Ownership</th>\n",
       "      <th>Super Area</th>\n",
       "      <th>Dimensions</th>\n",
       "      <th>Plot Area</th>\n",
       "    </tr>\n",
       "  </thead>\n",
       "  <tbody>\n",
       "    <tr>\n",
       "      <th>0</th>\n",
       "      <td>0</td>\n",
       "      <td>1 BHK Ready to Occupy Flat for sale in Srushti...</td>\n",
       "      <td>Bhiwandi, Thane has an attractive 1 BHK Flat f...</td>\n",
       "      <td>42 Lac</td>\n",
       "      <td>6000.0</td>\n",
       "      <td>thane</td>\n",
       "      <td>500 sqft</td>\n",
       "      <td>Ready to Move</td>\n",
       "      <td>10 out of 11</td>\n",
       "      <td>Resale</td>\n",
       "      <td>...</td>\n",
       "      <td>NaN</td>\n",
       "      <td>NaN</td>\n",
       "      <td>Srushti Siddhi Mangal Murti Complex</td>\n",
       "      <td>1</td>\n",
       "      <td>2</td>\n",
       "      <td>NaN</td>\n",
       "      <td>NaN</td>\n",
       "      <td>NaN</td>\n",
       "      <td>NaN</td>\n",
       "      <td>NaN</td>\n",
       "    </tr>\n",
       "    <tr>\n",
       "      <th>1</th>\n",
       "      <td>1</td>\n",
       "      <td>2 BHK Ready to Occupy Flat for sale in Dosti V...</td>\n",
       "      <td>One can find this stunning 2 BHK flat for sale...</td>\n",
       "      <td>98 Lac</td>\n",
       "      <td>13799.0</td>\n",
       "      <td>thane</td>\n",
       "      <td>473 sqft</td>\n",
       "      <td>Ready to Move</td>\n",
       "      <td>3 out of 22</td>\n",
       "      <td>Resale</td>\n",
       "      <td>...</td>\n",
       "      <td>East</td>\n",
       "      <td>Garden/Park</td>\n",
       "      <td>Dosti Vihar</td>\n",
       "      <td>2</td>\n",
       "      <td>NaN</td>\n",
       "      <td>1 Open</td>\n",
       "      <td>Freehold</td>\n",
       "      <td>NaN</td>\n",
       "      <td>NaN</td>\n",
       "      <td>NaN</td>\n",
       "    </tr>\n",
       "    <tr>\n",
       "      <th>2</th>\n",
       "      <td>2</td>\n",
       "      <td>2 BHK Ready to Occupy Flat for sale in Sunrise...</td>\n",
       "      <td>Up for immediate sale is a 2 BHK apartment in ...</td>\n",
       "      <td>1.40 Cr</td>\n",
       "      <td>17500.0</td>\n",
       "      <td>thane</td>\n",
       "      <td>779 sqft</td>\n",
       "      <td>Ready to Move</td>\n",
       "      <td>10 out of 29</td>\n",
       "      <td>Resale</td>\n",
       "      <td>...</td>\n",
       "      <td>East</td>\n",
       "      <td>Garden/Park</td>\n",
       "      <td>Sunrise by Kalpataru</td>\n",
       "      <td>2</td>\n",
       "      <td>NaN</td>\n",
       "      <td>1 Covered</td>\n",
       "      <td>Freehold</td>\n",
       "      <td>NaN</td>\n",
       "      <td>NaN</td>\n",
       "      <td>NaN</td>\n",
       "    </tr>\n",
       "  </tbody>\n",
       "</table>\n",
       "<p>3 rows × 21 columns</p>\n",
       "</div>"
      ],
      "text/plain": [
       "   Index                                              Title  \\\n",
       "0      0  1 BHK Ready to Occupy Flat for sale in Srushti...   \n",
       "1      1  2 BHK Ready to Occupy Flat for sale in Dosti V...   \n",
       "2      2  2 BHK Ready to Occupy Flat for sale in Sunrise...   \n",
       "\n",
       "                                         Description Amount(in rupees)  \\\n",
       "0  Bhiwandi, Thane has an attractive 1 BHK Flat f...           42 Lac    \n",
       "1  One can find this stunning 2 BHK flat for sale...           98 Lac    \n",
       "2  Up for immediate sale is a 2 BHK apartment in ...          1.40 Cr    \n",
       "\n",
       "   Price (in rupees) location Carpet Area         Status         Floor  \\\n",
       "0             6000.0    thane    500 sqft  Ready to Move  10 out of 11   \n",
       "1            13799.0    thane    473 sqft  Ready to Move   3 out of 22   \n",
       "2            17500.0    thane    779 sqft  Ready to Move  10 out of 29   \n",
       "\n",
       "  Transaction  ... facing  overlooking                              Society  \\\n",
       "0      Resale  ...    NaN          NaN  Srushti Siddhi Mangal Murti Complex   \n",
       "1      Resale  ...   East  Garden/Park                          Dosti Vihar   \n",
       "2      Resale  ...   East  Garden/Park                 Sunrise by Kalpataru   \n",
       "\n",
       "  Bathroom Balcony Car Parking Ownership Super Area Dimensions  Plot Area  \n",
       "0        1       2         NaN       NaN        NaN        NaN        NaN  \n",
       "1        2     NaN      1 Open  Freehold        NaN        NaN        NaN  \n",
       "2        2     NaN   1 Covered  Freehold        NaN        NaN        NaN  \n",
       "\n",
       "[3 rows x 21 columns]"
      ]
     },
     "execution_count": 5,
     "metadata": {},
     "output_type": "execute_result"
    }
   ],
   "source": [
    "df2.head(3)"
   ]
  },
  {
   "cell_type": "code",
   "execution_count": 6,
   "metadata": {},
   "outputs": [
    {
     "data": {
      "text/plain": [
       "(187531, 21)"
      ]
     },
     "execution_count": 6,
     "metadata": {},
     "output_type": "execute_result"
    }
   ],
   "source": [
    "df2.shape"
   ]
  },
  {
   "cell_type": "code",
   "execution_count": 7,
   "metadata": {},
   "outputs": [
    {
     "data": {
      "text/plain": [
       "3938151"
      ]
     },
     "execution_count": 7,
     "metadata": {},
     "output_type": "execute_result"
    }
   ],
   "source": [
    "df2.size"
   ]
  },
  {
   "cell_type": "code",
   "execution_count": 8,
   "metadata": {},
   "outputs": [
    {
     "data": {
      "text/plain": [
       "Index                  0.0\n",
       "Title                  0.0\n",
       "Description            1.6\n",
       "Amount(in rupees)      0.0\n",
       "Price (in rupees)      9.4\n",
       "location               0.0\n",
       "Carpet Area           43.0\n",
       "Status                 0.3\n",
       "Floor                  3.8\n",
       "Transaction            0.0\n",
       "Furnishing             1.5\n",
       "facing                37.5\n",
       "overlooking           43.4\n",
       "Society               58.5\n",
       "Bathroom               0.4\n",
       "Balcony               26.1\n",
       "Car Parking           55.1\n",
       "Ownership             34.9\n",
       "Super Area            57.4\n",
       "Dimensions           100.0\n",
       "Plot Area            100.0\n",
       "dtype: float64"
      ]
     },
     "execution_count": 8,
     "metadata": {},
     "output_type": "execute_result"
    }
   ],
   "source": [
    "((df2.isnull().sum() / df2.shape[0])*100).round(1)"
   ]
  },
  {
   "cell_type": "code",
   "execution_count": 9,
   "metadata": {},
   "outputs": [],
   "source": [
    "df = pd.read_csv(\"C:/Users/chhat/Computer_Code/SQL/Sales_transactions_data.csv\")"
   ]
  },
  {
   "cell_type": "code",
   "execution_count": 10,
   "metadata": {},
   "outputs": [
    {
     "data": {
      "text/html": [
       "<div>\n",
       "<style scoped>\n",
       "    .dataframe tbody tr th:only-of-type {\n",
       "        vertical-align: middle;\n",
       "    }\n",
       "\n",
       "    .dataframe tbody tr th {\n",
       "        vertical-align: top;\n",
       "    }\n",
       "\n",
       "    .dataframe thead th {\n",
       "        text-align: right;\n",
       "    }\n",
       "</style>\n",
       "<table border=\"1\" class=\"dataframe\">\n",
       "  <thead>\n",
       "    <tr style=\"text-align: right;\">\n",
       "      <th></th>\n",
       "      <th>TransactionNo</th>\n",
       "      <th>Date</th>\n",
       "      <th>ProductNo</th>\n",
       "      <th>ProductName</th>\n",
       "      <th>Price</th>\n",
       "      <th>Quantity</th>\n",
       "      <th>CustomerNo</th>\n",
       "      <th>Country</th>\n",
       "    </tr>\n",
       "  </thead>\n",
       "  <tbody>\n",
       "    <tr>\n",
       "      <th>0</th>\n",
       "      <td>581482</td>\n",
       "      <td>12/9/2019</td>\n",
       "      <td>22485</td>\n",
       "      <td>Set Of 2 Wooden Market Crates</td>\n",
       "      <td>21.47</td>\n",
       "      <td>12</td>\n",
       "      <td>17490.0</td>\n",
       "      <td>United Kingdom</td>\n",
       "    </tr>\n",
       "    <tr>\n",
       "      <th>1</th>\n",
       "      <td>581475</td>\n",
       "      <td>12/9/2019</td>\n",
       "      <td>22596</td>\n",
       "      <td>Christmas Star Wish List Chalkboard</td>\n",
       "      <td>10.65</td>\n",
       "      <td>36</td>\n",
       "      <td>13069.0</td>\n",
       "      <td>United Kingdom</td>\n",
       "    </tr>\n",
       "  </tbody>\n",
       "</table>\n",
       "</div>"
      ],
      "text/plain": [
       "  TransactionNo       Date ProductNo                          ProductName  \\\n",
       "0        581482  12/9/2019     22485        Set Of 2 Wooden Market Crates   \n",
       "1        581475  12/9/2019     22596  Christmas Star Wish List Chalkboard   \n",
       "\n",
       "   Price  Quantity  CustomerNo         Country  \n",
       "0  21.47        12     17490.0  United Kingdom  \n",
       "1  10.65        36     13069.0  United Kingdom  "
      ]
     },
     "execution_count": 10,
     "metadata": {},
     "output_type": "execute_result"
    }
   ],
   "source": [
    "df.head(2)"
   ]
  },
  {
   "cell_type": "code",
   "execution_count": 11,
   "metadata": {},
   "outputs": [
    {
     "data": {
      "text/plain": [
       "(536295, 8)"
      ]
     },
     "execution_count": 11,
     "metadata": {},
     "output_type": "execute_result"
    }
   ],
   "source": [
    "df.shape"
   ]
  },
  {
   "cell_type": "code",
   "execution_count": 12,
   "metadata": {},
   "outputs": [
    {
     "data": {
      "text/plain": [
       "4290360"
      ]
     },
     "execution_count": 12,
     "metadata": {},
     "output_type": "execute_result"
    }
   ],
   "source": [
    "df.size"
   ]
  },
  {
   "cell_type": "code",
   "execution_count": 13,
   "metadata": {},
   "outputs": [
    {
     "data": {
      "text/plain": [
       "TransactionNo    0\n",
       "Date             0\n",
       "ProductNo        0\n",
       "ProductName      0\n",
       "Price            0\n",
       "Quantity         0\n",
       "CustomerNo       0\n",
       "Country          0\n",
       "dtype: int64"
      ]
     },
     "execution_count": 13,
     "metadata": {},
     "output_type": "execute_result"
    }
   ],
   "source": [
    "df.isnull().sum()"
   ]
  },
  {
   "cell_type": "code",
   "execution_count": 14,
   "metadata": {},
   "outputs": [
    {
     "data": {
      "text/plain": [
       "TransactionNo    0.0\n",
       "Date             0.0\n",
       "ProductNo        0.0\n",
       "ProductName      0.0\n",
       "Price            0.0\n",
       "Quantity         0.0\n",
       "CustomerNo       0.0\n",
       "Country          0.0\n",
       "dtype: float64"
      ]
     },
     "execution_count": 14,
     "metadata": {},
     "output_type": "execute_result"
    }
   ],
   "source": [
    "((df.isnull().sum() / df.shape[0])*100).round(4)"
   ]
  },
  {
   "cell_type": "code",
   "execution_count": 15,
   "metadata": {},
   "outputs": [
    {
     "name": "stdout",
     "output_type": "stream",
     "text": [
      "<class 'pandas.core.frame.DataFrame'>\n",
      "RangeIndex: 536295 entries, 0 to 536294\n",
      "Data columns (total 8 columns):\n",
      " #   Column         Non-Null Count   Dtype  \n",
      "---  ------         --------------   -----  \n",
      " 0   TransactionNo  536295 non-null  object \n",
      " 1   Date           536295 non-null  object \n",
      " 2   ProductNo      536295 non-null  object \n",
      " 3   ProductName    536295 non-null  object \n",
      " 4   Price          536295 non-null  float64\n",
      " 5   Quantity       536295 non-null  int64  \n",
      " 6   CustomerNo     536295 non-null  float64\n",
      " 7   Country        536295 non-null  object \n",
      "dtypes: float64(2), int64(1), object(5)\n",
      "memory usage: 32.7+ MB\n"
     ]
    }
   ],
   "source": [
    "df.info()"
   ]
  },
  {
   "cell_type": "code",
   "execution_count": 26,
   "metadata": {},
   "outputs": [],
   "source": [
    "# df2.dropna(subset=['CustomerNo'], axis=0, inplace=True)"
   ]
  },
  {
   "cell_type": "code",
   "execution_count": 16,
   "metadata": {},
   "outputs": [
    {
     "data": {
      "text/plain": [
       "0"
      ]
     },
     "execution_count": 16,
     "metadata": {},
     "output_type": "execute_result"
    }
   ],
   "source": [
    "df.isnull().sum().sum()"
   ]
  },
  {
   "cell_type": "code",
   "execution_count": 43,
   "metadata": {},
   "outputs": [],
   "source": [
    "# df2.to_csv(\"C:/Users/chhat/Computer_Code/SQL/Sales_transactions_data.csv\", index=False)"
   ]
  },
  {
   "cell_type": "code",
   "execution_count": 44,
   "metadata": {},
   "outputs": [
    {
     "name": "stdout",
     "output_type": "stream",
     "text": [
      "c:\\Users\\chhat\\AppData\\Local\\Programs\\Microsoft VS Code\n"
     ]
    }
   ],
   "source": [
    "import os\n",
    "print(os.getcwd())"
   ]
  },
  {
   "cell_type": "code",
   "execution_count": 17,
   "metadata": {},
   "outputs": [
    {
     "data": {
      "text/plain": [
       "Index(['TransactionNo', 'Date', 'ProductNo', 'ProductName', 'Price',\n",
       "       'Quantity', 'CustomerNo', 'Country'],\n",
       "      dtype='object')"
      ]
     },
     "execution_count": 17,
     "metadata": {},
     "output_type": "execute_result"
    }
   ],
   "source": [
    "df.columns"
   ]
  },
  {
   "cell_type": "code",
   "execution_count": 18,
   "metadata": {},
   "outputs": [],
   "source": [
    "df.columns = ['Transaction_No', 'Date', 'Product_No', 'Product_Name', 'Price',\n",
    "       'Quantity', 'Customer_No', 'Country']"
   ]
  },
  {
   "cell_type": "code",
   "execution_count": 19,
   "metadata": {},
   "outputs": [
    {
     "data": {
      "text/html": [
       "<div>\n",
       "<style scoped>\n",
       "    .dataframe tbody tr th:only-of-type {\n",
       "        vertical-align: middle;\n",
       "    }\n",
       "\n",
       "    .dataframe tbody tr th {\n",
       "        vertical-align: top;\n",
       "    }\n",
       "\n",
       "    .dataframe thead th {\n",
       "        text-align: right;\n",
       "    }\n",
       "</style>\n",
       "<table border=\"1\" class=\"dataframe\">\n",
       "  <thead>\n",
       "    <tr style=\"text-align: right;\">\n",
       "      <th></th>\n",
       "      <th>Transaction_No</th>\n",
       "      <th>Date</th>\n",
       "      <th>Product_No</th>\n",
       "      <th>Product_Name</th>\n",
       "      <th>Price</th>\n",
       "      <th>Quantity</th>\n",
       "      <th>Customer_No</th>\n",
       "      <th>Country</th>\n",
       "    </tr>\n",
       "  </thead>\n",
       "  <tbody>\n",
       "  </tbody>\n",
       "</table>\n",
       "</div>"
      ],
      "text/plain": [
       "Empty DataFrame\n",
       "Columns: [Transaction_No, Date, Product_No, Product_Name, Price, Quantity, Customer_No, Country]\n",
       "Index: []"
      ]
     },
     "execution_count": 19,
     "metadata": {},
     "output_type": "execute_result"
    }
   ],
   "source": [
    "df.head(0)"
   ]
  },
  {
   "cell_type": "code",
   "execution_count": 20,
   "metadata": {},
   "outputs": [
    {
     "data": {
      "text/plain": [
       "Index(['Transaction_No', 'Date', 'Product_No', 'Product_Name', 'Price',\n",
       "       'Quantity', 'Customer_No', 'Country'],\n",
       "      dtype='object')"
      ]
     },
     "execution_count": 20,
     "metadata": {},
     "output_type": "execute_result"
    }
   ],
   "source": [
    "df.columns"
   ]
  },
  {
   "cell_type": "code",
   "execution_count": 22,
   "metadata": {},
   "outputs": [
    {
     "data": {
      "text/plain": [
       "23168"
      ]
     },
     "execution_count": 22,
     "metadata": {},
     "output_type": "execute_result"
    }
   ],
   "source": [
    "df['Transaction_No'].unique()"
   ]
  },
  {
   "cell_type": "code",
   "execution_count": 26,
   "metadata": {},
   "outputs": [
    {
     "data": {
      "text/plain": [
       "array(['12/9/2019', '12/8/2019', '12/7/2019', '12/6/2019', '12/5/2019',\n",
       "       '12/4/2019', '12/2/2019', '12/1/2019', '11/30/2019', '11/29/2019',\n",
       "       '11/28/2019', '11/27/2019', '11/25/2019', '11/24/2019',\n",
       "       '11/23/2019', '11/22/2019', '11/21/2019', '11/20/2019',\n",
       "       '11/18/2019', '11/17/2019', '11/16/2019', '11/15/2019',\n",
       "       '11/14/2019', '11/13/2019', '11/11/2019', '11/10/2019',\n",
       "       '11/9/2019', '11/8/2019', '11/7/2019', '11/6/2019', '11/4/2019',\n",
       "       '11/3/2019', '11/2/2019', '11/1/2019', '10/31/2019', '10/30/2019',\n",
       "       '10/28/2019', '10/27/2019', '10/26/2019', '10/25/2019',\n",
       "       '10/24/2019', '10/23/2019', '10/21/2019', '10/20/2019',\n",
       "       '10/19/2019', '10/18/2019', '10/17/2019', '10/16/2019',\n",
       "       '10/14/2019', '10/13/2019', '10/12/2019', '10/11/2019',\n",
       "       '10/10/2019', '10/9/2019', '10/7/2019', '10/6/2019', '10/5/2019',\n",
       "       '10/4/2019', '10/3/2019', '10/2/2019', '9/30/2019', '9/29/2019',\n",
       "       '9/28/2019', '9/27/2019', '9/26/2019', '9/25/2019', '9/23/2019',\n",
       "       '9/22/2019', '9/21/2019', '9/20/2019', '9/19/2019', '9/18/2019',\n",
       "       '9/16/2019', '9/15/2019', '9/14/2019', '9/13/2019', '9/12/2019',\n",
       "       '9/11/2019', '9/9/2019', '9/8/2019', '9/7/2019', '9/6/2019',\n",
       "       '9/5/2019', '9/4/2019', '9/2/2019', '9/1/2019', '8/31/2019',\n",
       "       '8/30/2019', '8/28/2019', '8/26/2019', '8/25/2019', '8/24/2019',\n",
       "       '8/23/2019', '8/22/2019', '8/21/2019', '8/19/2019', '8/18/2019',\n",
       "       '8/17/2019', '8/16/2019', '8/15/2019', '8/14/2019', '8/12/2019',\n",
       "       '8/11/2019', '8/10/2019', '8/9/2019', '8/8/2019', '8/7/2019',\n",
       "       '8/5/2019', '8/4/2019', '8/3/2019', '8/2/2019', '8/1/2019',\n",
       "       '7/31/2019', '7/29/2019', '7/28/2019', '7/27/2019', '7/26/2019',\n",
       "       '7/25/2019', '7/24/2019', '7/22/2019', '7/21/2019', '7/20/2019',\n",
       "       '7/19/2019', '7/18/2019', '7/17/2019', '7/15/2019', '7/14/2019',\n",
       "       '7/13/2019', '7/12/2019', '7/11/2019', '7/10/2019', '7/8/2019',\n",
       "       '7/7/2019', '7/6/2019', '7/5/2019', '7/4/2019', '7/3/2019',\n",
       "       '7/1/2019', '6/30/2019', '6/29/2019', '6/28/2019', '6/27/2019',\n",
       "       '6/26/2019', '6/24/2019', '6/23/2019', '6/22/2019', '6/21/2019',\n",
       "       '6/20/2019', '6/19/2019', '6/17/2019', '6/16/2019', '6/15/2019',\n",
       "       '6/14/2019', '6/13/2019', '6/12/2019', '6/10/2019', '6/9/2019',\n",
       "       '6/8/2019', '6/7/2019', '6/6/2019', '6/5/2019', '6/3/2019',\n",
       "       '6/2/2019', '6/1/2019', '5/31/2019', '5/29/2019', '5/27/2019',\n",
       "       '5/26/2019', '5/25/2019', '5/24/2019', '5/23/2019', '5/22/2019',\n",
       "       '5/20/2019', '5/19/2019', '5/18/2019', '5/17/2019', '5/16/2019',\n",
       "       '5/15/2019', '5/13/2019', '5/12/2019', '5/11/2019', '5/10/2019',\n",
       "       '5/9/2019', '5/8/2019', '5/6/2019', '5/5/2019', '5/4/2019',\n",
       "       '5/3/2019', '5/1/2019', '4/28/2019', '4/27/2019', '4/26/2019',\n",
       "       '4/21/2019', '4/20/2019', '4/19/2019', '4/18/2019', '4/17/2019',\n",
       "       '4/15/2019', '4/14/2019', '4/13/2019', '4/12/2019', '4/11/2019',\n",
       "       '4/10/2019', '4/8/2019', '4/7/2019', '4/6/2019', '4/5/2019',\n",
       "       '4/4/2019', '4/3/2019', '4/1/2019', '3/31/2019', '3/30/2019',\n",
       "       '3/29/2019', '3/28/2019', '3/27/2019', '3/25/2019', '3/24/2019',\n",
       "       '3/23/2019', '3/22/2019', '3/21/2019', '3/20/2019', '3/18/2019',\n",
       "       '3/17/2019', '3/16/2019', '3/15/2019', '3/14/2019', '3/13/2019',\n",
       "       '3/11/2019', '3/10/2019', '3/9/2019', '3/8/2019', '3/7/2019',\n",
       "       '3/6/2019', '3/4/2019', '3/3/2019', '3/2/2019', '3/1/2019',\n",
       "       '2/28/2019', '2/27/2019', '2/25/2019', '2/24/2019', '2/23/2019',\n",
       "       '2/22/2019', '2/21/2019', '2/20/2019', '2/18/2019', '2/17/2019',\n",
       "       '2/16/2019', '2/15/2019', '2/14/2019', '2/13/2019', '2/11/2019',\n",
       "       '2/10/2019', '2/9/2019', '2/8/2019', '2/7/2019', '2/6/2019',\n",
       "       '2/4/2019', '2/3/2019', '2/2/2019', '2/1/2019', '1/31/2019',\n",
       "       '1/30/2019', '1/28/2019', '1/27/2019', '1/26/2019', '1/25/2019',\n",
       "       '1/24/2019', '1/23/2019', '1/21/2019', '1/20/2019', '1/19/2019',\n",
       "       '1/18/2019', '1/17/2019', '1/16/2019', '1/14/2019', '1/13/2019',\n",
       "       '1/12/2019', '1/11/2019', '1/10/2019', '1/9/2019', '1/7/2019',\n",
       "       '1/6/2019', '1/5/2019', '1/4/2019', '12/23/2018', '12/22/2018',\n",
       "       '12/21/2018', '12/20/2018', '12/19/2018', '12/17/2018',\n",
       "       '12/16/2018', '12/15/2018', '12/14/2018', '12/13/2018',\n",
       "       '12/12/2018', '12/10/2018', '12/9/2018', '12/8/2018', '12/7/2018',\n",
       "       '12/6/2018', '12/5/2018', '12/3/2018', '12/2/2018', '12/1/2018'],\n",
       "      dtype=object)"
      ]
     },
     "execution_count": 26,
     "metadata": {},
     "output_type": "execute_result"
    }
   ],
   "source": [
    "df['Date'].unique()"
   ]
  },
  {
   "cell_type": "code",
   "execution_count": 29,
   "metadata": {},
   "outputs": [],
   "source": [
    "df['Date']= pd.to_datetime(df['Date'], errors='coerce')"
   ]
  },
  {
   "cell_type": "code",
   "execution_count": 32,
   "metadata": {},
   "outputs": [
    {
     "name": "stdout",
     "output_type": "stream",
     "text": [
      "<class 'pandas.core.frame.DataFrame'>\n",
      "RangeIndex: 536295 entries, 0 to 536294\n",
      "Data columns (total 8 columns):\n",
      " #   Column          Non-Null Count   Dtype         \n",
      "---  ------          --------------   -----         \n",
      " 0   Transaction_No  536295 non-null  object        \n",
      " 1   Date            536295 non-null  datetime64[ns]\n",
      " 2   Product_No      536295 non-null  object        \n",
      " 3   Product_Name    536295 non-null  object        \n",
      " 4   Price           536295 non-null  float64       \n",
      " 5   Quantity        536295 non-null  int64         \n",
      " 6   Customer_No     536295 non-null  float64       \n",
      " 7   Country         536295 non-null  object        \n",
      "dtypes: datetime64[ns](1), float64(2), int64(1), object(4)\n",
      "memory usage: 32.7+ MB\n"
     ]
    }
   ],
   "source": [
    "df.info()"
   ]
  },
  {
   "cell_type": "code",
   "execution_count": 37,
   "metadata": {},
   "outputs": [
    {
     "data": {
      "text/plain": [
       "Product_Name\n",
       "Cream Hanging Heart T-Light Holder    2378\n",
       "Regency Cakestand 3 Tier              2200\n",
       "Jumbo Bag Red Retrospot               2159\n",
       "Party Bunting                         1727\n",
       "Lunch Bag Red Retrospot               1639\n",
       "                                      ... \n",
       "Blue Drop Earrings W Bead Cluster        1\n",
       "Pink Chrysanthemums Art Flower           1\n",
       "Necklace+Bracelet Set Pink Daisy         1\n",
       "Scallop Shell Soap Dish                  1\n",
       "Porcelain Hanging Bell Small             1\n",
       "Name: count, Length: 3767, dtype: int64"
      ]
     },
     "execution_count": 37,
     "metadata": {},
     "output_type": "execute_result"
    }
   ],
   "source": [
    "df['Product_Name'].value_counts()"
   ]
  },
  {
   "cell_type": "code",
   "execution_count": 36,
   "metadata": {},
   "outputs": [
    {
     "data": {
      "text/plain": [
       "Price\n",
       "11.53    45475\n",
       "6.19     37527\n",
       "11.12    26491\n",
       "13.27    25815\n",
       "11.94    24244\n",
       "         ...  \n",
       "15.16        1\n",
       "14.47        1\n",
       "50.36        1\n",
       "22.19        1\n",
       "30.27        1\n",
       "Name: count, Length: 527, dtype: int64"
      ]
     },
     "execution_count": 36,
     "metadata": {},
     "output_type": "execute_result"
    }
   ],
   "source": [
    "df.Price.value_counts()"
   ]
  },
  {
   "cell_type": "code",
   "execution_count": null,
   "metadata": {},
   "outputs": [],
   "source": []
  }
 ],
 "metadata": {
  "kernelspec": {
   "display_name": "Python 3",
   "language": "python",
   "name": "python3"
  },
  "language_info": {
   "codemirror_mode": {
    "name": "ipython",
    "version": 3
   },
   "file_extension": ".py",
   "mimetype": "text/x-python",
   "name": "python",
   "nbconvert_exporter": "python",
   "pygments_lexer": "ipython3",
   "version": "3.12.1"
  }
 },
 "nbformat": 4,
 "nbformat_minor": 2
}
