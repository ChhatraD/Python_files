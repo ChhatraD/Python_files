{
 "cells": [
  {
   "cell_type": "code",
   "execution_count": null,
   "metadata": {},
   "outputs": [],
   "source": [
    "from itertools import combinations\n",
    "\n",
    "def generate_teams(players, team_size):\n",
    "    all_teams = list(combinations(players, team_size))\n",
    "    return all_teams\n",
    "\n"
   ]
  },
  {
   "cell_type": "code",
   "execution_count": null,
   "metadata": {},
   "outputs": [],
   "source": [
    "# Example usage:\n",
    "all_players = [\"Rohit Sharma\", \"Shubman Gill\", \"Cheteshwar Pujara\", \"Virat Kohli\", \"Ajinkya Rahane\", \"K L Rahul\", \"KS Bharat\", \"Ravichandran Ashwin\", \"Ravindra Jadeja\", \"Axar Patel\", \"Shardul Thakur\", \"Mohd. Shami\", \"Mohd. Siraj\", \"Umesh Yadav\", \"Jaydev Unadkat\"]\n",
    "\n",
    "all_possible_teams = generate_teams(all_players, 11)\n",
    "\n",
    "# Print all possible teams\n",
    "for i, team in enumerate(all_possible_teams, start=1):\n",
    "    print(f\"Team {i}: {team}\")"
   ]
  },
  {
   "cell_type": "code",
   "execution_count": null,
   "metadata": {},
   "outputs": [],
   "source": [
    "from itertools import combinations\n",
    "\n",
    "def generate_teams(players):\n",
    "    all_teams = []\n",
    "    for team_combination in combinations(players, 11):\n",
    "        for i in range(11):\n",
    "            team = list(team_combination)\n",
    "            captain = team[i]\n",
    "            vice_captain = team[(i + 1) % 11]\n",
    "            team.remove(captain)\n",
    "            team.remove(vice_captain)\n",
    "            team.append({'Captain': captain, 'Vice-Captain': vice_captain})\n",
    "            all_teams.append(team)\n",
    "    return all_teams\n",
    "\n",
    "# Example usage\n",
    "all_players = [\"Rohit Sharma\", \"Shubman Gill\", \"Cheteshwar Pujara\", \"Virat Kohli\", \"Ajinkya Rahane\", \"K L Rahul\", \"KS Bharat\", \"Ravichandran Ashwin\", \"Ravindra Jadeja\", \"Axar Patel\", \"Shardul Thakur\", \"Mohd. Shami\", \"Mohd. Siraj\", \"Umesh Yadav\", \"Jaydev Unadkat\"]\n",
    "\n",
    "all_teams = generate_teams(all_players)\n",
    "\n",
    "# Print all generated teams\n",
    "for index, team in enumerate(all_teams, start=1):\n",
    "    print(f\"Team {index}: {team}\")\n"
   ]
  },
  {
   "cell_type": "code",
   "execution_count": null,
   "metadata": {},
   "outputs": [],
   "source": [
    "from itertools import combinations\n",
    "\n",
    "def generate_teams(players):\n",
    "    all_teams = []\n",
    "    for team_combination in combinations(players, 11):\n",
    "        for i in range(11):\n",
    "            team = list(team_combination)\n",
    "            captain = team[i]\n",
    "            vice_captain = team[(i + 1) % 11]\n",
    "            team.remove(captain)\n",
    "            team.remove(vice_captain)\n",
    "            team.append({'Captain': captain, 'Vice-Captain': vice_captain})\n",
    "            all_teams.append(team)\n",
    "    return all_teams\n",
    "\n",
    "# Example usage\n",
    "all_players = [\"Rohit Sharma\", \"Shubman Gill\", \"Cheteshwar Pujara\", \"Virat Kohli\", \"Ajinkya Rahane\", \"K L Rahul\", \"KS Bharat\", \"Ravichandran Ashwin\", \"Ravindra Jadeja\", \"Axar Patel\", \"Shardul Thakur\"]\n",
    "\n",
    "all_teams = generate_teams(all_players)\n",
    "\n",
    "# Print all generated teams\n",
    "for index, team in enumerate(all_teams, start=1):\n",
    "    print(f\"Team {index}: {team}\")\n"
   ]
  },
  {
   "cell_type": "code",
   "execution_count": null,
   "metadata": {},
   "outputs": [],
   "source": []
  }
 ],
 "metadata": {
  "kernelspec": {
   "display_name": "Python 3",
   "language": "python",
   "name": "python3"
  },
  "language_info": {
   "codemirror_mode": {
    "name": "ipython",
    "version": 3
   },
   "file_extension": ".py",
   "mimetype": "text/x-python",
   "name": "python",
   "nbconvert_exporter": "python",
   "pygments_lexer": "ipython3",
   "version": "3.12.1"
  }
 },
 "nbformat": 4,
 "nbformat_minor": 2
}
